{
 "cells": [
  {
   "cell_type": "markdown",
   "metadata": {},
   "source": [
    "# Capstone Project: Create a Customer Segmentation Report for Arvato Financial Services\n",
    "\n",
    "In this project, you will analyze demographics data for customers of a mail-order sales company in Germany, comparing it against demographics information for the general population. You'll use unsupervised learning techniques to perform customer segmentation, identifying the parts of the population that best describe the core customer base of the company. Then, you'll apply what you've learned on a third dataset with demographics information for targets of a marketing campaign for the company, and use a model to predict which individuals are most likely to convert into becoming customers for the company. The data that you will use has been provided by our partners at Bertelsmann Arvato Analytics, and represents a real-life data science task.\n",
    "\n",
    "If you completed the first term of this program, you will be familiar with the first part of this project, from the unsupervised learning project. The versions of those two datasets used in this project will include many more features and has not been pre-cleaned. You are also free to choose whatever approach you'd like to analyzing the data rather than follow pre-determined steps. In your work on this project, make sure that you carefully document your steps and decisions, since your main deliverable for this project will be a blog post reporting your findings."
   ]
  },
  {
   "cell_type": "code",
   "execution_count": 1,
   "metadata": {
    "scrolled": false
   },
   "outputs": [
    {
     "ename": "ModuleNotFoundError",
     "evalue": "No module named 'xgboost'",
     "output_type": "error",
     "traceback": [
      "\u001b[0;31m---------------------------------------------------------------------------\u001b[0m",
      "\u001b[0;31mModuleNotFoundError\u001b[0m                       Traceback (most recent call last)",
      "\u001b[0;32m<ipython-input-1-18130740cd48>\u001b[0m in \u001b[0;36m<module>\u001b[0;34m()\u001b[0m\n\u001b[1;32m     13\u001b[0m \u001b[0;32mfrom\u001b[0m \u001b[0msklearn\u001b[0m\u001b[0;34m.\u001b[0m\u001b[0mpipeline\u001b[0m \u001b[0;32mimport\u001b[0m \u001b[0mPipeline\u001b[0m\u001b[0;34m\u001b[0m\u001b[0m\n\u001b[1;32m     14\u001b[0m \u001b[0;32mfrom\u001b[0m \u001b[0msklearn\u001b[0m\u001b[0;34m.\u001b[0m\u001b[0mmetrics\u001b[0m \u001b[0;32mimport\u001b[0m \u001b[0mroc_auc_score\u001b[0m\u001b[0;34m\u001b[0m\u001b[0m\n\u001b[0;32m---> 15\u001b[0;31m \u001b[0;32mfrom\u001b[0m \u001b[0mxgboost\u001b[0m \u001b[0;32mimport\u001b[0m \u001b[0mXGBRegressor\u001b[0m\u001b[0;34m\u001b[0m\u001b[0m\n\u001b[0m\u001b[1;32m     16\u001b[0m \u001b[0;34m\u001b[0m\u001b[0m\n\u001b[1;32m     17\u001b[0m \u001b[0;31m# magic word for producing visualizations in notebook\u001b[0m\u001b[0;34m\u001b[0m\u001b[0;34m\u001b[0m\u001b[0m\n",
      "\u001b[0;31mModuleNotFoundError\u001b[0m: No module named 'xgboost'"
     ]
    }
   ],
   "source": [
    "# import libraries here; add more as necessary\n",
    "import numpy as np\n",
    "import pandas as pd\n",
    "import matplotlib.pyplot as plt\n",
    "import seaborn as sns\n",
    "from datetime import datetime\n",
    "from sklearn.preprocessing import Imputer, StandardScaler, LabelEncoder\n",
    "from sklearn.cluster import KMeans, MiniBatchKMeans\n",
    "from sklearn.decomposition import PCA    \n",
    "from sklearn.model_selection import GridSearchCV, StratifiedKFold\n",
    "from sklearn.linear_model import LogisticRegression\n",
    "from sklearn.ensemble import AdaBoostClassifier, GradientBoostingClassifier, BaggingClassifier, RandomForestRegressor\n",
    "from sklearn.pipeline import Pipeline\n",
    "from sklearn.metrics import roc_auc_score\n",
    "\n",
    "# magic word for producing visualizations in notebook\n",
    "%matplotlib inline"
   ]
  },
  {
   "cell_type": "markdown",
   "metadata": {},
   "source": [
    "## Part 0: Get to Know the Data\n",
    "\n",
    "There are four data files associated with this project:\n",
    "\n",
    "- `Udacity_AZDIAS_052018.csv`: Demographics data for the general population of Germany; 891 211 persons (rows) x 366 features (columns).\n",
    "- `Udacity_CUSTOMERS_052018.csv`: Demographics data for customers of a mail-order company; 191 652 persons (rows) x 369 features (columns).\n",
    "- `Udacity_MAILOUT_052018_TRAIN.csv`: Demographics data for individuals who were targets of a marketing campaign; 42 982 persons (rows) x 367 (columns).\n",
    "- `Udacity_MAILOUT_052018_TEST.csv`: Demographics data for individuals who were targets of a marketing campaign; 42 833 persons (rows) x 366 (columns).\n",
    "\n",
    "Each row of the demographics files represents a single person, but also includes information outside of individuals, including information about their household, building, and neighborhood. Use the information from the first two files to figure out how customers (\"CUSTOMERS\") are similar to or differ from the general population at large (\"AZDIAS\"), then use your analysis to make predictions on the other two files (\"MAILOUT\"), predicting which recipients are most likely to become a customer for the mail-order company.\n",
    "\n",
    "The \"CUSTOMERS\" file contains three extra columns ('CUSTOMER_GROUP', 'ONLINE_PURCHASE', and 'PRODUCT_GROUP'), which provide broad information about the customers depicted in the file. The original \"MAILOUT\" file included one additional column, \"RESPONSE\", which indicated whether or not each recipient became a customer of the company. For the \"TRAIN\" subset, this column has been retained, but in the \"TEST\" subset it has been removed; it is against that withheld column that your final predictions will be assessed in the Kaggle competition.\n",
    "\n",
    "Otherwise, all of the remaining columns are the same between the three data files. For more information about the columns depicted in the files, you can refer to two Excel spreadsheets provided in the workspace. [One of them](./DIAS Information Levels - Attributes 2017.xlsx) is a top-level list of attributes and descriptions, organized by informational category. [The other](./DIAS Attributes - Values 2017.xlsx) is a detailed mapping of data values for each feature in alphabetical order.\n",
    "\n",
    "In the below cell, we've provided some initial code to load in the first two datasets. Note for all of the `.csv` data files in this project that they're semicolon (`;`) delimited, so an additional argument in the [`read_csv()`](https://pandas.pydata.org/pandas-docs/stable/generated/pandas.read_csv.html) call has been included to read in the data properly. Also, considering the size of the datasets, it may take some time for them to load completely.\n",
    "\n",
    "You'll notice when the data is loaded in that a warning message will immediately pop up. Before you really start digging into the modeling and analysis, you're going to need to perform some cleaning. Take some time to browse the structure of the data and look over the informational spreadsheets to understand the data values. Make some decisions on which features to keep, which features to drop, and if any revisions need to be made on data formats. It'll be a good idea to create a function with pre-processing steps, since you'll need to clean all of the datasets before you work with them."
   ]
  },
  {
   "cell_type": "code",
   "execution_count": 9,
   "metadata": {},
   "outputs": [],
   "source": [
    "# load in the data\n",
    "azdias = pd.read_csv('../../data/Term2/capstone/arvato_data/Udacity_AZDIAS_052018.csv', sep=';', dtype={18:'str', 19:'str'})\n",
    "customers = pd.read_csv('../../data/Term2/capstone/arvato_data/Udacity_CUSTOMERS_052018.csv', sep=';', dtype={18:'str', 19:'str'})"
   ]
  },
  {
   "cell_type": "code",
   "execution_count": 10,
   "metadata": {
    "scrolled": true
   },
   "outputs": [
    {
     "data": {
      "text/html": [
       "<div>\n",
       "<style scoped>\n",
       "    .dataframe tbody tr th:only-of-type {\n",
       "        vertical-align: middle;\n",
       "    }\n",
       "\n",
       "    .dataframe tbody tr th {\n",
       "        vertical-align: top;\n",
       "    }\n",
       "\n",
       "    .dataframe thead th {\n",
       "        text-align: right;\n",
       "    }\n",
       "</style>\n",
       "<table border=\"1\" class=\"dataframe\">\n",
       "  <thead>\n",
       "    <tr style=\"text-align: right;\">\n",
       "      <th></th>\n",
       "      <th>LNR</th>\n",
       "      <th>AGER_TYP</th>\n",
       "      <th>AKT_DAT_KL</th>\n",
       "      <th>ALTER_HH</th>\n",
       "      <th>ALTER_KIND1</th>\n",
       "      <th>ALTER_KIND2</th>\n",
       "      <th>ALTER_KIND3</th>\n",
       "      <th>ALTER_KIND4</th>\n",
       "      <th>ALTERSKATEGORIE_FEIN</th>\n",
       "      <th>ANZ_HAUSHALTE_AKTIV</th>\n",
       "      <th>...</th>\n",
       "      <th>VHN</th>\n",
       "      <th>VK_DHT4A</th>\n",
       "      <th>VK_DISTANZ</th>\n",
       "      <th>VK_ZG11</th>\n",
       "      <th>W_KEIT_KIND_HH</th>\n",
       "      <th>WOHNDAUER_2008</th>\n",
       "      <th>WOHNLAGE</th>\n",
       "      <th>ZABEOTYP</th>\n",
       "      <th>ANREDE_KZ</th>\n",
       "      <th>ALTERSKATEGORIE_GROB</th>\n",
       "    </tr>\n",
       "  </thead>\n",
       "  <tbody>\n",
       "    <tr>\n",
       "      <th>0</th>\n",
       "      <td>910215</td>\n",
       "      <td>-1</td>\n",
       "      <td>NaN</td>\n",
       "      <td>NaN</td>\n",
       "      <td>NaN</td>\n",
       "      <td>NaN</td>\n",
       "      <td>NaN</td>\n",
       "      <td>NaN</td>\n",
       "      <td>NaN</td>\n",
       "      <td>NaN</td>\n",
       "      <td>...</td>\n",
       "      <td>NaN</td>\n",
       "      <td>NaN</td>\n",
       "      <td>NaN</td>\n",
       "      <td>NaN</td>\n",
       "      <td>NaN</td>\n",
       "      <td>NaN</td>\n",
       "      <td>NaN</td>\n",
       "      <td>3</td>\n",
       "      <td>1</td>\n",
       "      <td>2</td>\n",
       "    </tr>\n",
       "    <tr>\n",
       "      <th>1</th>\n",
       "      <td>910220</td>\n",
       "      <td>-1</td>\n",
       "      <td>9.0</td>\n",
       "      <td>0.0</td>\n",
       "      <td>NaN</td>\n",
       "      <td>NaN</td>\n",
       "      <td>NaN</td>\n",
       "      <td>NaN</td>\n",
       "      <td>21.0</td>\n",
       "      <td>11.0</td>\n",
       "      <td>...</td>\n",
       "      <td>4.0</td>\n",
       "      <td>8.0</td>\n",
       "      <td>11.0</td>\n",
       "      <td>10.0</td>\n",
       "      <td>3.0</td>\n",
       "      <td>9.0</td>\n",
       "      <td>4.0</td>\n",
       "      <td>5</td>\n",
       "      <td>2</td>\n",
       "      <td>1</td>\n",
       "    </tr>\n",
       "    <tr>\n",
       "      <th>2</th>\n",
       "      <td>910225</td>\n",
       "      <td>-1</td>\n",
       "      <td>9.0</td>\n",
       "      <td>17.0</td>\n",
       "      <td>NaN</td>\n",
       "      <td>NaN</td>\n",
       "      <td>NaN</td>\n",
       "      <td>NaN</td>\n",
       "      <td>17.0</td>\n",
       "      <td>10.0</td>\n",
       "      <td>...</td>\n",
       "      <td>2.0</td>\n",
       "      <td>9.0</td>\n",
       "      <td>9.0</td>\n",
       "      <td>6.0</td>\n",
       "      <td>3.0</td>\n",
       "      <td>9.0</td>\n",
       "      <td>2.0</td>\n",
       "      <td>5</td>\n",
       "      <td>2</td>\n",
       "      <td>3</td>\n",
       "    </tr>\n",
       "    <tr>\n",
       "      <th>3</th>\n",
       "      <td>910226</td>\n",
       "      <td>2</td>\n",
       "      <td>1.0</td>\n",
       "      <td>13.0</td>\n",
       "      <td>NaN</td>\n",
       "      <td>NaN</td>\n",
       "      <td>NaN</td>\n",
       "      <td>NaN</td>\n",
       "      <td>13.0</td>\n",
       "      <td>1.0</td>\n",
       "      <td>...</td>\n",
       "      <td>0.0</td>\n",
       "      <td>7.0</td>\n",
       "      <td>10.0</td>\n",
       "      <td>11.0</td>\n",
       "      <td>NaN</td>\n",
       "      <td>9.0</td>\n",
       "      <td>7.0</td>\n",
       "      <td>3</td>\n",
       "      <td>2</td>\n",
       "      <td>4</td>\n",
       "    </tr>\n",
       "    <tr>\n",
       "      <th>4</th>\n",
       "      <td>910241</td>\n",
       "      <td>-1</td>\n",
       "      <td>1.0</td>\n",
       "      <td>20.0</td>\n",
       "      <td>NaN</td>\n",
       "      <td>NaN</td>\n",
       "      <td>NaN</td>\n",
       "      <td>NaN</td>\n",
       "      <td>14.0</td>\n",
       "      <td>3.0</td>\n",
       "      <td>...</td>\n",
       "      <td>2.0</td>\n",
       "      <td>3.0</td>\n",
       "      <td>5.0</td>\n",
       "      <td>4.0</td>\n",
       "      <td>2.0</td>\n",
       "      <td>9.0</td>\n",
       "      <td>3.0</td>\n",
       "      <td>4</td>\n",
       "      <td>1</td>\n",
       "      <td>3</td>\n",
       "    </tr>\n",
       "  </tbody>\n",
       "</table>\n",
       "<p>5 rows × 366 columns</p>\n",
       "</div>"
      ],
      "text/plain": [
       "      LNR  AGER_TYP  AKT_DAT_KL  ALTER_HH  ALTER_KIND1  ALTER_KIND2  \\\n",
       "0  910215        -1         NaN       NaN          NaN          NaN   \n",
       "1  910220        -1         9.0       0.0          NaN          NaN   \n",
       "2  910225        -1         9.0      17.0          NaN          NaN   \n",
       "3  910226         2         1.0      13.0          NaN          NaN   \n",
       "4  910241        -1         1.0      20.0          NaN          NaN   \n",
       "\n",
       "   ALTER_KIND3  ALTER_KIND4  ALTERSKATEGORIE_FEIN  ANZ_HAUSHALTE_AKTIV  \\\n",
       "0          NaN          NaN                   NaN                  NaN   \n",
       "1          NaN          NaN                  21.0                 11.0   \n",
       "2          NaN          NaN                  17.0                 10.0   \n",
       "3          NaN          NaN                  13.0                  1.0   \n",
       "4          NaN          NaN                  14.0                  3.0   \n",
       "\n",
       "          ...           VHN  VK_DHT4A  VK_DISTANZ  VK_ZG11  W_KEIT_KIND_HH  \\\n",
       "0         ...           NaN       NaN         NaN      NaN             NaN   \n",
       "1         ...           4.0       8.0        11.0     10.0             3.0   \n",
       "2         ...           2.0       9.0         9.0      6.0             3.0   \n",
       "3         ...           0.0       7.0        10.0     11.0             NaN   \n",
       "4         ...           2.0       3.0         5.0      4.0             2.0   \n",
       "\n",
       "   WOHNDAUER_2008  WOHNLAGE ZABEOTYP ANREDE_KZ ALTERSKATEGORIE_GROB  \n",
       "0             NaN       NaN        3         1                    2  \n",
       "1             9.0       4.0        5         2                    1  \n",
       "2             9.0       2.0        5         2                    3  \n",
       "3             9.0       7.0        3         2                    4  \n",
       "4             9.0       3.0        4         1                    3  \n",
       "\n",
       "[5 rows x 366 columns]"
      ]
     },
     "execution_count": 10,
     "metadata": {},
     "output_type": "execute_result"
    }
   ],
   "source": [
    "azdias.head()"
   ]
  },
  {
   "cell_type": "code",
   "execution_count": 11,
   "metadata": {},
   "outputs": [
    {
     "name": "stdout",
     "output_type": "stream",
     "text": [
      "<class 'pandas.core.frame.DataFrame'>\n",
      "RangeIndex: 891221 entries, 0 to 891220\n",
      "Columns: 366 entries, LNR to ALTERSKATEGORIE_GROB\n",
      "dtypes: float64(267), int64(93), object(6)\n",
      "memory usage: 2.4+ GB\n"
     ]
    }
   ],
   "source": [
    "azdias.info()"
   ]
  },
  {
   "cell_type": "code",
   "execution_count": 12,
   "metadata": {},
   "outputs": [],
   "source": [
    "# Drop the extra column of customers dataset.\n",
    "customers.drop(columns=['CUSTOMER_GROUP', 'ONLINE_PURCHASE', 'PRODUCT_GROUP'], inplace=True)"
   ]
  },
  {
   "cell_type": "code",
   "execution_count": 13,
   "metadata": {},
   "outputs": [
    {
     "data": {
      "text/html": [
       "<div>\n",
       "<style scoped>\n",
       "    .dataframe tbody tr th:only-of-type {\n",
       "        vertical-align: middle;\n",
       "    }\n",
       "\n",
       "    .dataframe tbody tr th {\n",
       "        vertical-align: top;\n",
       "    }\n",
       "\n",
       "    .dataframe thead th {\n",
       "        text-align: right;\n",
       "    }\n",
       "</style>\n",
       "<table border=\"1\" class=\"dataframe\">\n",
       "  <thead>\n",
       "    <tr style=\"text-align: right;\">\n",
       "      <th></th>\n",
       "      <th>LNR</th>\n",
       "      <th>AGER_TYP</th>\n",
       "      <th>AKT_DAT_KL</th>\n",
       "      <th>ALTER_HH</th>\n",
       "      <th>ALTER_KIND1</th>\n",
       "      <th>ALTER_KIND2</th>\n",
       "      <th>ALTER_KIND3</th>\n",
       "      <th>ALTER_KIND4</th>\n",
       "      <th>ALTERSKATEGORIE_FEIN</th>\n",
       "      <th>ANZ_HAUSHALTE_AKTIV</th>\n",
       "      <th>...</th>\n",
       "      <th>VHN</th>\n",
       "      <th>VK_DHT4A</th>\n",
       "      <th>VK_DISTANZ</th>\n",
       "      <th>VK_ZG11</th>\n",
       "      <th>W_KEIT_KIND_HH</th>\n",
       "      <th>WOHNDAUER_2008</th>\n",
       "      <th>WOHNLAGE</th>\n",
       "      <th>ZABEOTYP</th>\n",
       "      <th>ANREDE_KZ</th>\n",
       "      <th>ALTERSKATEGORIE_GROB</th>\n",
       "    </tr>\n",
       "  </thead>\n",
       "  <tbody>\n",
       "    <tr>\n",
       "      <th>0</th>\n",
       "      <td>9626</td>\n",
       "      <td>2</td>\n",
       "      <td>1.0</td>\n",
       "      <td>10.0</td>\n",
       "      <td>NaN</td>\n",
       "      <td>NaN</td>\n",
       "      <td>NaN</td>\n",
       "      <td>NaN</td>\n",
       "      <td>10.0</td>\n",
       "      <td>1.0</td>\n",
       "      <td>...</td>\n",
       "      <td>3.0</td>\n",
       "      <td>5.0</td>\n",
       "      <td>3.0</td>\n",
       "      <td>2.0</td>\n",
       "      <td>6.0</td>\n",
       "      <td>9.0</td>\n",
       "      <td>7.0</td>\n",
       "      <td>3</td>\n",
       "      <td>1</td>\n",
       "      <td>4</td>\n",
       "    </tr>\n",
       "    <tr>\n",
       "      <th>1</th>\n",
       "      <td>9628</td>\n",
       "      <td>-1</td>\n",
       "      <td>9.0</td>\n",
       "      <td>11.0</td>\n",
       "      <td>NaN</td>\n",
       "      <td>NaN</td>\n",
       "      <td>NaN</td>\n",
       "      <td>NaN</td>\n",
       "      <td>NaN</td>\n",
       "      <td>NaN</td>\n",
       "      <td>...</td>\n",
       "      <td>NaN</td>\n",
       "      <td>6.0</td>\n",
       "      <td>6.0</td>\n",
       "      <td>3.0</td>\n",
       "      <td>0.0</td>\n",
       "      <td>9.0</td>\n",
       "      <td>NaN</td>\n",
       "      <td>3</td>\n",
       "      <td>1</td>\n",
       "      <td>4</td>\n",
       "    </tr>\n",
       "    <tr>\n",
       "      <th>2</th>\n",
       "      <td>143872</td>\n",
       "      <td>-1</td>\n",
       "      <td>1.0</td>\n",
       "      <td>6.0</td>\n",
       "      <td>NaN</td>\n",
       "      <td>NaN</td>\n",
       "      <td>NaN</td>\n",
       "      <td>NaN</td>\n",
       "      <td>0.0</td>\n",
       "      <td>1.0</td>\n",
       "      <td>...</td>\n",
       "      <td>4.0</td>\n",
       "      <td>10.0</td>\n",
       "      <td>13.0</td>\n",
       "      <td>11.0</td>\n",
       "      <td>6.0</td>\n",
       "      <td>9.0</td>\n",
       "      <td>2.0</td>\n",
       "      <td>3</td>\n",
       "      <td>2</td>\n",
       "      <td>4</td>\n",
       "    </tr>\n",
       "    <tr>\n",
       "      <th>3</th>\n",
       "      <td>143873</td>\n",
       "      <td>1</td>\n",
       "      <td>1.0</td>\n",
       "      <td>8.0</td>\n",
       "      <td>NaN</td>\n",
       "      <td>NaN</td>\n",
       "      <td>NaN</td>\n",
       "      <td>NaN</td>\n",
       "      <td>8.0</td>\n",
       "      <td>0.0</td>\n",
       "      <td>...</td>\n",
       "      <td>2.0</td>\n",
       "      <td>6.0</td>\n",
       "      <td>4.0</td>\n",
       "      <td>2.0</td>\n",
       "      <td>NaN</td>\n",
       "      <td>9.0</td>\n",
       "      <td>7.0</td>\n",
       "      <td>1</td>\n",
       "      <td>1</td>\n",
       "      <td>4</td>\n",
       "    </tr>\n",
       "    <tr>\n",
       "      <th>4</th>\n",
       "      <td>143874</td>\n",
       "      <td>-1</td>\n",
       "      <td>1.0</td>\n",
       "      <td>20.0</td>\n",
       "      <td>NaN</td>\n",
       "      <td>NaN</td>\n",
       "      <td>NaN</td>\n",
       "      <td>NaN</td>\n",
       "      <td>14.0</td>\n",
       "      <td>7.0</td>\n",
       "      <td>...</td>\n",
       "      <td>4.0</td>\n",
       "      <td>3.0</td>\n",
       "      <td>5.0</td>\n",
       "      <td>4.0</td>\n",
       "      <td>2.0</td>\n",
       "      <td>9.0</td>\n",
       "      <td>3.0</td>\n",
       "      <td>1</td>\n",
       "      <td>1</td>\n",
       "      <td>3</td>\n",
       "    </tr>\n",
       "  </tbody>\n",
       "</table>\n",
       "<p>5 rows × 366 columns</p>\n",
       "</div>"
      ],
      "text/plain": [
       "      LNR  AGER_TYP  AKT_DAT_KL  ALTER_HH  ALTER_KIND1  ALTER_KIND2  \\\n",
       "0    9626         2         1.0      10.0          NaN          NaN   \n",
       "1    9628        -1         9.0      11.0          NaN          NaN   \n",
       "2  143872        -1         1.0       6.0          NaN          NaN   \n",
       "3  143873         1         1.0       8.0          NaN          NaN   \n",
       "4  143874        -1         1.0      20.0          NaN          NaN   \n",
       "\n",
       "   ALTER_KIND3  ALTER_KIND4  ALTERSKATEGORIE_FEIN  ANZ_HAUSHALTE_AKTIV  \\\n",
       "0          NaN          NaN                  10.0                  1.0   \n",
       "1          NaN          NaN                   NaN                  NaN   \n",
       "2          NaN          NaN                   0.0                  1.0   \n",
       "3          NaN          NaN                   8.0                  0.0   \n",
       "4          NaN          NaN                  14.0                  7.0   \n",
       "\n",
       "          ...           VHN  VK_DHT4A  VK_DISTANZ  VK_ZG11  W_KEIT_KIND_HH  \\\n",
       "0         ...           3.0       5.0         3.0      2.0             6.0   \n",
       "1         ...           NaN       6.0         6.0      3.0             0.0   \n",
       "2         ...           4.0      10.0        13.0     11.0             6.0   \n",
       "3         ...           2.0       6.0         4.0      2.0             NaN   \n",
       "4         ...           4.0       3.0         5.0      4.0             2.0   \n",
       "\n",
       "   WOHNDAUER_2008  WOHNLAGE ZABEOTYP ANREDE_KZ ALTERSKATEGORIE_GROB  \n",
       "0             9.0       7.0        3         1                    4  \n",
       "1             9.0       NaN        3         1                    4  \n",
       "2             9.0       2.0        3         2                    4  \n",
       "3             9.0       7.0        1         1                    4  \n",
       "4             9.0       3.0        1         1                    3  \n",
       "\n",
       "[5 rows x 366 columns]"
      ]
     },
     "execution_count": 13,
     "metadata": {},
     "output_type": "execute_result"
    }
   ],
   "source": [
    "customers.head()"
   ]
  },
  {
   "cell_type": "code",
   "execution_count": 14,
   "metadata": {},
   "outputs": [
    {
     "name": "stdout",
     "output_type": "stream",
     "text": [
      "<class 'pandas.core.frame.DataFrame'>\n",
      "RangeIndex: 191652 entries, 0 to 191651\n",
      "Columns: 366 entries, LNR to ALTERSKATEGORIE_GROB\n",
      "dtypes: float64(267), int64(93), object(6)\n",
      "memory usage: 535.2+ MB\n"
     ]
    }
   ],
   "source": [
    "customers.info()"
   ]
  },
  {
   "cell_type": "code",
   "execution_count": 15,
   "metadata": {},
   "outputs": [
    {
     "name": "stdout",
     "output_type": "stream",
     "text": [
      "CAMEO_DEU_2015\n",
      "CAMEO_DEUG_2015\n",
      "CAMEO_INTL_2015\n"
     ]
    }
   ],
   "source": [
    "# check which columns contain 'X' or 'XX' in the population dataset\n",
    "for col in azdias.columns:\n",
    "    if ('X' in set(azdias[col].unique())) or ('XX' in set(azdias[col].unique())):\n",
    "        print(col)"
   ]
  },
  {
   "cell_type": "markdown",
   "metadata": {},
   "source": [
    "('X', 'XX') in columns CAMEO_DEU_2015, CAMEO_DEUG_2015, CAMEO_INTL_2015 represents missing values, which will be converted into np.nan."
   ]
  },
  {
   "cell_type": "markdown",
   "metadata": {},
   "source": [
    "## Part 0.1 Data Processing\n",
    "\n",
    "0.1.1 Data Processing for Azdiaz data\n",
    "\n",
    "Look at dictionary files and encode missing values to nan's"
   ]
  },
  {
   "cell_type": "code",
   "execution_count": 16,
   "metadata": {},
   "outputs": [
    {
     "name": "stdout",
     "output_type": "stream",
     "text": [
      "   Unnamed: 0 Information level             Attribute  \\\n",
      "0         NaN               NaN              AGER_TYP   \n",
      "1         NaN            Person  ALTERSKATEGORIE_GROB   \n",
      "2         NaN               NaN             ANREDE_KZ   \n",
      "3         NaN               NaN         CJT_GESAMTTYP   \n",
      "4         NaN               NaN     FINANZ_MINIMALIST   \n",
      "\n",
      "                                         Description  \\\n",
      "0                                 best-ager typology   \n",
      "1                      age through prename analysis    \n",
      "2                                             gender   \n",
      "3  Customer-Journey-Typology relating to the pref...   \n",
      "4         financial typology: low financial interest   \n",
      "\n",
      "                                    Additional notes  \n",
      "0  in cooperation with Kantar TNS; the informatio...  \n",
      "1  modelled on millions of first name-age-referen...  \n",
      "2                                                NaN  \n",
      "3  relating to the preferred information, marketi...  \n",
      "4  Gfk-Typology based on a representative househo...  \n",
      "***\n",
      "(313, 5)\n"
     ]
    }
   ],
   "source": [
    "# read in feature info file\n",
    "feat_info_level = pd.read_excel('./DIAS Information Levels - Attributes 2017.xlsx')\n",
    "print(feat_info_level.head())\n",
    "print('***')\n",
    "print(feat_info_level.shape)"
   ]
  },
  {
   "cell_type": "code",
   "execution_count": 17,
   "metadata": {},
   "outputs": [
    {
     "name": "stdout",
     "output_type": "stream",
     "text": [
      "  Attribute         Description Value                     Meaning\n",
      "0  AGER_TYP  best-ager typology    -1                     unknown\n",
      "1       NaN                 NaN     0  no classification possible\n",
      "2       NaN                 NaN     1             passive elderly\n",
      "3       NaN                 NaN     2            cultural elderly\n",
      "4       NaN                 NaN     3   experience-driven elderly\n",
      "***\n",
      "(2258, 4)\n"
     ]
    }
   ],
   "source": [
    "# read in feature info file\n",
    "feat_info_val = pd.read_excel('./DIAS Attributes - Values 2017.xlsx', usecols = \"B:E\")\n",
    "\n",
    "print(feat_info_val.head())\n",
    "print('***')\n",
    "print(feat_info_val.shape)"
   ]
  },
  {
   "cell_type": "markdown",
   "metadata": {},
   "source": [
    "I have had a quick look ahead and notice that there where a large number of feature not pick up between the list and azdias due to a prefix in the 'D19' column. As there is non-overlaping features these mostly belonged to transaction-related features."
   ]
  },
  {
   "cell_type": "code",
   "execution_count": 18,
   "metadata": {},
   "outputs": [],
   "source": [
    "feat_info_val['Attribute'] = feat_info_val['Attribute'].fillna(method='ffill')\n",
    "feat_info_val['Attribute'] = feat_info_val['Attribute'].str.replace('_RZ','')\n",
    "feat_info_val['Attribute'] = feat_info_val['Attribute'].replace(to_replace = 'SOHO_FLAG', value ='SOHO_KZ')"
   ]
  },
  {
   "cell_type": "code",
   "execution_count": 19,
   "metadata": {},
   "outputs": [
    {
     "data": {
      "text/html": [
       "<div>\n",
       "<style scoped>\n",
       "    .dataframe tbody tr th:only-of-type {\n",
       "        vertical-align: middle;\n",
       "    }\n",
       "\n",
       "    .dataframe tbody tr th {\n",
       "        vertical-align: top;\n",
       "    }\n",
       "\n",
       "    .dataframe thead th {\n",
       "        text-align: right;\n",
       "    }\n",
       "</style>\n",
       "<table border=\"1\" class=\"dataframe\">\n",
       "  <thead>\n",
       "    <tr style=\"text-align: right;\">\n",
       "      <th></th>\n",
       "      <th>Attribute</th>\n",
       "      <th>Description</th>\n",
       "      <th>Value</th>\n",
       "      <th>Meaning</th>\n",
       "    </tr>\n",
       "  </thead>\n",
       "  <tbody>\n",
       "    <tr>\n",
       "      <th>0</th>\n",
       "      <td>AGER_TYP</td>\n",
       "      <td>best-ager typology</td>\n",
       "      <td>-1</td>\n",
       "      <td>unknown</td>\n",
       "    </tr>\n",
       "    <tr>\n",
       "      <th>1</th>\n",
       "      <td>AGER_TYP</td>\n",
       "      <td>NaN</td>\n",
       "      <td>0</td>\n",
       "      <td>no classification possible</td>\n",
       "    </tr>\n",
       "    <tr>\n",
       "      <th>5</th>\n",
       "      <td>ALTERSKATEGORIE_GROB</td>\n",
       "      <td>age classification through prename analysis</td>\n",
       "      <td>-1, 0</td>\n",
       "      <td>unknown</td>\n",
       "    </tr>\n",
       "    <tr>\n",
       "      <th>11</th>\n",
       "      <td>ALTER_HH</td>\n",
       "      <td>main age within the household</td>\n",
       "      <td>0</td>\n",
       "      <td>unknown / no main age detectable</td>\n",
       "    </tr>\n",
       "    <tr>\n",
       "      <th>33</th>\n",
       "      <td>ANREDE_KZ</td>\n",
       "      <td>gender</td>\n",
       "      <td>-1, 0</td>\n",
       "      <td>unknown</td>\n",
       "    </tr>\n",
       "  </tbody>\n",
       "</table>\n",
       "</div>"
      ],
      "text/plain": [
       "               Attribute                                   Description  Value  \\\n",
       "0               AGER_TYP                            best-ager typology     -1   \n",
       "1               AGER_TYP                                           NaN      0   \n",
       "5   ALTERSKATEGORIE_GROB  age classification through prename analysis   -1, 0   \n",
       "11              ALTER_HH                 main age within the household      0   \n",
       "33             ANREDE_KZ                                        gender  -1, 0   \n",
       "\n",
       "                             Meaning  \n",
       "0                            unknown  \n",
       "1         no classification possible  \n",
       "5                            unknown  \n",
       "11  unknown / no main age detectable  \n",
       "33                           unknown  "
      ]
     },
     "execution_count": 19,
     "metadata": {},
     "output_type": "execute_result"
    }
   ],
   "source": [
    "#filter for only unknowns\n",
    "feat_info_val = feat_info_val[(feat_info_val['Meaning'].str.contains('unknown') | feat_info_val['Meaning'].str.contains('no '))]\n",
    "feat_info_val.head()"
   ]
  },
  {
   "cell_type": "code",
   "execution_count": 20,
   "metadata": {},
   "outputs": [
    {
     "data": {
      "text/plain": [
       "['AGER_TYP',\n",
       " 'AGER_TYP',\n",
       " 'ALTERSKATEGORIE_GROB',\n",
       " 'ALTER_HH',\n",
       " 'ANREDE_KZ',\n",
       " 'BALLRAUM',\n",
       " 'BIP_FLAG',\n",
       " 'BIP_FLAG',\n",
       " 'CAMEO_DEUG_2015',\n",
       " 'CAMEO_DEUINTL_2015',\n",
       " 'CJT_GESAMTTYP',\n",
       " 'D19_BANKEN_ANZ_12',\n",
       " 'D19_BANKEN_ANZ_24',\n",
       " 'D19_BANKEN_DATUM',\n",
       " 'D19_BANKEN_DIREKT',\n",
       " 'D19_BANKEN_GROSS',\n",
       " 'D19_BANKEN_LOKAL',\n",
       " 'D19_BANKEN_OFFLINE_DATUM',\n",
       " 'D19_BANKEN_ONLINE_DATUM',\n",
       " 'D19_BANKEN_ONLINE_QUOTE_12',\n",
       " 'D19_BANKEN_REST',\n",
       " 'D19_BEKLEIDUNG_GEH',\n",
       " 'D19_BEKLEIDUNG_REST',\n",
       " 'D19_BILDUNG',\n",
       " 'D19_BIO_OEKO',\n",
       " 'D19_BUCH',\n",
       " 'D19_DIGIT_SERV',\n",
       " 'D19_DROGERIEARTIKEL',\n",
       " 'D19_ENERGIE',\n",
       " 'D19_FREIZEIT',\n",
       " 'D19_GARTEN',\n",
       " 'D19_GESAMT_ANZ_12',\n",
       " 'D19_GESAMT_ANZ_24',\n",
       " 'D19_GESAMT_DATUM',\n",
       " 'D19_GESAMT_OFFLINE_DATUM',\n",
       " 'D19_GESAMT_ONLINE_DATUM',\n",
       " 'D19_GESAMT_ONLINE_QUOTE_12',\n",
       " 'D19_HANDWERK',\n",
       " 'D19_HAUS_DEKO',\n",
       " 'D19_KINDERARTIKEL',\n",
       " 'D19_KK_KUNDENTYP',\n",
       " 'D19_KOSMETIK',\n",
       " 'D19_LEBENSMITTEL',\n",
       " 'D19_LOTTO',\n",
       " 'D19_NAHRUNGSERGAENZUNG',\n",
       " 'D19_RATGEBER',\n",
       " 'D19_REISEN',\n",
       " 'D19_SAMMELARTIKEL',\n",
       " 'D19_SCHUHE',\n",
       " 'D19_SONSTIGE',\n",
       " 'D19_TECHNIK',\n",
       " 'D19_TELKO_ANZ_12',\n",
       " 'D19_TELKO_ANZ_24',\n",
       " 'D19_TELKO_DATUM',\n",
       " 'D19_TELKO_MOBILE',\n",
       " 'D19_TELKO_OFFLINE_DATUM',\n",
       " 'D19_TELKO_ONLINE_DATUM',\n",
       " 'D19_TELKO_REST',\n",
       " 'D19_TIERARTIKEL',\n",
       " 'D19_VERSAND_ANZ_12',\n",
       " 'D19_VERSAND_ANZ_24',\n",
       " 'D19_VERSAND_DATUM',\n",
       " 'D19_VERSAND_OFFLINE_DATUM',\n",
       " 'D19_VERSAND_ONLINE_DATUM',\n",
       " 'D19_VERSAND_ONLINE_QUOTE_12',\n",
       " 'D19_VERSAND_REST',\n",
       " 'D19_VERSICHERUNGEN',\n",
       " 'D19_VERSI_ANZ_12',\n",
       " 'D19_VERSI_ANZ_24',\n",
       " 'D19_VOLLSORTIMENT',\n",
       " 'D19_WEIN_FEINKOST',\n",
       " 'EWDICHTE',\n",
       " 'FINANZTYP',\n",
       " 'FINANZ_ANLEGER',\n",
       " 'FINANZ_HAUSBAUER',\n",
       " 'FINANZ_MINIMALIST',\n",
       " 'FINANZ_SPARER',\n",
       " 'FINANZ_UNAUFFAELLIGER',\n",
       " 'FINANZ_VORSORGER',\n",
       " 'GEBAEUDETYP',\n",
       " 'GEOSCORE_KLS7',\n",
       " 'GEOSCORE_KLS7',\n",
       " 'HAUSHALTSSTRUKTUR',\n",
       " 'HEALTH_TYP',\n",
       " 'HH_EINKOMMEN_SCORE',\n",
       " 'INNENSTADT',\n",
       " 'KBA05_ALTER1',\n",
       " 'KBA05_ALTER2',\n",
       " 'KBA05_ALTER3',\n",
       " 'KBA05_ALTER4',\n",
       " 'KBA05_ANHANG',\n",
       " 'KBA05_ANTG1',\n",
       " 'KBA05_ANTG1',\n",
       " 'KBA05_ANTG2',\n",
       " 'KBA05_ANTG2',\n",
       " 'KBA05_ANTG3',\n",
       " 'KBA05_ANTG3',\n",
       " 'KBA05_ANTG4',\n",
       " 'KBA05_ANTG4',\n",
       " 'KBA05_AUTOQUOT',\n",
       " 'KBA05_BAUMAX',\n",
       " 'KBA05_CCM1',\n",
       " 'KBA05_CCM2',\n",
       " 'KBA05_CCM3',\n",
       " 'KBA05_CCM4',\n",
       " 'KBA05_DIESEL',\n",
       " 'KBA05_FRAU',\n",
       " 'KBA05_GBZ',\n",
       " 'KBA05_HERST1',\n",
       " 'KBA05_HERST2',\n",
       " 'KBA05_HERST3',\n",
       " 'KBA05_HERST4',\n",
       " 'KBA05_HERST5',\n",
       " 'KBA05_HERSTTEMP',\n",
       " 'KBA05_KRSAQUOT',\n",
       " 'KBA05_KRSHERST1',\n",
       " 'KBA05_KRSHERST2',\n",
       " 'KBA05_KRSHERST3',\n",
       " 'KBA05_KRSKLEIN',\n",
       " 'KBA05_KRSOBER',\n",
       " 'KBA05_KRSVAN',\n",
       " 'KBA05_KRSZUL',\n",
       " 'KBA05_KW1',\n",
       " 'KBA05_KW2',\n",
       " 'KBA05_KW3',\n",
       " 'KBA05_MAXAH',\n",
       " 'KBA05_MAXBJ',\n",
       " 'KBA05_MAXHERST',\n",
       " 'KBA05_MAXSEG',\n",
       " 'KBA05_MAXVORB',\n",
       " 'KBA05_MAXVORB',\n",
       " 'KBA05_MOD1',\n",
       " 'KBA05_MOD2',\n",
       " 'KBA05_MOD3',\n",
       " 'KBA05_MOD4',\n",
       " 'KBA05_MOD8',\n",
       " 'KBA05_MODTEMP',\n",
       " 'KBA05_MOTOR',\n",
       " 'KBA05_MOTRAD',\n",
       " 'KBA05_SEG1',\n",
       " 'KBA05_SEG10',\n",
       " 'KBA05_SEG2',\n",
       " 'KBA05_SEG3',\n",
       " 'KBA05_SEG4',\n",
       " 'KBA05_SEG5',\n",
       " 'KBA05_SEG6',\n",
       " 'KBA05_SEG7',\n",
       " 'KBA05_SEG8',\n",
       " 'KBA05_SEG9',\n",
       " 'KBA05_VORB0',\n",
       " 'KBA05_VORB1',\n",
       " 'KBA05_VORB2',\n",
       " 'KBA05_ZUL1',\n",
       " 'KBA05_ZUL2',\n",
       " 'KBA05_ZUL3',\n",
       " 'KBA05_ZUL4',\n",
       " 'KBA13_ALTERHALTER_30',\n",
       " 'KBA13_ALTERHALTER_45',\n",
       " 'KBA13_ALTERHALTER_60',\n",
       " 'KBA13_ALTERHALTER_61',\n",
       " 'KBA13_AUDI',\n",
       " 'KBA13_AUTOQUOTE',\n",
       " 'KBA13_BJ_1999',\n",
       " 'KBA13_BJ_2000',\n",
       " 'KBA13_BJ_2004',\n",
       " 'KBA13_BJ_2006',\n",
       " 'KBA13_BJ_2008',\n",
       " 'KBA13_BJ_2009',\n",
       " 'KBA13_BMW',\n",
       " 'KBA13_CCM_1000',\n",
       " 'KBA13_CCM_1200',\n",
       " 'KBA13_CCM_1400',\n",
       " 'KBA13_CCM_0_1400',\n",
       " 'KBA13_CCM_1500',\n",
       " 'KBA13_CCM_1400_2500',\n",
       " 'KBA13_CCM_1600',\n",
       " 'KBA13_CCM_1800',\n",
       " 'KBA13_CCM_2000',\n",
       " 'KBA13_CCM_2500',\n",
       " 'KBA13_CCM_2501',\n",
       " 'KBA13_CCM_3000',\n",
       " 'KBA13_CCM_3001',\n",
       " 'KBA13_FAB_ASIEN',\n",
       " 'KBA13_FAB_SONSTIGE',\n",
       " 'KBA13_FIAT',\n",
       " 'KBA13_FORD',\n",
       " 'KBA13_HALTER_20',\n",
       " 'KBA13_HALTER_25',\n",
       " 'KBA13_HALTER_30',\n",
       " 'KBA13_HALTER_35',\n",
       " 'KBA13_HALTER_40',\n",
       " 'KBA13_HALTER_45',\n",
       " 'KBA13_HALTER_50',\n",
       " 'KBA13_HALTER_55',\n",
       " 'KBA13_HALTER_60',\n",
       " 'KBA13_HALTER_65',\n",
       " 'KBA13_HALTER_66',\n",
       " 'KBA13_HERST_ASIEN',\n",
       " 'KBA13_HERST_AUDI_VW',\n",
       " 'KBA13_HERST_BMW_BENZ',\n",
       " 'KBA13_HERST_EUROPA',\n",
       " 'KBA13_HERST_FORD_OPEL',\n",
       " 'KBA13_HERST_SONST',\n",
       " 'KBA13_KMH_110',\n",
       " 'KBA13_KMH_140',\n",
       " 'KBA13_KMH_180',\n",
       " 'KBA13_KMH_0_140',\n",
       " 'KBA13_KMH_140_210',\n",
       " 'KBA13_KMH_211',\n",
       " 'KBA13_KMH_250',\n",
       " 'KBA13_KMH_251',\n",
       " 'KBA13_KRSAQUOT',\n",
       " 'KBA13_KRSHERST_AUDI_VW',\n",
       " 'KBA13_KRSHERST_BMW_BENZ',\n",
       " 'KBA13_KRSHERST_FORD_OPEL',\n",
       " 'KBA13_KRSSEG_KLEIN',\n",
       " 'KBA13_KRSSEG_OBER',\n",
       " 'KBA13_KRSSEG_VAN',\n",
       " 'KBA13_KRSZUL_NEU',\n",
       " 'KBA13_KW_30',\n",
       " 'KBA13_KW_40',\n",
       " 'KBA13_KW_50',\n",
       " 'KBA13_KW_60',\n",
       " 'KBA13_KW_0_60',\n",
       " 'KBA13_KW_70',\n",
       " 'KBA13_KW_61_120',\n",
       " 'KBA13_KW_80',\n",
       " 'KBA13_KW_90',\n",
       " 'KBA13_KW_110',\n",
       " 'KBA13_KW_120',\n",
       " 'KBA13_KW_121',\n",
       " 'KBA13_MAZDA',\n",
       " 'KBA13_MERCEDES',\n",
       " 'KBA13_MOTOR',\n",
       " 'KBA13_NISSAN',\n",
       " 'KBA13_OPEL',\n",
       " 'KBA13_PEUGEOT',\n",
       " 'KBA13_RENAULT',\n",
       " 'KBA13_SEG_GELAENDEWAGEN',\n",
       " 'KBA13_SEG_GROSSRAUMVANS',\n",
       " 'KBA13_SEG_KLEINST',\n",
       " 'KBA13_SEG_KLEINWAGEN',\n",
       " 'KBA13_SEG_KOMPAKTKLASSE',\n",
       " 'KBA13_SEG_MINIVANS',\n",
       " 'KBA13_SEG_MINIWAGEN',\n",
       " 'KBA13_SEG_MITTELKLASSE',\n",
       " 'KBA13_SEG_OBEREMITTELKLASSE',\n",
       " 'KBA13_SEG_OBERKLASSE',\n",
       " 'KBA13_SEG_SONSTIGE',\n",
       " 'KBA13_SEG_SPORTWAGEN',\n",
       " 'KBA13_SEG_UTILITIES',\n",
       " 'KBA13_SEG_VAN',\n",
       " 'KBA13_SEG_WOHNMOBILE',\n",
       " 'KBA13_SITZE_4',\n",
       " 'KBA13_SITZE_5',\n",
       " 'KBA13_SITZE_6',\n",
       " 'KBA13_TOYOTA',\n",
       " 'KBA13_VORB_0',\n",
       " 'KBA13_VORB_1',\n",
       " 'KBA13_VORB_1_2',\n",
       " 'KBA13_VORB_2',\n",
       " 'KBA13_VORB_3',\n",
       " 'KBA13_VW',\n",
       " 'KKK',\n",
       " 'NATIONALITAET_KZ',\n",
       " 'ORTSGR_KLS9',\n",
       " 'OST_WEST_KZ',\n",
       " 'PLZ8_ANTG1',\n",
       " 'PLZ8_ANTG2',\n",
       " 'PLZ8_ANTG3',\n",
       " 'PLZ8_ANTG4',\n",
       " 'PLZ8_GBZ',\n",
       " 'PLZ8_HHZ',\n",
       " 'PRAEGENDE_JUGENDJAHRE',\n",
       " 'REGIOTYP',\n",
       " 'RELAT_AB',\n",
       " 'RETOURTYP_BK_S',\n",
       " 'SEMIO_DOM',\n",
       " 'SEMIO_ERL',\n",
       " 'SEMIO_FAM',\n",
       " 'SEMIO_KAEM',\n",
       " 'SEMIO_KRIT',\n",
       " 'SEMIO_KULT',\n",
       " 'SEMIO_LUST',\n",
       " 'SEMIO_MAT',\n",
       " 'SEMIO_PFLICHT',\n",
       " 'SEMIO_RAT',\n",
       " 'SEMIO_REL',\n",
       " 'SEMIO_SOZ',\n",
       " 'SEMIO_TRADV',\n",
       " 'SEMIO_VERT',\n",
       " 'SHOPPER_TYP',\n",
       " 'SOHO_KZ',\n",
       " 'SOHO_KZ',\n",
       " 'TITEL_KZ',\n",
       " 'VERS_TYP',\n",
       " 'WOHNDAUER_2008',\n",
       " 'WOHNLAGE',\n",
       " 'WOHNLAGE',\n",
       " 'WACHSTUMSGEBIET_NB',\n",
       " 'W_KEIT_KIND_HH',\n",
       " 'ZABEOTYP']"
      ]
     },
     "execution_count": 20,
     "metadata": {},
     "output_type": "execute_result"
    }
   ],
   "source": [
    "#create a list for column names\n",
    "feat_list = feat_info_val['Attribute'].tolist()\n",
    "feat_list"
   ]
  },
  {
   "cell_type": "code",
   "execution_count": 21,
   "metadata": {
    "scrolled": true
   },
   "outputs": [
    {
     "name": "stdout",
     "output_type": "stream",
     "text": [
      "There are 8 features in feat_list that are not documented in azdias:\n",
      "['D19_KK_KUNDENTYP', 'WACHSTUMSGEBIET_NB', 'HAUSHALTSSTRUKTUR', 'KBA13_CCM_1400_2500', 'CAMEO_DEUINTL_2015', 'GEOSCORE_KLS7', 'BIP_FLAG', 'D19_BUCH']\n",
      "***\n"
     ]
    }
   ],
   "source": [
    "#look to see if there are difference between feat_list and azdias\n",
    "diff_feat_azd = list(set(feat_list)- set(azdias))\n",
    "print('There are {} features in feat_list that are not documented in azdias:'.format(len(diff_feat_azd)))\n",
    "print(diff_feat_azd)\n",
    "print('***')"
   ]
  },
  {
   "cell_type": "code",
   "execution_count": 22,
   "metadata": {},
   "outputs": [
    {
     "name": "stdout",
     "output_type": "stream",
     "text": [
      "There are 82 features in azdias that are not documented in feat_list:\n",
      "['KONSUMNAEHE', 'KBA13_CCM_1401_2500', 'PLZ8_BAUMAX', 'CJT_TYP_1', 'AKT_DAT_KL', 'D19_VERSI_ONLINE_DATUM', 'MOBI_REGIO', 'EINGEZOGENAM_HH_JAHR', 'D19_BUCH_CD', 'ANZ_HH_TITEL', 'UNGLEICHENN_FLAG', 'VHN', 'ALTER_KIND4', 'STRUKTURTYP', 'UMFELD_JUNG', 'MOBI_RASTER', 'D19_KONSUMTYP', 'VERDICHTUNGSRAUM', 'VHA', 'CJT_TYP_4', 'ALTERSKATEGORIE_FEIN', 'KBA13_HHZ', 'ONLINE_AFFINITAET', 'RT_KEIN_ANREIZ', 'D19_VERSI_DATUM', 'ALTER_KIND1', 'CJT_TYP_5', 'LP_STATUS_GROB', 'ANZ_KINDER', 'KBA13_ANZAHL_PKW', 'ANZ_STATISTISCHE_HAUSHALTE', 'D19_TELKO_ONLINE_QUOTE_12', 'VK_ZG11', 'CJT_TYP_2', 'D19_VERSI_OFFLINE_DATUM', 'KK_KUNDENTYP', 'KBA13_GBZ', 'ALTER_KIND3', 'ALTER_KIND2', 'DSL_FLAG', 'CJT_TYP_3', 'D19_KONSUMTYP_MAX', 'GEBURTSJAHR', 'KBA13_ANTG4', 'RT_UEBERGROESSE', 'D19_VERSI_ONLINE_QUOTE_12', 'D19_SOZIALES', 'MIN_GEBAEUDEJAHR', 'LP_FAMILIE_GROB', 'UMFELD_ALT', 'EINGEFUEGT_AM', 'RT_SCHNAEPPCHEN', 'FIRMENDICHTE', 'ANZ_TITEL', 'CAMEO_DEU_2015', 'KONSUMZELLE', 'KBA13_BAUMAX', 'CJT_KATALOGNUTZER', 'VK_DHT4A', 'KBA13_ANTG2', 'LP_LEBENSPHASE_GROB', 'CJT_TYP_6', 'GREEN_AVANTGARDE', 'CAMEO_INTL_2015', 'LP_STATUS_FEIN', 'LP_FAMILIE_FEIN', 'ARBEIT', 'KBA13_KMH_210', 'GEMEINDETYP', 'LP_LEBENSPHASE_FEIN', 'GEBAEUDETYP_RASTER', 'D19_LETZTER_KAUF_BRANCHE', 'KBA13_ANTG3', 'HH_DELTA_FLAG', 'VK_DISTANZ', 'GFK_URLAUBERTYP', 'ANZ_PERSONEN', 'LNR', 'KOMBIALTER', 'KBA13_ANTG1', 'EXTSEL992', 'ANZ_HAUSHALTE_AKTIV']\n",
      "***\n"
     ]
    }
   ],
   "source": [
    "#look to see if the is a difference between azdias and feat_list\n",
    "diff_azd_feat = list(set(azdias)- set(feat_list))\n",
    "print('There are {} features in azdias that are not documented in feat_list:'. format(len(diff_azd_feat)))\n",
    "print(diff_azd_feat)\n",
    "print('***')"
   ]
  },
  {
   "cell_type": "code",
   "execution_count": 23,
   "metadata": {},
   "outputs": [
    {
     "name": "stdout",
     "output_type": "stream",
     "text": [
      "Features in customers that are not in azdias:\n",
      "0\n",
      "[]\n",
      "***\n"
     ]
    }
   ],
   "source": [
    "#confirm difference between customer and azdias\n",
    "diff_customers_azdias = list(set(customers) - set(azdias))\n",
    "print('Features in customers that are not in azdias:')\n",
    "print(len(diff_customers_azdias))\n",
    "print(diff_customers_azdias)\n",
    "print('***')"
   ]
  },
  {
   "cell_type": "code",
   "execution_count": 24,
   "metadata": {},
   "outputs": [
    {
     "name": "stdout",
     "output_type": "stream",
     "text": [
      "Features in azdias that are not in customers:\n",
      "0\n",
      "[]\n",
      "***\n"
     ]
    }
   ],
   "source": [
    "#confirm difference between azdias and customers\n",
    "diff_customers_azdias = list(set(azdias) - set(customers))\n",
    "print('Features in azdias that are not in customers:')\n",
    "print(len(diff_customers_azdias))\n",
    "print(diff_customers_azdias)\n",
    "print('***')"
   ]
  },
  {
   "cell_type": "markdown",
   "metadata": {},
   "source": [
    "Convert feature dictionary into disctionary to encode nan's "
   ]
  },
  {
   "cell_type": "code",
   "execution_count": 25,
   "metadata": {},
   "outputs": [],
   "source": [
    "feat_info_val = feat_info_val[~feat_info_val['Attribute'].isin(diff_feat_azd)]"
   ]
  },
  {
   "cell_type": "code",
   "execution_count": 26,
   "metadata": {},
   "outputs": [],
   "source": [
    "#convert missing and unknow values to a list of string\n",
    "unknowns = []\n",
    "for attribute in feat_info_val['Attribute'].unique():\n",
    "    string_value = feat_info_val.loc[feat_info_val['Attribute'] == attribute, 'Value'].astype(str).str.cat(sep=',')\n",
    "    string_value = string_value.split(',')\n",
    "    unknowns.append(string_value)\n",
    "    \n",
    "unknowns = pd.concat([pd.Series(feat_info_val['Attribute'].unique()), pd.Series(unknowns)], axis=1)\n",
    "unknowns.columns = ['Attribute', 'missing_or_unknown']"
   ]
  },
  {
   "cell_type": "code",
   "execution_count": 27,
   "metadata": {
    "scrolled": true
   },
   "outputs": [
    {
     "data": {
      "text/html": [
       "<div>\n",
       "<style scoped>\n",
       "    .dataframe tbody tr th:only-of-type {\n",
       "        vertical-align: middle;\n",
       "    }\n",
       "\n",
       "    .dataframe tbody tr th {\n",
       "        vertical-align: top;\n",
       "    }\n",
       "\n",
       "    .dataframe thead th {\n",
       "        text-align: right;\n",
       "    }\n",
       "</style>\n",
       "<table border=\"1\" class=\"dataframe\">\n",
       "  <thead>\n",
       "    <tr style=\"text-align: right;\">\n",
       "      <th></th>\n",
       "      <th>Attribute</th>\n",
       "      <th>missing_or_unknown</th>\n",
       "    </tr>\n",
       "  </thead>\n",
       "  <tbody>\n",
       "    <tr>\n",
       "      <th>0</th>\n",
       "      <td>AGER_TYP</td>\n",
       "      <td>[-1, 0]</td>\n",
       "    </tr>\n",
       "    <tr>\n",
       "      <th>1</th>\n",
       "      <td>ALTERSKATEGORIE_GROB</td>\n",
       "      <td>[-1,  0]</td>\n",
       "    </tr>\n",
       "    <tr>\n",
       "      <th>2</th>\n",
       "      <td>ALTER_HH</td>\n",
       "      <td>[0]</td>\n",
       "    </tr>\n",
       "    <tr>\n",
       "      <th>3</th>\n",
       "      <td>ANREDE_KZ</td>\n",
       "      <td>[-1,  0]</td>\n",
       "    </tr>\n",
       "    <tr>\n",
       "      <th>4</th>\n",
       "      <td>BALLRAUM</td>\n",
       "      <td>[-1]</td>\n",
       "    </tr>\n",
       "  </tbody>\n",
       "</table>\n",
       "</div>"
      ],
      "text/plain": [
       "              Attribute missing_or_unknown\n",
       "0              AGER_TYP            [-1, 0]\n",
       "1  ALTERSKATEGORIE_GROB           [-1,  0]\n",
       "2              ALTER_HH                [0]\n",
       "3             ANREDE_KZ           [-1,  0]\n",
       "4              BALLRAUM               [-1]"
      ]
     },
     "execution_count": 27,
     "metadata": {},
     "output_type": "execute_result"
    }
   ],
   "source": [
    "feat_info = unknowns\n",
    "feat_info.head()"
   ]
  },
  {
   "cell_type": "code",
   "execution_count": 28,
   "metadata": {},
   "outputs": [],
   "source": [
    "# split data into column to have nan's encoded and once that cannot be encoded\n",
    "azdias_missing = azdias[(diff_azd_feat)]\n",
    "azdias.drop(diff_azd_feat, axis =1, inplace = True)\n",
    "    "
   ]
  },
  {
   "cell_type": "code",
   "execution_count": 29,
   "metadata": {},
   "outputs": [
    {
     "name": "stdout",
     "output_type": "stream",
     "text": [
      "Index(['AGER_TYP', 'ALTER_HH', 'BALLRAUM', 'CAMEO_DEUG_2015', 'CJT_GESAMTTYP',\n",
      "       'D19_BANKEN_ANZ_12', 'D19_BANKEN_ANZ_24', 'D19_BANKEN_DATUM',\n",
      "       'D19_BANKEN_DIREKT', 'D19_BANKEN_GROSS',\n",
      "       ...\n",
      "       'SHOPPER_TYP', 'SOHO_KZ', 'TITEL_KZ', 'VERS_TYP', 'W_KEIT_KIND_HH',\n",
      "       'WOHNDAUER_2008', 'WOHNLAGE', 'ZABEOTYP', 'ANREDE_KZ',\n",
      "       'ALTERSKATEGORIE_GROB'],\n",
      "      dtype='object', length=284)\n",
      "Index(['KONSUMNAEHE', 'KBA13_CCM_1401_2500', 'PLZ8_BAUMAX', 'CJT_TYP_1',\n",
      "       'AKT_DAT_KL', 'D19_VERSI_ONLINE_DATUM', 'MOBI_REGIO',\n",
      "       'EINGEZOGENAM_HH_JAHR', 'D19_BUCH_CD', 'ANZ_HH_TITEL',\n",
      "       'UNGLEICHENN_FLAG', 'VHN', 'ALTER_KIND4', 'STRUKTURTYP', 'UMFELD_JUNG',\n",
      "       'MOBI_RASTER', 'D19_KONSUMTYP', 'VERDICHTUNGSRAUM', 'VHA', 'CJT_TYP_4',\n",
      "       'ALTERSKATEGORIE_FEIN', 'KBA13_HHZ', 'ONLINE_AFFINITAET',\n",
      "       'RT_KEIN_ANREIZ', 'D19_VERSI_DATUM', 'ALTER_KIND1', 'CJT_TYP_5',\n",
      "       'LP_STATUS_GROB', 'ANZ_KINDER', 'KBA13_ANZAHL_PKW',\n",
      "       'ANZ_STATISTISCHE_HAUSHALTE', 'D19_TELKO_ONLINE_QUOTE_12', 'VK_ZG11',\n",
      "       'CJT_TYP_2', 'D19_VERSI_OFFLINE_DATUM', 'KK_KUNDENTYP', 'KBA13_GBZ',\n",
      "       'ALTER_KIND3', 'ALTER_KIND2', 'DSL_FLAG', 'CJT_TYP_3',\n",
      "       'D19_KONSUMTYP_MAX', 'GEBURTSJAHR', 'KBA13_ANTG4', 'RT_UEBERGROESSE',\n",
      "       'D19_VERSI_ONLINE_QUOTE_12', 'D19_SOZIALES', 'MIN_GEBAEUDEJAHR',\n",
      "       'LP_FAMILIE_GROB', 'UMFELD_ALT', 'EINGEFUEGT_AM', 'RT_SCHNAEPPCHEN',\n",
      "       'FIRMENDICHTE', 'ANZ_TITEL', 'CAMEO_DEU_2015', 'KONSUMZELLE',\n",
      "       'KBA13_BAUMAX', 'CJT_KATALOGNUTZER', 'VK_DHT4A', 'KBA13_ANTG2',\n",
      "       'LP_LEBENSPHASE_GROB', 'CJT_TYP_6', 'GREEN_AVANTGARDE',\n",
      "       'CAMEO_INTL_2015', 'LP_STATUS_FEIN', 'LP_FAMILIE_FEIN', 'ARBEIT',\n",
      "       'KBA13_KMH_210', 'GEMEINDETYP', 'LP_LEBENSPHASE_FEIN',\n",
      "       'GEBAEUDETYP_RASTER', 'D19_LETZTER_KAUF_BRANCHE', 'KBA13_ANTG3',\n",
      "       'HH_DELTA_FLAG', 'VK_DISTANZ', 'GFK_URLAUBERTYP', 'ANZ_PERSONEN', 'LNR',\n",
      "       'KOMBIALTER', 'KBA13_ANTG1', 'EXTSEL992', 'ANZ_HAUSHALTE_AKTIV'],\n",
      "      dtype='object')\n"
     ]
    }
   ],
   "source": [
    "print(azdias.columns)\n",
    "print(azdias_missing.columns)"
   ]
  },
  {
   "cell_type": "code",
   "execution_count": 30,
   "metadata": {},
   "outputs": [
    {
     "name": "stdout",
     "output_type": "stream",
     "text": [
      "(891221, 284)\n",
      "***\n",
      "   AGER_TYP  ALTER_HH  BALLRAUM CAMEO_DEUG_2015  CJT_GESAMTTYP  \\\n",
      "0       NaN       NaN       NaN             NaN            2.0   \n",
      "1       NaN       NaN       6.0               8            5.0   \n",
      "2       NaN      17.0       2.0               4            3.0   \n",
      "3       2.0      13.0       4.0               2            2.0   \n",
      "4       NaN      20.0       2.0               6            5.0   \n",
      "\n",
      "   D19_BANKEN_ANZ_12  D19_BANKEN_ANZ_24  D19_BANKEN_DATUM  D19_BANKEN_DIREKT  \\\n",
      "0                NaN                NaN               NaN                NaN   \n",
      "1                NaN                NaN               NaN                NaN   \n",
      "2                NaN                NaN               NaN                NaN   \n",
      "3                NaN                NaN               NaN                NaN   \n",
      "4                3.0                5.0               5.0                1.0   \n",
      "\n",
      "   D19_BANKEN_GROSS          ...           SHOPPER_TYP  SOHO_KZ  TITEL_KZ  \\\n",
      "0               NaN          ...                   NaN      NaN       NaN   \n",
      "1               NaN          ...                   3.0      1.0       NaN   \n",
      "2               NaN          ...                   2.0      NaN       NaN   \n",
      "3               NaN          ...                   1.0      NaN       NaN   \n",
      "4               2.0          ...                   2.0      NaN       NaN   \n",
      "\n",
      "   VERS_TYP  W_KEIT_KIND_HH  WOHNDAUER_2008  WOHNLAGE  ZABEOTYP  ANREDE_KZ  \\\n",
      "0       NaN             NaN             NaN       NaN         3          1   \n",
      "1       2.0             3.0             9.0       4.0         5          2   \n",
      "2       1.0             3.0             9.0       2.0         5          2   \n",
      "3       1.0             NaN             9.0       7.0         3          2   \n",
      "4       2.0             2.0             9.0       3.0         4          1   \n",
      "\n",
      "   ALTERSKATEGORIE_GROB  \n",
      "0                     2  \n",
      "1                     1  \n",
      "2                     3  \n",
      "3                     4  \n",
      "4                     3  \n",
      "\n",
      "[5 rows x 284 columns]\n",
      "***\n"
     ]
    }
   ],
   "source": [
    "# Converting the unknown values to NaNs in the dataset\n",
    "missing_values = pd.Series(feat_info['missing_or_unknown'].values, index=feat_info['Attribute']).to_dict()\n",
    "azdias[azdias.isin(missing_values)] = np.nan\n",
    "print(azdias.shape)\n",
    "print('***')\n",
    "print(azdias.head())\n",
    "print('***')"
   ]
  },
  {
   "cell_type": "code",
   "execution_count": 31,
   "metadata": {},
   "outputs": [
    {
     "name": "stdout",
     "output_type": "stream",
     "text": [
      "   AGER_TYP  ALTER_HH  BALLRAUM CAMEO_DEUG_2015  CJT_GESAMTTYP  \\\n",
      "0       NaN       NaN       NaN             NaN            2.0   \n",
      "1       NaN       NaN       6.0               8            5.0   \n",
      "2       NaN      17.0       2.0               4            3.0   \n",
      "3       2.0      13.0       4.0               2            2.0   \n",
      "4       NaN      20.0       2.0               6            5.0   \n",
      "\n",
      "   D19_BANKEN_ANZ_12  D19_BANKEN_ANZ_24  D19_BANKEN_DATUM  D19_BANKEN_DIREKT  \\\n",
      "0                NaN                NaN               NaN                NaN   \n",
      "1                NaN                NaN               NaN                NaN   \n",
      "2                NaN                NaN               NaN                NaN   \n",
      "3                NaN                NaN               NaN                NaN   \n",
      "4                3.0                5.0               5.0                1.0   \n",
      "\n",
      "   D19_BANKEN_GROSS         ...           KBA13_ANTG3  HH_DELTA_FLAG  \\\n",
      "0               NaN         ...                   NaN            NaN   \n",
      "1               NaN         ...                   2.0            0.0   \n",
      "2               NaN         ...                   1.0            0.0   \n",
      "3               NaN         ...                   1.0            NaN   \n",
      "4               2.0         ...                   2.0            0.0   \n",
      "\n",
      "   VK_DISTANZ  GFK_URLAUBERTYP  ANZ_PERSONEN     LNR  KOMBIALTER  KBA13_ANTG1  \\\n",
      "0         NaN             10.0           NaN  910215           9          NaN   \n",
      "1        11.0             10.0           2.0  910220           1          2.0   \n",
      "2         9.0             10.0           1.0  910225           2          2.0   \n",
      "3        10.0              1.0           0.0  910226           4          2.0   \n",
      "4         5.0              5.0           4.0  910241           3          1.0   \n",
      "\n",
      "   EXTSEL992  ANZ_HAUSHALTE_AKTIV  \n",
      "0        NaN                  NaN  \n",
      "1        NaN                 11.0  \n",
      "2       14.0                 10.0  \n",
      "3       31.0                  1.0  \n",
      "4        NaN                  3.0  \n",
      "\n",
      "[5 rows x 366 columns]\n",
      "***\n",
      "(891221, 366)\n",
      "***\n",
      "Index(['AGER_TYP', 'ALTER_HH', 'BALLRAUM', 'CAMEO_DEUG_2015', 'CJT_GESAMTTYP',\n",
      "       'D19_BANKEN_ANZ_12', 'D19_BANKEN_ANZ_24', 'D19_BANKEN_DATUM',\n",
      "       'D19_BANKEN_DIREKT', 'D19_BANKEN_GROSS',\n",
      "       ...\n",
      "       'KBA13_ANTG3', 'HH_DELTA_FLAG', 'VK_DISTANZ', 'GFK_URLAUBERTYP',\n",
      "       'ANZ_PERSONEN', 'LNR', 'KOMBIALTER', 'KBA13_ANTG1', 'EXTSEL992',\n",
      "       'ANZ_HAUSHALTE_AKTIV'],\n",
      "      dtype='object', length=366)\n"
     ]
    }
   ],
   "source": [
    "azdias = pd.concat([azdias,azdias_missing], axis = 1)\n",
    "print(azdias.head())\n",
    "print('***')\n",
    "print(azdias.shape)\n",
    "print('***')\n",
    "print(azdias.columns)"
   ]
  },
  {
   "cell_type": "markdown",
   "metadata": {},
   "source": [
    "0.1.2 Dropping columns with to much missing data "
   ]
  },
  {
   "cell_type": "code",
   "execution_count": 32,
   "metadata": {},
   "outputs": [],
   "source": [
    "# replacing values for CAMEO_DEUG_2015 and CAMEO\n",
    "azdias['CAMEO_DEUG_2015'] = azdias['CAMEO_DEUG_2015'].replace('X',-1)\n",
    "azdias['CAMEO_INTL_2015'] = azdias['CAMEO_INTL_2015'].replace('XX',-1)"
   ]
  },
  {
   "cell_type": "code",
   "execution_count": 33,
   "metadata": {},
   "outputs": [],
   "source": [
    "# Convert row input strings to float\n",
    "azdias[['CAMEO_DEUG_2015','CAMEO_INTL_2015']] = azdias[['CAMEO_DEUG_2015','CAMEO_INTL_2015']].astype(float)"
   ]
  },
  {
   "cell_type": "code",
   "execution_count": 34,
   "metadata": {},
   "outputs": [],
   "source": [
    "# See how much missing data there is in each column of the dataset.\n",
    "missing_col = azdias.isnull().sum()/ azdias.shape[0]"
   ]
  },
  {
   "cell_type": "code",
   "execution_count": 35,
   "metadata": {},
   "outputs": [
    {
     "data": {
      "image/png": "[encoded data removed]",
      "text/plain": [
       "<matplotlib.figure.Figure at 0x7ff47fc91748>"
      ]
     },
     "metadata": {
      "needs_background": "light"
     },
     "output_type": "display_data"
    }
   ],
   "source": [
    "missing_col.hist(bins = 20)\n",
    "plt.xlabel('Count of missing values in column')\n",
    "plt.ylabel('Number of columns')\n",
    "plt.title('Histogram for the count of missing values in columns')\n",
    "plt.grid(True)\n",
    "plt.show()"
   ]
  },
  {
   "cell_type": "code",
   "execution_count": 36,
   "metadata": {},
   "outputs": [
    {
     "data": {
      "image/png": "[encoded data removed]",
      "text/plain": [
       "<matplotlib.figure.Figure at 0x7ff47f09ce10>"
      ]
     },
     "metadata": {
      "needs_background": "light"
     },
     "output_type": "display_data"
    }
   ],
   "source": [
    "sorted_missing_col= missing_col[missing_col>0]\n",
    "sorted_missing_col.sort_values(inplace = True)\n",
    "sorted_missing_col.plot.bar(figsize=(20,15))\n",
    "plt.xlabel('Column name with missing values')\n",
    "plt.ylabel('Precentage of missing values')\n",
    "plt.grid(True)\n",
    "plt.title('Column Name vs missing values')\n",
    "plt.show()"
   ]
  },
  {
   "cell_type": "code",
   "execution_count": 37,
   "metadata": {},
   "outputs": [],
   "source": [
    "# Remove the columns with large amounts of missing data \n",
    "missing_col_updated = missing_col[missing_col>.3]\n",
    "azdias.drop(missing_col_updated.index, axis=1, inplace=True)"
   ]
  },
  {
   "cell_type": "code",
   "execution_count": 38,
   "metadata": {},
   "outputs": [
    {
     "name": "stdout",
     "output_type": "stream",
     "text": [
      "(74,)\n",
      "***\n",
      "(891221, 292)\n"
     ]
    }
   ],
   "source": [
    "print(missing_col_updated.shape)\n",
    "print('***')\n",
    "print(azdias.shape)"
   ]
  },
  {
   "cell_type": "markdown",
   "metadata": {},
   "source": [
    "0.1.3 Dropping rows with to much missing data "
   ]
  },
  {
   "cell_type": "code",
   "execution_count": 39,
   "metadata": {},
   "outputs": [],
   "source": [
    "# calculate the values of missing values per individual\n",
    "missing_per_row = azdias.isnull().sum(axis=1) / azdias.shape[1]"
   ]
  },
  {
   "cell_type": "code",
   "execution_count": 40,
   "metadata": {},
   "outputs": [
    {
     "data": {
      "text/plain": [
       "<matplotlib.axes._subplots.AxesSubplot at 0x7ff47f276198>"
      ]
     },
     "execution_count": 40,
     "metadata": {},
     "output_type": "execute_result"
    },
    {
     "data": {
      "image/png": "[encoded data removed]",
      "text/plain": [
       "<matplotlib.figure.Figure at 0x7ff47ee55518>"
      ]
     },
     "metadata": {
      "needs_background": "light"
     },
     "output_type": "display_data"
    }
   ],
   "source": [
    "missing_per_row.hist(bins = 20)"
   ]
  },
  {
   "cell_type": "code",
   "execution_count": 41,
   "metadata": {},
   "outputs": [],
   "source": [
    "#Split data set into 2 subset based on missing row data\n",
    "def split_dataset(df, missing_per_row, threshold=.3):\n",
    "    \"\"\"\n",
    "    Splits data into two subsets based on the missing values per row.\n",
    "\n",
    "    INPUT:\n",
    "    - df (DataFrame): DataFrame to be split\n",
    "    - missing_per_row: calculated percentage of missing values per row\n",
    "    - threshold (float): threshold as decision criteria for splitting\n",
    "\n",
    "    OUTPUT:\n",
    "    - DataFrame: DataFrame with a smaller percentage of missing values than the threshold \n",
    "    - DataFrame: DataFrame with a higher percentage of missing values than the threshold\n",
    "    \"\"\"\n",
    "    \n",
    "    above_th = df[missing_per_row <= threshold]\n",
    "    below_th = df[missing_per_row > threshold]\n",
    "    return above_th, below_th\n",
    "    \n",
    "azdias_low, azdias_high = split_dataset(azdias, missing_per_row)\n"
   ]
  },
  {
   "cell_type": "code",
   "execution_count": 42,
   "metadata": {},
   "outputs": [
    {
     "name": "stdout",
     "output_type": "stream",
     "text": [
      "(785348, 292)\n",
      "0.8812045497132586\n",
      "***\n",
      "(105873, 292)\n",
      "0.11879545028674145\n"
     ]
    }
   ],
   "source": [
    "# look at shape and amount to total is in each dataframe\n",
    "print(azdias_low.shape)\n",
    "print(azdias_low.shape[0]/azdias.shape[0])\n",
    "print('***')\n",
    "print(azdias_high.shape)\n",
    "print(azdias_high.shape[0]/azdias.shape[0])"
   ]
  },
  {
   "cell_type": "markdown",
   "metadata": {},
   "source": [
    "0.1.4 Engineer Features"
   ]
  },
  {
   "cell_type": "code",
   "execution_count": 43,
   "metadata": {},
   "outputs": [
    {
     "data": {
      "text/plain": [
       "float64    255\n",
       "int64       33\n",
       "object       4\n",
       "dtype: int64"
      ]
     },
     "execution_count": 43,
     "metadata": {},
     "output_type": "execute_result"
    }
   ],
   "source": [
    "# look at data types to convert object to numbers\n",
    "azdias_low.dtypes.value_counts()"
   ]
  },
  {
   "cell_type": "code",
   "execution_count": 44,
   "metadata": {},
   "outputs": [],
   "source": [
    "def impute_na(df, variable):\n",
    "    '''\n",
    "    input: \n",
    "            df: input dataframe to be imputed\n",
    "            variable: the column from the dataframe you want to perform imputation\n",
    "    '''\n",
    "    # find most frequent category\n",
    "    most_frequent_category = df.groupby([variable])[variable].count().sort_values(ascending=False).index[0]\n",
    "    # replace NA\n",
    "    df[variable].fillna(most_frequent_category, inplace=True)"
   ]
  },
  {
   "cell_type": "code",
   "execution_count": 45,
   "metadata": {},
   "outputs": [],
   "source": [
    "nan_cols = azdias_low.columns[azdias_low.isnull().any()].tolist()"
   ]
  },
  {
   "cell_type": "code",
   "execution_count": 46,
   "metadata": {},
   "outputs": [
    {
     "name": "stderr",
     "output_type": "stream",
     "text": [
      "/opt/conda/lib/python3.6/site-packages/pandas/core/generic.py:5434: SettingWithCopyWarning: \n",
      "A value is trying to be set on a copy of a slice from a DataFrame\n",
      "\n",
      "See the caveats in the documentation: http://pandas.pydata.org/pandas-docs/stable/indexing.html#indexing-view-versus-copy\n",
      "  self._update_inplace(new_data)\n"
     ]
    }
   ],
   "source": [
    "for col in nan_cols:\n",
    "    impute_na(azdias_low, col)"
   ]
  },
  {
   "cell_type": "code",
   "execution_count": 47,
   "metadata": {},
   "outputs": [
    {
     "data": {
      "text/plain": [
       "BALLRAUM                    0\n",
       "CAMEO_DEUG_2015             0\n",
       "CJT_GESAMTTYP               0\n",
       "EWDICHTE                    0\n",
       "FINANZ_ANLEGER              0\n",
       "FINANZ_HAUSBAUER            0\n",
       "FINANZ_MINIMALIST           0\n",
       "FINANZ_SPARER               0\n",
       "FINANZ_UNAUFFAELLIGER       0\n",
       "FINANZ_VORSORGER            0\n",
       "FINANZTYP                   0\n",
       "GEBAEUDETYP                 0\n",
       "HEALTH_TYP                  0\n",
       "HH_EINKOMMEN_SCORE          0\n",
       "INNENSTADT                  0\n",
       "KBA05_ALTER1                0\n",
       "KBA05_ALTER2                0\n",
       "KBA05_ALTER3                0\n",
       "KBA05_ALTER4                0\n",
       "KBA05_ANHANG                0\n",
       "KBA05_AUTOQUOT              0\n",
       "KBA05_CCM1                  0\n",
       "KBA05_CCM2                  0\n",
       "KBA05_CCM3                  0\n",
       "KBA05_CCM4                  0\n",
       "KBA05_DIESEL                0\n",
       "KBA05_FRAU                  0\n",
       "KBA05_GBZ                   0\n",
       "KBA05_HERST1                0\n",
       "KBA05_HERST2                0\n",
       "                           ..\n",
       "RT_SCHNAEPPCHEN             0\n",
       "FIRMENDICHTE                0\n",
       "ANZ_TITEL                   0\n",
       "CAMEO_DEU_2015              0\n",
       "KONSUMZELLE                 0\n",
       "KBA13_BAUMAX                0\n",
       "CJT_KATALOGNUTZER           0\n",
       "VK_DHT4A                    0\n",
       "KBA13_ANTG2                 0\n",
       "LP_LEBENSPHASE_GROB         0\n",
       "CJT_TYP_6                   0\n",
       "GREEN_AVANTGARDE            0\n",
       "CAMEO_INTL_2015             0\n",
       "LP_STATUS_FEIN              0\n",
       "LP_FAMILIE_FEIN             0\n",
       "ARBEIT                      0\n",
       "KBA13_KMH_210               0\n",
       "GEMEINDETYP                 0\n",
       "LP_LEBENSPHASE_FEIN         0\n",
       "GEBAEUDETYP_RASTER          0\n",
       "D19_LETZTER_KAUF_BRANCHE    0\n",
       "KBA13_ANTG3                 0\n",
       "HH_DELTA_FLAG               0\n",
       "VK_DISTANZ                  0\n",
       "GFK_URLAUBERTYP             0\n",
       "ANZ_PERSONEN                0\n",
       "LNR                         0\n",
       "KOMBIALTER                  0\n",
       "KBA13_ANTG1                 0\n",
       "ANZ_HAUSHALTE_AKTIV         0\n",
       "Length: 292, dtype: int64"
      ]
     },
     "execution_count": 47,
     "metadata": {},
     "output_type": "execute_result"
    }
   ],
   "source": [
    "azdias_low.isnull().sum()"
   ]
  },
  {
   "cell_type": "code",
   "execution_count": 48,
   "metadata": {},
   "outputs": [
    {
     "data": {
      "text/html": [
       "<div>\n",
       "<style scoped>\n",
       "    .dataframe tbody tr th:only-of-type {\n",
       "        vertical-align: middle;\n",
       "    }\n",
       "\n",
       "    .dataframe tbody tr th {\n",
       "        vertical-align: top;\n",
       "    }\n",
       "\n",
       "    .dataframe thead th {\n",
       "        text-align: right;\n",
       "    }\n",
       "</style>\n",
       "<table border=\"1\" class=\"dataframe\">\n",
       "  <thead>\n",
       "    <tr style=\"text-align: right;\">\n",
       "      <th></th>\n",
       "      <th>OST_WEST_KZ</th>\n",
       "      <th>EINGEFUEGT_AM</th>\n",
       "      <th>CAMEO_DEU_2015</th>\n",
       "      <th>D19_LETZTER_KAUF_BRANCHE</th>\n",
       "    </tr>\n",
       "  </thead>\n",
       "  <tbody>\n",
       "    <tr>\n",
       "      <th>1</th>\n",
       "      <td>W</td>\n",
       "      <td>1992-02-10 00:00:00</td>\n",
       "      <td>8A</td>\n",
       "      <td>D19_UNBEKANNT</td>\n",
       "    </tr>\n",
       "    <tr>\n",
       "      <th>2</th>\n",
       "      <td>W</td>\n",
       "      <td>1992-02-12 00:00:00</td>\n",
       "      <td>4C</td>\n",
       "      <td>D19_UNBEKANNT</td>\n",
       "    </tr>\n",
       "    <tr>\n",
       "      <th>3</th>\n",
       "      <td>W</td>\n",
       "      <td>1997-04-21 00:00:00</td>\n",
       "      <td>2A</td>\n",
       "      <td>D19_UNBEKANNT</td>\n",
       "    </tr>\n",
       "    <tr>\n",
       "      <th>4</th>\n",
       "      <td>W</td>\n",
       "      <td>1992-02-12 00:00:00</td>\n",
       "      <td>6B</td>\n",
       "      <td>D19_SCHUHE</td>\n",
       "    </tr>\n",
       "    <tr>\n",
       "      <th>5</th>\n",
       "      <td>W</td>\n",
       "      <td>1992-02-12 00:00:00</td>\n",
       "      <td>8C</td>\n",
       "      <td>D19_ENERGIE</td>\n",
       "    </tr>\n",
       "  </tbody>\n",
       "</table>\n",
       "</div>"
      ],
      "text/plain": [
       "  OST_WEST_KZ        EINGEFUEGT_AM CAMEO_DEU_2015 D19_LETZTER_KAUF_BRANCHE\n",
       "1           W  1992-02-10 00:00:00             8A            D19_UNBEKANNT\n",
       "2           W  1992-02-12 00:00:00             4C            D19_UNBEKANNT\n",
       "3           W  1997-04-21 00:00:00             2A            D19_UNBEKANNT\n",
       "4           W  1992-02-12 00:00:00             6B               D19_SCHUHE\n",
       "5           W  1992-02-12 00:00:00             8C              D19_ENERGIE"
      ]
     },
     "execution_count": 48,
     "metadata": {},
     "output_type": "execute_result"
    }
   ],
   "source": [
    "object_columns = azdias_low.select_dtypes(include=[np.object])\n",
    "object_columns.head()"
   ]
  },
  {
   "cell_type": "code",
   "execution_count": 49,
   "metadata": {},
   "outputs": [
    {
     "name": "stderr",
     "output_type": "stream",
     "text": [
      "/opt/conda/lib/python3.6/site-packages/ipykernel_launcher.py:2: SettingWithCopyWarning: \n",
      "A value is trying to be set on a copy of a slice from a DataFrame.\n",
      "Try using .loc[row_indexer,col_indexer] = value instead\n",
      "\n",
      "See the caveats in the documentation: http://pandas.pydata.org/pandas-docs/stable/indexing.html#indexing-view-versus-copy\n",
      "  \n",
      "/opt/conda/lib/python3.6/site-packages/ipykernel_launcher.py:3: SettingWithCopyWarning: \n",
      "A value is trying to be set on a copy of a slice from a DataFrame.\n",
      "Try using .loc[row_indexer,col_indexer] = value instead\n",
      "\n",
      "See the caveats in the documentation: http://pandas.pydata.org/pandas-docs/stable/indexing.html#indexing-view-versus-copy\n",
      "  This is separate from the ipykernel package so we can avoid doing imports until\n"
     ]
    },
    {
     "data": {
      "text/html": [
       "<div>\n",
       "<style scoped>\n",
       "    .dataframe tbody tr th:only-of-type {\n",
       "        vertical-align: middle;\n",
       "    }\n",
       "\n",
       "    .dataframe tbody tr th {\n",
       "        vertical-align: top;\n",
       "    }\n",
       "\n",
       "    .dataframe thead th {\n",
       "        text-align: right;\n",
       "    }\n",
       "</style>\n",
       "<table border=\"1\" class=\"dataframe\">\n",
       "  <thead>\n",
       "    <tr style=\"text-align: right;\">\n",
       "      <th></th>\n",
       "      <th>EINGEFUEGT_AM_YEAR</th>\n",
       "      <th>EINGEFUEGT_AM_MONTH</th>\n",
       "    </tr>\n",
       "  </thead>\n",
       "  <tbody>\n",
       "    <tr>\n",
       "      <th>1</th>\n",
       "      <td>1992</td>\n",
       "      <td>2</td>\n",
       "    </tr>\n",
       "    <tr>\n",
       "      <th>2</th>\n",
       "      <td>1992</td>\n",
       "      <td>2</td>\n",
       "    </tr>\n",
       "    <tr>\n",
       "      <th>3</th>\n",
       "      <td>1997</td>\n",
       "      <td>4</td>\n",
       "    </tr>\n",
       "    <tr>\n",
       "      <th>4</th>\n",
       "      <td>1992</td>\n",
       "      <td>2</td>\n",
       "    </tr>\n",
       "    <tr>\n",
       "      <th>5</th>\n",
       "      <td>1992</td>\n",
       "      <td>2</td>\n",
       "    </tr>\n",
       "  </tbody>\n",
       "</table>\n",
       "</div>"
      ],
      "text/plain": [
       "   EINGEFUEGT_AM_YEAR  EINGEFUEGT_AM_MONTH\n",
       "1                1992                    2\n",
       "2                1992                    2\n",
       "3                1997                    4\n",
       "4                1992                    2\n",
       "5                1992                    2"
      ]
     },
     "execution_count": 49,
     "metadata": {},
     "output_type": "execute_result"
    }
   ],
   "source": [
    "# engineer year variable from EINGEFUEGT_AM\n",
    "azdias_low['EINGEFUEGT_AM_YEAR'] = azdias_low['EINGEFUEGT_AM'].apply(lambda x: datetime.strptime(x, \"%Y-%m-%d %H:%M:%S\" ).year)\n",
    "azdias_low['EINGEFUEGT_AM_MONTH'] = azdias_low['EINGEFUEGT_AM'].apply(lambda x: datetime.strptime(x, \"%Y-%m-%d %H:%M:%S\" ).month)\n",
    "azdias_low[['EINGEFUEGT_AM_YEAR', 'EINGEFUEGT_AM_MONTH']].head()"
   ]
  },
  {
   "cell_type": "code",
   "execution_count": 50,
   "metadata": {},
   "outputs": [],
   "source": [
    "# create dummy variables for D19_LETZTER_KAUF_BRANCHE and CAMEO_DEU_2015\n",
    "azdias_low = pd.get_dummies(azdias_low, prefix = ['D19_LETZTER_KAUF_BRANCHE','CAMEO_DEU_2015', 'OST_WEST_KZ'], columns = ['D19_LETZTER_KAUF_BRANCHE','CAMEO_DEU_2015', 'OST_WEST_KZ'])\n"
   ]
  },
  {
   "cell_type": "code",
   "execution_count": 51,
   "metadata": {},
   "outputs": [],
   "source": [
    "azdias_low.drop(['EINGEFUEGT_AM'], axis =1, inplace = True)"
   ]
  },
  {
   "cell_type": "code",
   "execution_count": 52,
   "metadata": {},
   "outputs": [
    {
     "data": {
      "text/plain": [
       "float64    255\n",
       "uint8       82\n",
       "int64       35\n",
       "dtype: int64"
      ]
     },
     "execution_count": 52,
     "metadata": {},
     "output_type": "execute_result"
    }
   ],
   "source": [
    "azdias_low.dtypes.value_counts()"
   ]
  },
  {
   "cell_type": "code",
   "execution_count": 53,
   "metadata": {},
   "outputs": [
    {
     "name": "stdout",
     "output_type": "stream",
     "text": [
      "(785348, 372)\n",
      "***\n",
      "   BALLRAUM  CAMEO_DEUG_2015  CJT_GESAMTTYP  EWDICHTE  FINANZ_ANLEGER  \\\n",
      "1       6.0              8.0            5.0       3.0               5   \n",
      "2       2.0              4.0            3.0       4.0               2   \n",
      "3       4.0              2.0            2.0       2.0               2   \n",
      "4       2.0              6.0            5.0       5.0               1   \n",
      "5       6.0              8.0            2.0       2.0               2   \n",
      "\n",
      "   FINANZ_HAUSBAUER  FINANZ_MINIMALIST  FINANZ_SPARER  FINANZ_UNAUFFAELLIGER  \\\n",
      "1                 5                  1              5                      4   \n",
      "2                 5                  1              4                      3   \n",
      "3                 2                  4              2                      1   \n",
      "4                 2                  4              3                      3   \n",
      "5                 5                  3              1                      2   \n",
      "\n",
      "   FINANZ_VORSORGER      ...        CAMEO_DEU_2015_8C  CAMEO_DEU_2015_8D  \\\n",
      "1                 2      ...                        0                  0   \n",
      "2                 1      ...                        0                  0   \n",
      "3                 5      ...                        0                  0   \n",
      "4                 4      ...                        0                  0   \n",
      "5                 5      ...                        1                  0   \n",
      "\n",
      "   CAMEO_DEU_2015_9A  CAMEO_DEU_2015_9B  CAMEO_DEU_2015_9C  CAMEO_DEU_2015_9D  \\\n",
      "1                  0                  0                  0                  0   \n",
      "2                  0                  0                  0                  0   \n",
      "3                  0                  0                  0                  0   \n",
      "4                  0                  0                  0                  0   \n",
      "5                  0                  0                  0                  0   \n",
      "\n",
      "   CAMEO_DEU_2015_9E  CAMEO_DEU_2015_XX  OST_WEST_KZ_O  OST_WEST_KZ_W  \n",
      "1                  0                  0              0              1  \n",
      "2                  0                  0              0              1  \n",
      "3                  0                  0              0              1  \n",
      "4                  0                  0              0              1  \n",
      "5                  0                  0              0              1  \n",
      "\n",
      "[5 rows x 372 columns]\n"
     ]
    }
   ],
   "source": [
    "print(azdias_low.shape)\n",
    "print('***')\n",
    "print(azdias_low.head())"
   ]
  },
  {
   "cell_type": "code",
   "execution_count": 54,
   "metadata": {},
   "outputs": [],
   "source": [
    "scaler = StandardScaler()"
   ]
  },
  {
   "cell_type": "code",
   "execution_count": 55,
   "metadata": {},
   "outputs": [],
   "source": [
    "# Apply feature scaling to the population  data.\n",
    "\n",
    "azdias_low = pd.DataFrame(scaler.fit_transform(azdias_low), columns = azdias_low.columns)\n"
   ]
  },
  {
   "cell_type": "markdown",
   "metadata": {},
   "source": [
    "## Part 1: Customer Segmentation Report\n",
    "\n",
    "The main bulk of your analysis will come in this part of the project. Here, you should use unsupervised learning techniques to describe the relationship between the demographics of the company's existing customers and the general population of Germany. By the end of this part, you should be able to describe parts of the general population that are more likely to be part of the mail-order company's main customer base, and which parts of the general population are less so."
   ]
  },
  {
   "cell_type": "code",
   "execution_count": 56,
   "metadata": {},
   "outputs": [
    {
     "data": {
      "text/plain": [
       "(191652, 366)"
      ]
     },
     "execution_count": 56,
     "metadata": {},
     "output_type": "execute_result"
    }
   ],
   "source": [
    "customers.shape"
   ]
  },
  {
   "cell_type": "code",
   "execution_count": 57,
   "metadata": {},
   "outputs": [
    {
     "data": {
      "text/html": [
       "<div>\n",
       "<style scoped>\n",
       "    .dataframe tbody tr th:only-of-type {\n",
       "        vertical-align: middle;\n",
       "    }\n",
       "\n",
       "    .dataframe tbody tr th {\n",
       "        vertical-align: top;\n",
       "    }\n",
       "\n",
       "    .dataframe thead th {\n",
       "        text-align: right;\n",
       "    }\n",
       "</style>\n",
       "<table border=\"1\" class=\"dataframe\">\n",
       "  <thead>\n",
       "    <tr style=\"text-align: right;\">\n",
       "      <th></th>\n",
       "      <th>LNR</th>\n",
       "      <th>AGER_TYP</th>\n",
       "      <th>AKT_DAT_KL</th>\n",
       "      <th>ALTER_HH</th>\n",
       "      <th>ALTER_KIND1</th>\n",
       "      <th>ALTER_KIND2</th>\n",
       "      <th>ALTER_KIND3</th>\n",
       "      <th>ALTER_KIND4</th>\n",
       "      <th>ALTERSKATEGORIE_FEIN</th>\n",
       "      <th>ANZ_HAUSHALTE_AKTIV</th>\n",
       "      <th>...</th>\n",
       "      <th>VHN</th>\n",
       "      <th>VK_DHT4A</th>\n",
       "      <th>VK_DISTANZ</th>\n",
       "      <th>VK_ZG11</th>\n",
       "      <th>W_KEIT_KIND_HH</th>\n",
       "      <th>WOHNDAUER_2008</th>\n",
       "      <th>WOHNLAGE</th>\n",
       "      <th>ZABEOTYP</th>\n",
       "      <th>ANREDE_KZ</th>\n",
       "      <th>ALTERSKATEGORIE_GROB</th>\n",
       "    </tr>\n",
       "  </thead>\n",
       "  <tbody>\n",
       "    <tr>\n",
       "      <th>0</th>\n",
       "      <td>9626</td>\n",
       "      <td>2</td>\n",
       "      <td>1.0</td>\n",
       "      <td>10.0</td>\n",
       "      <td>NaN</td>\n",
       "      <td>NaN</td>\n",
       "      <td>NaN</td>\n",
       "      <td>NaN</td>\n",
       "      <td>10.0</td>\n",
       "      <td>1.0</td>\n",
       "      <td>...</td>\n",
       "      <td>3.0</td>\n",
       "      <td>5.0</td>\n",
       "      <td>3.0</td>\n",
       "      <td>2.0</td>\n",
       "      <td>6.0</td>\n",
       "      <td>9.0</td>\n",
       "      <td>7.0</td>\n",
       "      <td>3</td>\n",
       "      <td>1</td>\n",
       "      <td>4</td>\n",
       "    </tr>\n",
       "    <tr>\n",
       "      <th>1</th>\n",
       "      <td>9628</td>\n",
       "      <td>-1</td>\n",
       "      <td>9.0</td>\n",
       "      <td>11.0</td>\n",
       "      <td>NaN</td>\n",
       "      <td>NaN</td>\n",
       "      <td>NaN</td>\n",
       "      <td>NaN</td>\n",
       "      <td>NaN</td>\n",
       "      <td>NaN</td>\n",
       "      <td>...</td>\n",
       "      <td>NaN</td>\n",
       "      <td>6.0</td>\n",
       "      <td>6.0</td>\n",
       "      <td>3.0</td>\n",
       "      <td>0.0</td>\n",
       "      <td>9.0</td>\n",
       "      <td>NaN</td>\n",
       "      <td>3</td>\n",
       "      <td>1</td>\n",
       "      <td>4</td>\n",
       "    </tr>\n",
       "    <tr>\n",
       "      <th>2</th>\n",
       "      <td>143872</td>\n",
       "      <td>-1</td>\n",
       "      <td>1.0</td>\n",
       "      <td>6.0</td>\n",
       "      <td>NaN</td>\n",
       "      <td>NaN</td>\n",
       "      <td>NaN</td>\n",
       "      <td>NaN</td>\n",
       "      <td>0.0</td>\n",
       "      <td>1.0</td>\n",
       "      <td>...</td>\n",
       "      <td>4.0</td>\n",
       "      <td>10.0</td>\n",
       "      <td>13.0</td>\n",
       "      <td>11.0</td>\n",
       "      <td>6.0</td>\n",
       "      <td>9.0</td>\n",
       "      <td>2.0</td>\n",
       "      <td>3</td>\n",
       "      <td>2</td>\n",
       "      <td>4</td>\n",
       "    </tr>\n",
       "    <tr>\n",
       "      <th>3</th>\n",
       "      <td>143873</td>\n",
       "      <td>1</td>\n",
       "      <td>1.0</td>\n",
       "      <td>8.0</td>\n",
       "      <td>NaN</td>\n",
       "      <td>NaN</td>\n",
       "      <td>NaN</td>\n",
       "      <td>NaN</td>\n",
       "      <td>8.0</td>\n",
       "      <td>0.0</td>\n",
       "      <td>...</td>\n",
       "      <td>2.0</td>\n",
       "      <td>6.0</td>\n",
       "      <td>4.0</td>\n",
       "      <td>2.0</td>\n",
       "      <td>NaN</td>\n",
       "      <td>9.0</td>\n",
       "      <td>7.0</td>\n",
       "      <td>1</td>\n",
       "      <td>1</td>\n",
       "      <td>4</td>\n",
       "    </tr>\n",
       "    <tr>\n",
       "      <th>4</th>\n",
       "      <td>143874</td>\n",
       "      <td>-1</td>\n",
       "      <td>1.0</td>\n",
       "      <td>20.0</td>\n",
       "      <td>NaN</td>\n",
       "      <td>NaN</td>\n",
       "      <td>NaN</td>\n",
       "      <td>NaN</td>\n",
       "      <td>14.0</td>\n",
       "      <td>7.0</td>\n",
       "      <td>...</td>\n",
       "      <td>4.0</td>\n",
       "      <td>3.0</td>\n",
       "      <td>5.0</td>\n",
       "      <td>4.0</td>\n",
       "      <td>2.0</td>\n",
       "      <td>9.0</td>\n",
       "      <td>3.0</td>\n",
       "      <td>1</td>\n",
       "      <td>1</td>\n",
       "      <td>3</td>\n",
       "    </tr>\n",
       "    <tr>\n",
       "      <th>5</th>\n",
       "      <td>143888</td>\n",
       "      <td>1</td>\n",
       "      <td>1.0</td>\n",
       "      <td>11.0</td>\n",
       "      <td>NaN</td>\n",
       "      <td>NaN</td>\n",
       "      <td>NaN</td>\n",
       "      <td>NaN</td>\n",
       "      <td>10.0</td>\n",
       "      <td>1.0</td>\n",
       "      <td>...</td>\n",
       "      <td>4.0</td>\n",
       "      <td>1.0</td>\n",
       "      <td>2.0</td>\n",
       "      <td>1.0</td>\n",
       "      <td>6.0</td>\n",
       "      <td>9.0</td>\n",
       "      <td>1.0</td>\n",
       "      <td>2</td>\n",
       "      <td>1</td>\n",
       "      <td>3</td>\n",
       "    </tr>\n",
       "    <tr>\n",
       "      <th>6</th>\n",
       "      <td>143904</td>\n",
       "      <td>2</td>\n",
       "      <td>1.0</td>\n",
       "      <td>10.0</td>\n",
       "      <td>NaN</td>\n",
       "      <td>NaN</td>\n",
       "      <td>NaN</td>\n",
       "      <td>NaN</td>\n",
       "      <td>10.0</td>\n",
       "      <td>1.0</td>\n",
       "      <td>...</td>\n",
       "      <td>4.0</td>\n",
       "      <td>3.0</td>\n",
       "      <td>4.0</td>\n",
       "      <td>2.0</td>\n",
       "      <td>6.0</td>\n",
       "      <td>9.0</td>\n",
       "      <td>7.0</td>\n",
       "      <td>1</td>\n",
       "      <td>1</td>\n",
       "      <td>4</td>\n",
       "    </tr>\n",
       "    <tr>\n",
       "      <th>7</th>\n",
       "      <td>143910</td>\n",
       "      <td>1</td>\n",
       "      <td>1.0</td>\n",
       "      <td>10.0</td>\n",
       "      <td>NaN</td>\n",
       "      <td>NaN</td>\n",
       "      <td>NaN</td>\n",
       "      <td>NaN</td>\n",
       "      <td>9.0</td>\n",
       "      <td>1.0</td>\n",
       "      <td>...</td>\n",
       "      <td>3.0</td>\n",
       "      <td>1.0</td>\n",
       "      <td>2.0</td>\n",
       "      <td>1.0</td>\n",
       "      <td>6.0</td>\n",
       "      <td>9.0</td>\n",
       "      <td>3.0</td>\n",
       "      <td>3</td>\n",
       "      <td>1</td>\n",
       "      <td>4</td>\n",
       "    </tr>\n",
       "    <tr>\n",
       "      <th>8</th>\n",
       "      <td>102160</td>\n",
       "      <td>2</td>\n",
       "      <td>3.0</td>\n",
       "      <td>5.0</td>\n",
       "      <td>NaN</td>\n",
       "      <td>NaN</td>\n",
       "      <td>NaN</td>\n",
       "      <td>NaN</td>\n",
       "      <td>4.0</td>\n",
       "      <td>74.0</td>\n",
       "      <td>...</td>\n",
       "      <td>NaN</td>\n",
       "      <td>8.0</td>\n",
       "      <td>11.0</td>\n",
       "      <td>9.0</td>\n",
       "      <td>6.0</td>\n",
       "      <td>3.0</td>\n",
       "      <td>4.0</td>\n",
       "      <td>3</td>\n",
       "      <td>2</td>\n",
       "      <td>4</td>\n",
       "    </tr>\n",
       "    <tr>\n",
       "      <th>9</th>\n",
       "      <td>102173</td>\n",
       "      <td>1</td>\n",
       "      <td>1.0</td>\n",
       "      <td>20.0</td>\n",
       "      <td>NaN</td>\n",
       "      <td>NaN</td>\n",
       "      <td>NaN</td>\n",
       "      <td>NaN</td>\n",
       "      <td>13.0</td>\n",
       "      <td>1.0</td>\n",
       "      <td>...</td>\n",
       "      <td>2.0</td>\n",
       "      <td>3.0</td>\n",
       "      <td>5.0</td>\n",
       "      <td>4.0</td>\n",
       "      <td>2.0</td>\n",
       "      <td>9.0</td>\n",
       "      <td>5.0</td>\n",
       "      <td>1</td>\n",
       "      <td>1</td>\n",
       "      <td>3</td>\n",
       "    </tr>\n",
       "  </tbody>\n",
       "</table>\n",
       "<p>10 rows × 366 columns</p>\n",
       "</div>"
      ],
      "text/plain": [
       "      LNR  AGER_TYP  AKT_DAT_KL  ALTER_HH  ALTER_KIND1  ALTER_KIND2  \\\n",
       "0    9626         2         1.0      10.0          NaN          NaN   \n",
       "1    9628        -1         9.0      11.0          NaN          NaN   \n",
       "2  143872        -1         1.0       6.0          NaN          NaN   \n",
       "3  143873         1         1.0       8.0          NaN          NaN   \n",
       "4  143874        -1         1.0      20.0          NaN          NaN   \n",
       "5  143888         1         1.0      11.0          NaN          NaN   \n",
       "6  143904         2         1.0      10.0          NaN          NaN   \n",
       "7  143910         1         1.0      10.0          NaN          NaN   \n",
       "8  102160         2         3.0       5.0          NaN          NaN   \n",
       "9  102173         1         1.0      20.0          NaN          NaN   \n",
       "\n",
       "   ALTER_KIND3  ALTER_KIND4  ALTERSKATEGORIE_FEIN  ANZ_HAUSHALTE_AKTIV  \\\n",
       "0          NaN          NaN                  10.0                  1.0   \n",
       "1          NaN          NaN                   NaN                  NaN   \n",
       "2          NaN          NaN                   0.0                  1.0   \n",
       "3          NaN          NaN                   8.0                  0.0   \n",
       "4          NaN          NaN                  14.0                  7.0   \n",
       "5          NaN          NaN                  10.0                  1.0   \n",
       "6          NaN          NaN                  10.0                  1.0   \n",
       "7          NaN          NaN                   9.0                  1.0   \n",
       "8          NaN          NaN                   4.0                 74.0   \n",
       "9          NaN          NaN                  13.0                  1.0   \n",
       "\n",
       "          ...           VHN  VK_DHT4A  VK_DISTANZ  VK_ZG11  W_KEIT_KIND_HH  \\\n",
       "0         ...           3.0       5.0         3.0      2.0             6.0   \n",
       "1         ...           NaN       6.0         6.0      3.0             0.0   \n",
       "2         ...           4.0      10.0        13.0     11.0             6.0   \n",
       "3         ...           2.0       6.0         4.0      2.0             NaN   \n",
       "4         ...           4.0       3.0         5.0      4.0             2.0   \n",
       "5         ...           4.0       1.0         2.0      1.0             6.0   \n",
       "6         ...           4.0       3.0         4.0      2.0             6.0   \n",
       "7         ...           3.0       1.0         2.0      1.0             6.0   \n",
       "8         ...           NaN       8.0        11.0      9.0             6.0   \n",
       "9         ...           2.0       3.0         5.0      4.0             2.0   \n",
       "\n",
       "   WOHNDAUER_2008  WOHNLAGE ZABEOTYP ANREDE_KZ ALTERSKATEGORIE_GROB  \n",
       "0             9.0       7.0        3         1                    4  \n",
       "1             9.0       NaN        3         1                    4  \n",
       "2             9.0       2.0        3         2                    4  \n",
       "3             9.0       7.0        1         1                    4  \n",
       "4             9.0       3.0        1         1                    3  \n",
       "5             9.0       1.0        2         1                    3  \n",
       "6             9.0       7.0        1         1                    4  \n",
       "7             9.0       3.0        3         1                    4  \n",
       "8             3.0       4.0        3         2                    4  \n",
       "9             9.0       5.0        1         1                    3  \n",
       "\n",
       "[10 rows x 366 columns]"
      ]
     },
     "execution_count": 57,
     "metadata": {},
     "output_type": "execute_result"
    }
   ],
   "source": [
    "\n",
    "customers.head(10)"
   ]
  },
  {
   "cell_type": "code",
   "execution_count": 58,
   "metadata": {},
   "outputs": [
    {
     "name": "stdout",
     "output_type": "stream",
     "text": [
      "Features in feat_list that are not in azdias:\n",
      "8\n",
      "['D19_KK_KUNDENTYP', 'WACHSTUMSGEBIET_NB', 'HAUSHALTSSTRUKTUR', 'KBA13_CCM_1400_2500', 'CAMEO_DEUINTL_2015', 'GEOSCORE_KLS7', 'BIP_FLAG', 'D19_BUCH']\n",
      "***\n"
     ]
    }
   ],
   "source": [
    "#look to see if there are difference between feat_list and azdias\n",
    "diff_feat_cust = list(set(feat_list)- set(customers))\n",
    "print('Features in feat_list that are not in azdias:')\n",
    "print(len(diff_feat_cust))\n",
    "print(diff_feat_cust)\n",
    "print('***')"
   ]
  },
  {
   "cell_type": "code",
   "execution_count": 59,
   "metadata": {},
   "outputs": [
    {
     "name": "stdout",
     "output_type": "stream",
     "text": [
      "Features in azdias that are not in feat_list:\n",
      "82\n",
      "['KONSUMNAEHE', 'KBA13_CCM_1401_2500', 'PLZ8_BAUMAX', 'CJT_TYP_1', 'AKT_DAT_KL', 'D19_VERSI_ONLINE_DATUM', 'MOBI_REGIO', 'EINGEZOGENAM_HH_JAHR', 'D19_BUCH_CD', 'ANZ_HH_TITEL', 'UNGLEICHENN_FLAG', 'VHN', 'ALTER_KIND4', 'STRUKTURTYP', 'UMFELD_JUNG', 'MOBI_RASTER', 'D19_KONSUMTYP', 'VERDICHTUNGSRAUM', 'VHA', 'CJT_TYP_4', 'ALTERSKATEGORIE_FEIN', 'KBA13_HHZ', 'ONLINE_AFFINITAET', 'RT_KEIN_ANREIZ', 'D19_VERSI_DATUM', 'ALTER_KIND1', 'CJT_TYP_5', 'LP_STATUS_GROB', 'ANZ_KINDER', 'KBA13_ANZAHL_PKW', 'ANZ_STATISTISCHE_HAUSHALTE', 'D19_TELKO_ONLINE_QUOTE_12', 'VK_ZG11', 'CJT_TYP_2', 'D19_VERSI_OFFLINE_DATUM', 'KK_KUNDENTYP', 'KBA13_GBZ', 'ALTER_KIND3', 'ALTER_KIND2', 'DSL_FLAG', 'CJT_TYP_3', 'D19_KONSUMTYP_MAX', 'GEBURTSJAHR', 'KBA13_ANTG4', 'RT_UEBERGROESSE', 'D19_VERSI_ONLINE_QUOTE_12', 'D19_SOZIALES', 'MIN_GEBAEUDEJAHR', 'LP_FAMILIE_GROB', 'UMFELD_ALT', 'EINGEFUEGT_AM', 'RT_SCHNAEPPCHEN', 'FIRMENDICHTE', 'ANZ_TITEL', 'CAMEO_DEU_2015', 'KONSUMZELLE', 'KBA13_BAUMAX', 'CJT_KATALOGNUTZER', 'VK_DHT4A', 'KBA13_ANTG2', 'LP_LEBENSPHASE_GROB', 'CJT_TYP_6', 'GREEN_AVANTGARDE', 'CAMEO_INTL_2015', 'LP_STATUS_FEIN', 'LP_FAMILIE_FEIN', 'ARBEIT', 'KBA13_KMH_210', 'GEMEINDETYP', 'LP_LEBENSPHASE_FEIN', 'GEBAEUDETYP_RASTER', 'D19_LETZTER_KAUF_BRANCHE', 'KBA13_ANTG3', 'HH_DELTA_FLAG', 'VK_DISTANZ', 'GFK_URLAUBERTYP', 'ANZ_PERSONEN', 'LNR', 'KOMBIALTER', 'KBA13_ANTG1', 'EXTSEL992', 'ANZ_HAUSHALTE_AKTIV']\n",
      "***\n"
     ]
    }
   ],
   "source": [
    "#look to see if the is a difference between azdias and feat_list\n",
    "diff_cust_feat = list(set(customers)- set(feat_list))\n",
    "print('Features in azdias that are not in feat_list:')\n",
    "print(len(diff_cust_feat))\n",
    "print(diff_cust_feat)\n",
    "print('***')"
   ]
  },
  {
   "cell_type": "code",
   "execution_count": 60,
   "metadata": {},
   "outputs": [],
   "source": [
    "def clean_data(data, feat_info, columns):\n",
    "    \"\"\"\n",
    "   \n",
    "    INPUT: \n",
    "        azdias: Population/Customer demographics DataFrame\n",
    "        feat_info: feat info DataFrame\n",
    "        columns: list of columns that are not defined in the feat_info\n",
    "    OUTPUT: Trimmed demographics DataFrame\n",
    "    \"\"\"\n",
    "    # split dataframe into encoded nan and missing\n",
    "    data_missing = data[(columns)]\n",
    "    data.drop(columns, axis =1, inplace = True)\n",
    "    \n",
    "    # Encode missing values to Nans\n",
    "    print(\"Convert missing values\")\n",
    "    missing_values = pd.Series(feat_info['missing_or_unknown'].values, index=feat_info['Attribute']).to_dict()\n",
    "    data[data.isin(missing_values)] = np.nan\n",
    "\n",
    "    data = pd.concat([data,data_missing], axis = 1)\n",
    "\n",
    "    print(\"dropping missing_col_updated\")\n",
    "    \n",
    "    \n",
    "    # replacing values for CAMEO_DEUG_2015 and CAMEO\n",
    "    data['CAMEO_DEUG_2015'] = data['CAMEO_DEUG_2015'].replace('X',-1)\n",
    "    data['CAMEO_INTL_2015'] = data['CAMEO_INTL_2015'].replace('XX',-1)\n",
    "    \n",
    "    # Convert row input strings to float\n",
    "    data[['CAMEO_DEUG_2015','CAMEO_INTL_2015']] = data[['CAMEO_DEUG_2015','CAMEO_INTL_2015']].astype(float)\n",
    "\n",
    "    # Remove the outlier columns from the dataset\n",
    "    missing_col = data.isnull().sum()/ data.shape[0]\n",
    "    missing_col_updated = missing_col[missing_col>.3] #taking out the columns having more than 30% missing values\n",
    "    data.drop(missing_col_updated.index, axis=1, inplace=True) # dropping those columns from the data set\n",
    "    \n",
    "\n",
    "    \n",
    "    \n",
    "    # Return data with dropped columns\n",
    "    return data"
   ]
  },
  {
   "cell_type": "code",
   "execution_count": 61,
   "metadata": {},
   "outputs": [
    {
     "name": "stdout",
     "output_type": "stream",
     "text": [
      "Convert missing values\n",
      "dropping missing_col_updated\n"
     ]
    }
   ],
   "source": [
    "# Run the clean_data function on the population dataset\n",
    "customers = clean_data(customers, feat_info, diff_cust_feat)"
   ]
  },
  {
   "cell_type": "code",
   "execution_count": 62,
   "metadata": {},
   "outputs": [],
   "source": [
    "missing_per_row_cust = customers.isnull().sum(axis=1)/ customers.shape[1]"
   ]
  },
  {
   "cell_type": "code",
   "execution_count": 63,
   "metadata": {},
   "outputs": [
    {
     "data": {
      "text/plain": [
       "<matplotlib.axes._subplots.AxesSubplot at 0x7ff48d1fae80>"
      ]
     },
     "execution_count": 63,
     "metadata": {},
     "output_type": "execute_result"
    },
    {
     "data": {
      "image/png": "[encoded data removed]",
      "text/plain": [
       "<matplotlib.figure.Figure at 0x7ff47d1655c0>"
      ]
     },
     "metadata": {
      "needs_background": "light"
     },
     "output_type": "display_data"
    }
   ],
   "source": [
    "missing_per_row_cust.hist()"
   ]
  },
  {
   "cell_type": "code",
   "execution_count": 64,
   "metadata": {},
   "outputs": [],
   "source": [
    "# run split function to split data into rows with a low number of rows missing\n",
    "customers_low, customers_high = split_dataset(customers, missing_per_row_cust)"
   ]
  },
  {
   "cell_type": "code",
   "execution_count": 65,
   "metadata": {},
   "outputs": [
    {
     "name": "stdout",
     "output_type": "stream",
     "text": [
      "   BALLRAUM  CAMEO_DEUG_2015  CJT_GESAMTTYP  EWDICHTE  FINANZ_ANLEGER  \\\n",
      "0       3.0              1.0            5.0       2.0               1   \n",
      "2       7.0              5.0            2.0       4.0               1   \n",
      "3       7.0              4.0            2.0       1.0               2   \n",
      "4       3.0              7.0            6.0       4.0               4   \n",
      "5       7.0              5.0            4.0       5.0               1   \n",
      "\n",
      "   FINANZ_HAUSBAUER  FINANZ_MINIMALIST  FINANZ_SPARER  FINANZ_UNAUFFAELLIGER  \\\n",
      "0                 2                  5              1                      2   \n",
      "2                 4                  5              1                      4   \n",
      "3                 2                  5              1                      1   \n",
      "4                 2                  3              1                      5   \n",
      "5                 3                  5              1                      2   \n",
      "\n",
      "   FINANZ_VORSORGER         ...           D19_LETZTER_KAUF_BRANCHE  \\\n",
      "0                 5         ...                      D19_UNBEKANNT   \n",
      "2                 5         ...                      D19_UNBEKANNT   \n",
      "3                 5         ...             D19_NAHRUNGSERGAENZUNG   \n",
      "4                 4         ...                         D19_SCHUHE   \n",
      "5                 5         ...                        D19_BUCH_CD   \n",
      "\n",
      "   KBA13_ANTG3  HH_DELTA_FLAG  VK_DISTANZ  GFK_URLAUBERTYP  ANZ_PERSONEN  \\\n",
      "0          1.0            0.0         3.0              4.0           2.0   \n",
      "2          3.0            0.0        13.0              3.0           1.0   \n",
      "3          0.0            NaN         4.0             10.0           0.0   \n",
      "4          2.0            1.0         5.0              2.0           4.0   \n",
      "5          2.0            0.0         2.0             11.0           2.0   \n",
      "\n",
      "      LNR  KOMBIALTER  KBA13_ANTG1  ANZ_HAUSHALTE_AKTIV  \n",
      "0    9626           4          3.0                  1.0  \n",
      "2  143872           4          1.0                  1.0  \n",
      "3  143873           4          2.0                  0.0  \n",
      "4  143874           3          2.0                  7.0  \n",
      "5  143888           4          2.0                  1.0  \n",
      "\n",
      "[5 rows x 290 columns]\n"
     ]
    }
   ],
   "source": [
    "print(customers_low.head())"
   ]
  },
  {
   "cell_type": "code",
   "execution_count": 66,
   "metadata": {},
   "outputs": [],
   "source": [
    "nan_cols = customers_low.columns[customers_low.isnull().any()].tolist()"
   ]
  },
  {
   "cell_type": "code",
   "execution_count": 67,
   "metadata": {},
   "outputs": [
    {
     "name": "stderr",
     "output_type": "stream",
     "text": [
      "/opt/conda/lib/python3.6/site-packages/pandas/core/generic.py:5434: SettingWithCopyWarning: \n",
      "A value is trying to be set on a copy of a slice from a DataFrame\n",
      "\n",
      "See the caveats in the documentation: http://pandas.pydata.org/pandas-docs/stable/indexing.html#indexing-view-versus-copy\n",
      "  self._update_inplace(new_data)\n"
     ]
    }
   ],
   "source": [
    "for col in nan_cols:\n",
    "    impute_na(customers_low, col)"
   ]
  },
  {
   "cell_type": "code",
   "execution_count": 68,
   "metadata": {
    "scrolled": true
   },
   "outputs": [
    {
     "data": {
      "text/plain": [
       "float64    253\n",
       "int64       33\n",
       "object       4\n",
       "dtype: int64"
      ]
     },
     "execution_count": 68,
     "metadata": {},
     "output_type": "execute_result"
    }
   ],
   "source": [
    "customers_low.dtypes.value_counts()"
   ]
  },
  {
   "cell_type": "code",
   "execution_count": 69,
   "metadata": {},
   "outputs": [],
   "source": [
    "def engineer (data):\n",
    "    \"\"\"\n",
    "   \n",
    "    INPUT: \n",
    "        data: Population/Customer demographics DataFrame\n",
    "    OUTPUT: clean data with imputed data\n",
    "    \"\"\"\n",
    "    # engineer year variable from EINGEFUEGT_AM\n",
    "    data['EINGEFUEGT_AM_YEAR'] = data['EINGEFUEGT_AM'].apply(lambda x: datetime.strptime(x, \"%Y-%m-%d %H:%M:%S\" ).year)\n",
    "    data['EINGEFUEGT_AM_MONTH'] = data['EINGEFUEGT_AM'].apply(lambda x: datetime.strptime(x, \"%Y-%m-%d %H:%M:%S\" ).month)\n",
    "    data[['EINGEFUEGT_AM_YEAR', 'EINGEFUEGT_AM_MONTH']].head()\n",
    "    \n",
    "    # create dummy variables for D19_LETZTER_KAUF_BRANCHE, CAMEO_DEU_2015 and OST_WEST_KZ\n",
    "    data = pd.get_dummies(data, prefix = ['D19_LETZTER_KAUF_BRANCHE','CAMEO_DEU_2015', 'OST_WEST_KZ'], columns = ['D19_LETZTER_KAUF_BRANCHE','CAMEO_DEU_2015', 'OST_WEST_KZ'])\n",
    "    \n",
    "    #drop columns\n",
    "    data.drop(['EINGEFUEGT_AM'], axis =1, inplace = True)\n",
    "    \n",
    "    return data"
   ]
  },
  {
   "cell_type": "code",
   "execution_count": 70,
   "metadata": {},
   "outputs": [
    {
     "name": "stderr",
     "output_type": "stream",
     "text": [
      "/opt/conda/lib/python3.6/site-packages/ipykernel_launcher.py:9: SettingWithCopyWarning: \n",
      "A value is trying to be set on a copy of a slice from a DataFrame.\n",
      "Try using .loc[row_indexer,col_indexer] = value instead\n",
      "\n",
      "See the caveats in the documentation: http://pandas.pydata.org/pandas-docs/stable/indexing.html#indexing-view-versus-copy\n",
      "  if __name__ == '__main__':\n",
      "/opt/conda/lib/python3.6/site-packages/ipykernel_launcher.py:10: SettingWithCopyWarning: \n",
      "A value is trying to be set on a copy of a slice from a DataFrame.\n",
      "Try using .loc[row_indexer,col_indexer] = value instead\n",
      "\n",
      "See the caveats in the documentation: http://pandas.pydata.org/pandas-docs/stable/indexing.html#indexing-view-versus-copy\n",
      "  # Remove the CWD from sys.path while we load stuff.\n"
     ]
    }
   ],
   "source": [
    "customers_low = engineer(customers_low)"
   ]
  },
  {
   "cell_type": "code",
   "execution_count": 71,
   "metadata": {},
   "outputs": [
    {
     "data": {
      "text/plain": [
       "float64    253\n",
       "uint8       82\n",
       "int64       35\n",
       "dtype: int64"
      ]
     },
     "execution_count": 71,
     "metadata": {},
     "output_type": "execute_result"
    }
   ],
   "source": [
    "customers_low.dtypes.value_counts()"
   ]
  },
  {
   "cell_type": "code",
   "execution_count": 72,
   "metadata": {},
   "outputs": [],
   "source": [
    "customers_low = pd.DataFrame(scaler.fit_transform(customers_low), columns = customers_low.columns)"
   ]
  },
  {
   "cell_type": "code",
   "execution_count": 73,
   "metadata": {},
   "outputs": [
    {
     "data": {
      "text/html": [
       "<div>\n",
       "<style scoped>\n",
       "    .dataframe tbody tr th:only-of-type {\n",
       "        vertical-align: middle;\n",
       "    }\n",
       "\n",
       "    .dataframe tbody tr th {\n",
       "        vertical-align: top;\n",
       "    }\n",
       "\n",
       "    .dataframe thead th {\n",
       "        text-align: right;\n",
       "    }\n",
       "</style>\n",
       "<table border=\"1\" class=\"dataframe\">\n",
       "  <thead>\n",
       "    <tr style=\"text-align: right;\">\n",
       "      <th></th>\n",
       "      <th>BALLRAUM</th>\n",
       "      <th>CAMEO_DEUG_2015</th>\n",
       "      <th>CJT_GESAMTTYP</th>\n",
       "      <th>EWDICHTE</th>\n",
       "      <th>FINANZ_ANLEGER</th>\n",
       "      <th>FINANZ_HAUSBAUER</th>\n",
       "      <th>FINANZ_MINIMALIST</th>\n",
       "      <th>FINANZ_SPARER</th>\n",
       "      <th>FINANZ_UNAUFFAELLIGER</th>\n",
       "      <th>FINANZ_VORSORGER</th>\n",
       "      <th>...</th>\n",
       "      <th>CAMEO_DEU_2015_8C</th>\n",
       "      <th>CAMEO_DEU_2015_8D</th>\n",
       "      <th>CAMEO_DEU_2015_9A</th>\n",
       "      <th>CAMEO_DEU_2015_9B</th>\n",
       "      <th>CAMEO_DEU_2015_9C</th>\n",
       "      <th>CAMEO_DEU_2015_9D</th>\n",
       "      <th>CAMEO_DEU_2015_9E</th>\n",
       "      <th>CAMEO_DEU_2015_XX</th>\n",
       "      <th>OST_WEST_KZ_O</th>\n",
       "      <th>OST_WEST_KZ_W</th>\n",
       "    </tr>\n",
       "  </thead>\n",
       "  <tbody>\n",
       "    <tr>\n",
       "      <th>0</th>\n",
       "      <td>-0.616562</td>\n",
       "      <td>-1.401927</td>\n",
       "      <td>1.328565</td>\n",
       "      <td>-1.169627</td>\n",
       "      <td>-0.599807</td>\n",
       "      <td>-0.556453</td>\n",
       "      <td>0.720523</td>\n",
       "      <td>-0.515461</td>\n",
       "      <td>0.145368</td>\n",
       "      <td>0.514979</td>\n",
       "      <td>...</td>\n",
       "      <td>-0.142227</td>\n",
       "      <td>-0.125721</td>\n",
       "      <td>-0.085431</td>\n",
       "      <td>-0.080825</td>\n",
       "      <td>-0.083549</td>\n",
       "      <td>-0.118293</td>\n",
       "      <td>-0.100119</td>\n",
       "      <td>-0.029615</td>\n",
       "      <td>-0.29467</td>\n",
       "      <td>0.29467</td>\n",
       "    </tr>\n",
       "    <tr>\n",
       "      <th>1</th>\n",
       "      <td>1.275706</td>\n",
       "      <td>0.280552</td>\n",
       "      <td>-0.669678</td>\n",
       "      <td>0.074570</td>\n",
       "      <td>-0.599807</td>\n",
       "      <td>0.964221</td>\n",
       "      <td>0.720523</td>\n",
       "      <td>-0.515461</td>\n",
       "      <td>2.199443</td>\n",
       "      <td>0.514979</td>\n",
       "      <td>...</td>\n",
       "      <td>-0.142227</td>\n",
       "      <td>-0.125721</td>\n",
       "      <td>-0.085431</td>\n",
       "      <td>-0.080825</td>\n",
       "      <td>-0.083549</td>\n",
       "      <td>-0.118293</td>\n",
       "      <td>-0.100119</td>\n",
       "      <td>-0.029615</td>\n",
       "      <td>-0.29467</td>\n",
       "      <td>0.29467</td>\n",
       "    </tr>\n",
       "    <tr>\n",
       "      <th>2</th>\n",
       "      <td>1.275706</td>\n",
       "      <td>-0.140068</td>\n",
       "      <td>-0.669678</td>\n",
       "      <td>-1.791726</td>\n",
       "      <td>0.398523</td>\n",
       "      <td>-0.556453</td>\n",
       "      <td>0.720523</td>\n",
       "      <td>-0.515461</td>\n",
       "      <td>-0.881669</td>\n",
       "      <td>0.514979</td>\n",
       "      <td>...</td>\n",
       "      <td>-0.142227</td>\n",
       "      <td>-0.125721</td>\n",
       "      <td>-0.085431</td>\n",
       "      <td>-0.080825</td>\n",
       "      <td>-0.083549</td>\n",
       "      <td>-0.118293</td>\n",
       "      <td>-0.100119</td>\n",
       "      <td>-0.029615</td>\n",
       "      <td>-0.29467</td>\n",
       "      <td>0.29467</td>\n",
       "    </tr>\n",
       "    <tr>\n",
       "      <th>3</th>\n",
       "      <td>-0.616562</td>\n",
       "      <td>1.121791</td>\n",
       "      <td>1.994647</td>\n",
       "      <td>0.074570</td>\n",
       "      <td>2.395182</td>\n",
       "      <td>-0.556453</td>\n",
       "      <td>-1.246951</td>\n",
       "      <td>-0.515461</td>\n",
       "      <td>3.226481</td>\n",
       "      <td>-0.672195</td>\n",
       "      <td>...</td>\n",
       "      <td>-0.142227</td>\n",
       "      <td>-0.125721</td>\n",
       "      <td>-0.085431</td>\n",
       "      <td>-0.080825</td>\n",
       "      <td>-0.083549</td>\n",
       "      <td>-0.118293</td>\n",
       "      <td>-0.100119</td>\n",
       "      <td>-0.029615</td>\n",
       "      <td>-0.29467</td>\n",
       "      <td>0.29467</td>\n",
       "    </tr>\n",
       "    <tr>\n",
       "      <th>4</th>\n",
       "      <td>1.275706</td>\n",
       "      <td>0.280552</td>\n",
       "      <td>0.662484</td>\n",
       "      <td>0.696669</td>\n",
       "      <td>-0.599807</td>\n",
       "      <td>0.203884</td>\n",
       "      <td>0.720523</td>\n",
       "      <td>-0.515461</td>\n",
       "      <td>0.145368</td>\n",
       "      <td>0.514979</td>\n",
       "      <td>...</td>\n",
       "      <td>-0.142227</td>\n",
       "      <td>-0.125721</td>\n",
       "      <td>-0.085431</td>\n",
       "      <td>-0.080825</td>\n",
       "      <td>-0.083549</td>\n",
       "      <td>-0.118293</td>\n",
       "      <td>-0.100119</td>\n",
       "      <td>-0.029615</td>\n",
       "      <td>-0.29467</td>\n",
       "      <td>0.29467</td>\n",
       "    </tr>\n",
       "  </tbody>\n",
       "</table>\n",
       "<p>5 rows × 370 columns</p>\n",
       "</div>"
      ],
      "text/plain": [
       "   BALLRAUM  CAMEO_DEUG_2015  CJT_GESAMTTYP  EWDICHTE  FINANZ_ANLEGER  \\\n",
       "0 -0.616562        -1.401927       1.328565 -1.169627       -0.599807   \n",
       "1  1.275706         0.280552      -0.669678  0.074570       -0.599807   \n",
       "2  1.275706        -0.140068      -0.669678 -1.791726        0.398523   \n",
       "3 -0.616562         1.121791       1.994647  0.074570        2.395182   \n",
       "4  1.275706         0.280552       0.662484  0.696669       -0.599807   \n",
       "\n",
       "   FINANZ_HAUSBAUER  FINANZ_MINIMALIST  FINANZ_SPARER  FINANZ_UNAUFFAELLIGER  \\\n",
       "0         -0.556453           0.720523      -0.515461               0.145368   \n",
       "1          0.964221           0.720523      -0.515461               2.199443   \n",
       "2         -0.556453           0.720523      -0.515461              -0.881669   \n",
       "3         -0.556453          -1.246951      -0.515461               3.226481   \n",
       "4          0.203884           0.720523      -0.515461               0.145368   \n",
       "\n",
       "   FINANZ_VORSORGER      ...        CAMEO_DEU_2015_8C  CAMEO_DEU_2015_8D  \\\n",
       "0          0.514979      ...                -0.142227          -0.125721   \n",
       "1          0.514979      ...                -0.142227          -0.125721   \n",
       "2          0.514979      ...                -0.142227          -0.125721   \n",
       "3         -0.672195      ...                -0.142227          -0.125721   \n",
       "4          0.514979      ...                -0.142227          -0.125721   \n",
       "\n",
       "   CAMEO_DEU_2015_9A  CAMEO_DEU_2015_9B  CAMEO_DEU_2015_9C  CAMEO_DEU_2015_9D  \\\n",
       "0          -0.085431          -0.080825          -0.083549          -0.118293   \n",
       "1          -0.085431          -0.080825          -0.083549          -0.118293   \n",
       "2          -0.085431          -0.080825          -0.083549          -0.118293   \n",
       "3          -0.085431          -0.080825          -0.083549          -0.118293   \n",
       "4          -0.085431          -0.080825          -0.083549          -0.118293   \n",
       "\n",
       "   CAMEO_DEU_2015_9E  CAMEO_DEU_2015_XX  OST_WEST_KZ_O  OST_WEST_KZ_W  \n",
       "0          -0.100119          -0.029615       -0.29467        0.29467  \n",
       "1          -0.100119          -0.029615       -0.29467        0.29467  \n",
       "2          -0.100119          -0.029615       -0.29467        0.29467  \n",
       "3          -0.100119          -0.029615       -0.29467        0.29467  \n",
       "4          -0.100119          -0.029615       -0.29467        0.29467  \n",
       "\n",
       "[5 rows x 370 columns]"
      ]
     },
     "execution_count": 73,
     "metadata": {},
     "output_type": "execute_result"
    }
   ],
   "source": [
    "customers_low.head()"
   ]
  },
  {
   "cell_type": "code",
   "execution_count": 74,
   "metadata": {},
   "outputs": [],
   "source": [
    "# Apply PCA to the customer data.\n",
    "pca = PCA()\n",
    "customers_low = pca.fit_transform(customers_low)"
   ]
  },
  {
   "cell_type": "code",
   "execution_count": 75,
   "metadata": {},
   "outputs": [
    {
     "data": {
      "image/png": "[encoded data removed]",
      "text/plain": [
       "<matplotlib.figure.Figure at 0x7ff47d838748>"
      ]
     },
     "metadata": {
      "needs_background": "light"
     },
     "output_type": "display_data"
    }
   ],
   "source": [
    "#Investigate the variance accounted for by each principal component.\n",
    "n_components = min(np.where(np.cumsum(pca.explained_variance_ratio_)>0.8)[0]+1) # 80% of variance selected\n",
    "\n",
    "fig = plt.figure()\n",
    "ax = fig.add_axes([0,0,1,1],True)\n",
    "ax2 = ax.twinx()\n",
    "ax.plot(pca.explained_variance_ratio_, label='Variance',)\n",
    "ax2.plot(np.cumsum(pca.explained_variance_ratio_), label='Cumulative Variance',color = 'red');\n",
    "ax.set_title('n_components needed for >%80 explained variance: {}'.format(n_components));\n",
    "ax.axvline(n_components, linestyle='dashed', color='black')\n",
    "ax2.axhline(np.cumsum(pca.explained_variance_ratio_)[n_components], linestyle='dashed', color='black')\n",
    "fig.legend(loc=(0.8,0.2));"
   ]
  },
  {
   "cell_type": "code",
   "execution_count": 76,
   "metadata": {},
   "outputs": [],
   "source": [
    "# Re-apply PCA to the data while selecting for number of components to retain.\n",
    "\n",
    "pca = PCA(n_components=60, random_state=10)\n",
    "cust_pca = pca.fit_transform(customers_low)"
   ]
  },
  {
   "cell_type": "code",
   "execution_count": 77,
   "metadata": {},
   "outputs": [],
   "source": [
    "kmeans_scores = []\n",
    "for i in range(2,30,2):\n",
    "\n",
    "    #run k-means clustering on the data \n",
    "    kmeans = MiniBatchKMeans(i)\n",
    "    kmeans.fit(cust_pca)\n",
    "    \n",
    "    #compute the average within-cluster distances.\n",
    "    kmeans_scores.append(-kmeans.score(cust_pca))"
   ]
  },
  {
   "cell_type": "code",
   "execution_count": 78,
   "metadata": {},
   "outputs": [
    {
     "data": {
      "text/plain": [
       "[25728696.323856227,\n",
       " 23549246.065283146,\n",
       " 22811399.859242782,\n",
       " 22513400.890985917,\n",
       " 21657587.953089956,\n",
       " 21815752.885270573,\n",
       " 20926217.180607587,\n",
       " 20946638.387306403,\n",
       " 20490938.58601803,\n",
       " 20193926.512613621,\n",
       " 20039571.945411723,\n",
       " 20035899.546399575,\n",
       " 19816709.980213605,\n",
       " 19728960.226194102]"
      ]
     },
     "execution_count": 78,
     "metadata": {},
     "output_type": "execute_result"
    }
   ],
   "source": [
    "kmeans_scores"
   ]
  },
  {
   "cell_type": "code",
   "execution_count": 79,
   "metadata": {},
   "outputs": [
    {
     "data": {
      "image/png": "[encoded data removed]",
      "text/plain": [
       "<matplotlib.figure.Figure at 0x7ff47f7decc0>"
      ]
     },
     "metadata": {
      "needs_background": "light"
     },
     "output_type": "display_data"
    }
   ],
   "source": [
    "# Plot elbow plot\n",
    "x = range(2, 30, 2)\n",
    "plt.figure(figsize=(8, 4))\n",
    "plt.plot(x, kmeans_scores, marker='o')\n",
    "plt.xticks(x)\n",
    "plt.xlabel('K')\n",
    "plt.ylabel('SSE');"
   ]
  },
  {
   "cell_type": "code",
   "execution_count": 80,
   "metadata": {},
   "outputs": [],
   "source": [
    "# Re-fit the k-means model with the selected number of clusters (24) and obtain\n",
    "# cluster predictions for the general population demographics data.\n",
    "\n",
    "kmeans_20 = KMeans(24, random_state=10)\n",
    "clusters_pop = kmeans_20.fit_predict(cust_pca)"
   ]
  },
  {
   "cell_type": "code",
   "execution_count": 81,
   "metadata": {},
   "outputs": [
    {
     "data": {
      "image/png": "[encoded data removed]",
      "text/plain": [
       "<matplotlib.figure.Figure at 0x7ff47fa38c88>"
      ]
     },
     "metadata": {
      "needs_background": "light"
     },
     "output_type": "display_data"
    }
   ],
   "source": [
    "customers_prop = []\n",
    "x = [i+1 for i in range(24)]\n",
    "for i in range(24):\n",
    "    customers_prop.append((clusters_pop == i).sum()/len(clusters_pop))\n",
    "\n",
    "\n",
    "df_general = pd.DataFrame({'cluster' : x, 'Customers pop':customers_prop})\n",
    "\n",
    "df_general.plot(x='cluster', y = ['Customers pop'], kind='bar', figsize=(9,6))\n",
    "plt.ylabel('proportion of persons in each cluster')\n",
    "plt.show()"
   ]
  },
  {
   "cell_type": "markdown",
   "metadata": {},
   "source": [
    "## Part 2: Supervised Learning Model\n",
    "\n",
    "Now that you've found which parts of the population are more likely to be customers of the mail-order company, it's time to build a prediction model. Each of the rows in the \"MAILOUT\" data files represents an individual that was targeted for a mailout campaign. Ideally, we should be able to use the demographic information from each individual to decide whether or not it will be worth it to include that person in the campaign.\n",
    "\n",
    "The \"MAILOUT\" data has been split into two approximately equal parts, each with almost 43 000 data rows. In this part, you can verify your model with the \"TRAIN\" partition, which includes a column, \"RESPONSE\", that states whether or not a person became a customer of the company following the campaign. In the next part, you'll need to create predictions on the \"TEST\" partition, where the \"RESPONSE\" column has been withheld."
   ]
  },
  {
   "cell_type": "code",
   "execution_count": 82,
   "metadata": {},
   "outputs": [
    {
     "name": "stderr",
     "output_type": "stream",
     "text": [
      "/opt/conda/lib/python3.6/site-packages/IPython/core/interactiveshell.py:2785: DtypeWarning: Columns (18,19) have mixed types. Specify dtype option on import or set low_memory=False.\n",
      "  interactivity=interactivity, compiler=compiler, result=result)\n"
     ]
    }
   ],
   "source": [
    "mailout_train = pd.read_csv('../../data/Term2/capstone/arvato_data/Udacity_MAILOUT_052018_TRAIN.csv', sep=';')"
   ]
  },
  {
   "cell_type": "code",
   "execution_count": 83,
   "metadata": {},
   "outputs": [
    {
     "name": "stdout",
     "output_type": "stream",
     "text": [
      "<class 'pandas.core.frame.DataFrame'>\n",
      "RangeIndex: 42962 entries, 0 to 42961\n",
      "Columns: 367 entries, LNR to ALTERSKATEGORIE_GROB\n",
      "dtypes: float64(267), int64(94), object(6)\n",
      "memory usage: 120.3+ MB\n"
     ]
    }
   ],
   "source": [
    "mailout_train.info()"
   ]
  },
  {
   "cell_type": "code",
   "execution_count": 84,
   "metadata": {},
   "outputs": [
    {
     "data": {
      "text/plain": [
       "(42962, 367)"
      ]
     },
     "execution_count": 84,
     "metadata": {},
     "output_type": "execute_result"
    }
   ],
   "source": [
    "mailout_train.shape"
   ]
  },
  {
   "cell_type": "code",
   "execution_count": 85,
   "metadata": {},
   "outputs": [
    {
     "data": {
      "text/html": [
       "<div>\n",
       "<style scoped>\n",
       "    .dataframe tbody tr th:only-of-type {\n",
       "        vertical-align: middle;\n",
       "    }\n",
       "\n",
       "    .dataframe tbody tr th {\n",
       "        vertical-align: top;\n",
       "    }\n",
       "\n",
       "    .dataframe thead th {\n",
       "        text-align: right;\n",
       "    }\n",
       "</style>\n",
       "<table border=\"1\" class=\"dataframe\">\n",
       "  <thead>\n",
       "    <tr style=\"text-align: right;\">\n",
       "      <th></th>\n",
       "      <th>LNR</th>\n",
       "      <th>AGER_TYP</th>\n",
       "      <th>AKT_DAT_KL</th>\n",
       "      <th>ALTER_HH</th>\n",
       "      <th>ALTER_KIND1</th>\n",
       "      <th>ALTER_KIND2</th>\n",
       "      <th>ALTER_KIND3</th>\n",
       "      <th>ALTER_KIND4</th>\n",
       "      <th>ALTERSKATEGORIE_FEIN</th>\n",
       "      <th>ANZ_HAUSHALTE_AKTIV</th>\n",
       "      <th>...</th>\n",
       "      <th>VK_DHT4A</th>\n",
       "      <th>VK_DISTANZ</th>\n",
       "      <th>VK_ZG11</th>\n",
       "      <th>W_KEIT_KIND_HH</th>\n",
       "      <th>WOHNDAUER_2008</th>\n",
       "      <th>WOHNLAGE</th>\n",
       "      <th>ZABEOTYP</th>\n",
       "      <th>RESPONSE</th>\n",
       "      <th>ANREDE_KZ</th>\n",
       "      <th>ALTERSKATEGORIE_GROB</th>\n",
       "    </tr>\n",
       "  </thead>\n",
       "  <tbody>\n",
       "    <tr>\n",
       "      <th>0</th>\n",
       "      <td>1763</td>\n",
       "      <td>2</td>\n",
       "      <td>1.0</td>\n",
       "      <td>8.0</td>\n",
       "      <td>NaN</td>\n",
       "      <td>NaN</td>\n",
       "      <td>NaN</td>\n",
       "      <td>NaN</td>\n",
       "      <td>8.0</td>\n",
       "      <td>15.0</td>\n",
       "      <td>...</td>\n",
       "      <td>5.0</td>\n",
       "      <td>2.0</td>\n",
       "      <td>1.0</td>\n",
       "      <td>6.0</td>\n",
       "      <td>9.0</td>\n",
       "      <td>3.0</td>\n",
       "      <td>3</td>\n",
       "      <td>0</td>\n",
       "      <td>2</td>\n",
       "      <td>4</td>\n",
       "    </tr>\n",
       "    <tr>\n",
       "      <th>1</th>\n",
       "      <td>1771</td>\n",
       "      <td>1</td>\n",
       "      <td>4.0</td>\n",
       "      <td>13.0</td>\n",
       "      <td>NaN</td>\n",
       "      <td>NaN</td>\n",
       "      <td>NaN</td>\n",
       "      <td>NaN</td>\n",
       "      <td>13.0</td>\n",
       "      <td>1.0</td>\n",
       "      <td>...</td>\n",
       "      <td>1.0</td>\n",
       "      <td>2.0</td>\n",
       "      <td>1.0</td>\n",
       "      <td>4.0</td>\n",
       "      <td>9.0</td>\n",
       "      <td>7.0</td>\n",
       "      <td>1</td>\n",
       "      <td>0</td>\n",
       "      <td>2</td>\n",
       "      <td>3</td>\n",
       "    </tr>\n",
       "    <tr>\n",
       "      <th>2</th>\n",
       "      <td>1776</td>\n",
       "      <td>1</td>\n",
       "      <td>1.0</td>\n",
       "      <td>9.0</td>\n",
       "      <td>NaN</td>\n",
       "      <td>NaN</td>\n",
       "      <td>NaN</td>\n",
       "      <td>NaN</td>\n",
       "      <td>7.0</td>\n",
       "      <td>0.0</td>\n",
       "      <td>...</td>\n",
       "      <td>6.0</td>\n",
       "      <td>4.0</td>\n",
       "      <td>2.0</td>\n",
       "      <td>NaN</td>\n",
       "      <td>9.0</td>\n",
       "      <td>2.0</td>\n",
       "      <td>3</td>\n",
       "      <td>0</td>\n",
       "      <td>1</td>\n",
       "      <td>4</td>\n",
       "    </tr>\n",
       "    <tr>\n",
       "      <th>3</th>\n",
       "      <td>1460</td>\n",
       "      <td>2</td>\n",
       "      <td>1.0</td>\n",
       "      <td>6.0</td>\n",
       "      <td>NaN</td>\n",
       "      <td>NaN</td>\n",
       "      <td>NaN</td>\n",
       "      <td>NaN</td>\n",
       "      <td>6.0</td>\n",
       "      <td>4.0</td>\n",
       "      <td>...</td>\n",
       "      <td>8.0</td>\n",
       "      <td>11.0</td>\n",
       "      <td>11.0</td>\n",
       "      <td>6.0</td>\n",
       "      <td>9.0</td>\n",
       "      <td>1.0</td>\n",
       "      <td>3</td>\n",
       "      <td>0</td>\n",
       "      <td>2</td>\n",
       "      <td>4</td>\n",
       "    </tr>\n",
       "    <tr>\n",
       "      <th>4</th>\n",
       "      <td>1783</td>\n",
       "      <td>2</td>\n",
       "      <td>1.0</td>\n",
       "      <td>9.0</td>\n",
       "      <td>NaN</td>\n",
       "      <td>NaN</td>\n",
       "      <td>NaN</td>\n",
       "      <td>NaN</td>\n",
       "      <td>9.0</td>\n",
       "      <td>53.0</td>\n",
       "      <td>...</td>\n",
       "      <td>2.0</td>\n",
       "      <td>2.0</td>\n",
       "      <td>1.0</td>\n",
       "      <td>6.0</td>\n",
       "      <td>9.0</td>\n",
       "      <td>3.0</td>\n",
       "      <td>3</td>\n",
       "      <td>0</td>\n",
       "      <td>1</td>\n",
       "      <td>3</td>\n",
       "    </tr>\n",
       "  </tbody>\n",
       "</table>\n",
       "<p>5 rows × 367 columns</p>\n",
       "</div>"
      ],
      "text/plain": [
       "    LNR  AGER_TYP  AKT_DAT_KL  ALTER_HH  ALTER_KIND1  ALTER_KIND2  \\\n",
       "0  1763         2         1.0       8.0          NaN          NaN   \n",
       "1  1771         1         4.0      13.0          NaN          NaN   \n",
       "2  1776         1         1.0       9.0          NaN          NaN   \n",
       "3  1460         2         1.0       6.0          NaN          NaN   \n",
       "4  1783         2         1.0       9.0          NaN          NaN   \n",
       "\n",
       "   ALTER_KIND3  ALTER_KIND4  ALTERSKATEGORIE_FEIN  ANZ_HAUSHALTE_AKTIV  \\\n",
       "0          NaN          NaN                   8.0                 15.0   \n",
       "1          NaN          NaN                  13.0                  1.0   \n",
       "2          NaN          NaN                   7.0                  0.0   \n",
       "3          NaN          NaN                   6.0                  4.0   \n",
       "4          NaN          NaN                   9.0                 53.0   \n",
       "\n",
       "          ...           VK_DHT4A  VK_DISTANZ  VK_ZG11  W_KEIT_KIND_HH  \\\n",
       "0         ...                5.0         2.0      1.0             6.0   \n",
       "1         ...                1.0         2.0      1.0             4.0   \n",
       "2         ...                6.0         4.0      2.0             NaN   \n",
       "3         ...                8.0        11.0     11.0             6.0   \n",
       "4         ...                2.0         2.0      1.0             6.0   \n",
       "\n",
       "   WOHNDAUER_2008  WOHNLAGE  ZABEOTYP RESPONSE ANREDE_KZ ALTERSKATEGORIE_GROB  \n",
       "0             9.0       3.0         3        0         2                    4  \n",
       "1             9.0       7.0         1        0         2                    3  \n",
       "2             9.0       2.0         3        0         1                    4  \n",
       "3             9.0       1.0         3        0         2                    4  \n",
       "4             9.0       3.0         3        0         1                    3  \n",
       "\n",
       "[5 rows x 367 columns]"
      ]
     },
     "execution_count": 85,
     "metadata": {},
     "output_type": "execute_result"
    }
   ],
   "source": [
    "mailout_train.head()"
   ]
  },
  {
   "cell_type": "code",
   "execution_count": 86,
   "metadata": {},
   "outputs": [
    {
     "data": {
      "text/plain": [
       "0"
      ]
     },
     "execution_count": 86,
     "metadata": {},
     "output_type": "execute_result"
    }
   ],
   "source": [
    "mailout_train['RESPONSE'].isnull().sum()"
   ]
  },
  {
   "cell_type": "code",
   "execution_count": 87,
   "metadata": {},
   "outputs": [
    {
     "data": {
      "text/plain": [
       "0    42430\n",
       "1      532\n",
       "Name: RESPONSE, dtype: int64"
      ]
     },
     "execution_count": 87,
     "metadata": {},
     "output_type": "execute_result"
    }
   ],
   "source": [
    "# Imbalance of REPONSE column\n",
    "vc = mailout_train['RESPONSE'].value_counts()\n",
    "vc"
   ]
  },
  {
   "cell_type": "code",
   "execution_count": 88,
   "metadata": {},
   "outputs": [
    {
     "data": {
      "text/plain": [
       "0.012383036171500396"
      ]
     },
     "execution_count": 88,
     "metadata": {},
     "output_type": "execute_result"
    }
   ],
   "source": [
    "# positive response\n",
    "vc[1]/(vc[0]+vc[1])"
   ]
  },
  {
   "cell_type": "code",
   "execution_count": 89,
   "metadata": {},
   "outputs": [
    {
     "data": {
      "text/plain": [
       "0.98761696382849962"
      ]
     },
     "execution_count": 89,
     "metadata": {},
     "output_type": "execute_result"
    }
   ],
   "source": [
    "# negative response\n",
    "vc[0]/(vc[0]+vc[1])"
   ]
  },
  {
   "cell_type": "code",
   "execution_count": 90,
   "metadata": {},
   "outputs": [
    {
     "name": "stdout",
     "output_type": "stream",
     "text": [
      "Features in feat_list that are not in azdias:\n",
      "8\n",
      "['D19_KK_KUNDENTYP', 'WACHSTUMSGEBIET_NB', 'HAUSHALTSSTRUKTUR', 'KBA13_CCM_1400_2500', 'CAMEO_DEUINTL_2015', 'GEOSCORE_KLS7', 'BIP_FLAG', 'D19_BUCH']\n",
      "***\n"
     ]
    }
   ],
   "source": [
    "#look to see if there are difference between feat_list and azdias\n",
    "diff_feat_mail = list(set(feat_list)- set(mailout_train))\n",
    "print('Features in feat_list that are not in azdias:')\n",
    "print(len(diff_feat_mail))\n",
    "print(diff_feat_mail)\n",
    "print('***')"
   ]
  },
  {
   "cell_type": "code",
   "execution_count": 91,
   "metadata": {},
   "outputs": [
    {
     "name": "stdout",
     "output_type": "stream",
     "text": [
      "Features in azdias that are not in feat_list:\n",
      "83\n",
      "['KONSUMNAEHE', 'KBA13_CCM_1401_2500', 'PLZ8_BAUMAX', 'CJT_TYP_1', 'AKT_DAT_KL', 'D19_VERSI_ONLINE_DATUM', 'MOBI_REGIO', 'EINGEZOGENAM_HH_JAHR', 'D19_BUCH_CD', 'ANZ_HH_TITEL', 'UNGLEICHENN_FLAG', 'VHN', 'ALTER_KIND4', 'STRUKTURTYP', 'UMFELD_JUNG', 'MOBI_RASTER', 'D19_KONSUMTYP', 'VERDICHTUNGSRAUM', 'VHA', 'CJT_TYP_4', 'ALTERSKATEGORIE_FEIN', 'KBA13_HHZ', 'ONLINE_AFFINITAET', 'RT_KEIN_ANREIZ', 'D19_VERSI_DATUM', 'ALTER_KIND1', 'CJT_TYP_5', 'LP_STATUS_GROB', 'ANZ_KINDER', 'KBA13_ANZAHL_PKW', 'ANZ_STATISTISCHE_HAUSHALTE', 'D19_TELKO_ONLINE_QUOTE_12', 'VK_ZG11', 'CJT_TYP_2', 'D19_VERSI_OFFLINE_DATUM', 'KK_KUNDENTYP', 'KBA13_GBZ', 'ALTER_KIND3', 'ALTER_KIND2', 'DSL_FLAG', 'CJT_TYP_3', 'D19_KONSUMTYP_MAX', 'GEBURTSJAHR', 'KBA13_ANTG4', 'RT_UEBERGROESSE', 'D19_VERSI_ONLINE_QUOTE_12', 'D19_SOZIALES', 'MIN_GEBAEUDEJAHR', 'LP_FAMILIE_GROB', 'UMFELD_ALT', 'EINGEFUEGT_AM', 'RT_SCHNAEPPCHEN', 'FIRMENDICHTE', 'ANZ_TITEL', 'CAMEO_DEU_2015', 'KONSUMZELLE', 'KBA13_BAUMAX', 'CJT_KATALOGNUTZER', 'VK_DHT4A', 'KBA13_ANTG2', 'LP_LEBENSPHASE_GROB', 'CJT_TYP_6', 'GREEN_AVANTGARDE', 'CAMEO_INTL_2015', 'RESPONSE', 'LP_FAMILIE_FEIN', 'ARBEIT', 'KBA13_KMH_210', 'GEMEINDETYP', 'LP_LEBENSPHASE_FEIN', 'GEBAEUDETYP_RASTER', 'LP_STATUS_FEIN', 'KBA13_ANTG3', 'HH_DELTA_FLAG', 'VK_DISTANZ', 'GFK_URLAUBERTYP', 'ANZ_PERSONEN', 'D19_LETZTER_KAUF_BRANCHE', 'LNR', 'KOMBIALTER', 'KBA13_ANTG1', 'EXTSEL992', 'ANZ_HAUSHALTE_AKTIV']\n",
      "***\n"
     ]
    }
   ],
   "source": [
    "#look to see if the is a difference between azdias and feat_list\n",
    "diff_mail_feat = list(set(mailout_train)- set(feat_list))\n",
    "print('Features in azdias that are not in feat_list:')\n",
    "print(len(diff_mail_feat))\n",
    "print(diff_mail_feat)\n",
    "print('***')"
   ]
  },
  {
   "cell_type": "code",
   "execution_count": 92,
   "metadata": {},
   "outputs": [],
   "source": [
    "\n",
    "# find features to drop because of many missing values\n",
    "missing_per_column = mailout_train.isnull().mean()"
   ]
  },
  {
   "cell_type": "code",
   "execution_count": 93,
   "metadata": {},
   "outputs": [
    {
     "data": {
      "text/plain": [
       "<matplotlib.axes._subplots.AxesSubplot at 0x7ff4804e0978>"
      ]
     },
     "execution_count": 93,
     "metadata": {},
     "output_type": "execute_result"
    },
    {
     "data": {
      "image/png": "[encoded data removed]",
      "text/plain": [
       "<matplotlib.figure.Figure at 0x7ff47f092ac8>"
      ]
     },
     "metadata": {
      "needs_background": "light"
     },
     "output_type": "display_data"
    }
   ],
   "source": [
    "missing_per_column.hist(bins=34)"
   ]
  },
  {
   "cell_type": "code",
   "execution_count": 94,
   "metadata": {},
   "outputs": [
    {
     "name": "stdout",
     "output_type": "stream",
     "text": [
      "Convert missing values\n",
      "dropping missing_col_updated\n"
     ]
    }
   ],
   "source": [
    "# clean data\n",
    "mailout_train = clean_data(mailout_train, feat_info, diff_mail_feat )\n"
   ]
  },
  {
   "cell_type": "code",
   "execution_count": 95,
   "metadata": {},
   "outputs": [],
   "source": [
    "missing_per_row_mail = mailout_train.isnull().sum(axis=1)/ mailout_train.shape[1]"
   ]
  },
  {
   "cell_type": "code",
   "execution_count": 96,
   "metadata": {},
   "outputs": [],
   "source": [
    "# run split function to split data into rows with a low number of rows missing\n",
    "mailout_train, mail_high = split_dataset(mailout_train, missing_per_row_mail)"
   ]
  },
  {
   "cell_type": "code",
   "execution_count": 97,
   "metadata": {},
   "outputs": [],
   "source": [
    "nan_cols = mailout_train.columns[mailout_train.isnull().any()].tolist()"
   ]
  },
  {
   "cell_type": "code",
   "execution_count": 98,
   "metadata": {},
   "outputs": [],
   "source": [
    "for col in nan_cols:\n",
    "    impute_na(mailout_train, col)"
   ]
  },
  {
   "cell_type": "code",
   "execution_count": 99,
   "metadata": {},
   "outputs": [
    {
     "data": {
      "text/plain": [
       "float64    256\n",
       "int64       34\n",
       "object       4\n",
       "dtype: int64"
      ]
     },
     "execution_count": 99,
     "metadata": {},
     "output_type": "execute_result"
    }
   ],
   "source": [
    "mailout_train.dtypes.value_counts()"
   ]
  },
  {
   "cell_type": "code",
   "execution_count": 100,
   "metadata": {},
   "outputs": [],
   "source": [
    "mailout_train= engineer(mailout_train)"
   ]
  },
  {
   "cell_type": "code",
   "execution_count": 101,
   "metadata": {},
   "outputs": [
    {
     "data": {
      "text/plain": [
       "float64    256\n",
       "uint8       82\n",
       "int64       36\n",
       "dtype: int64"
      ]
     },
     "execution_count": 101,
     "metadata": {},
     "output_type": "execute_result"
    }
   ],
   "source": [
    "mailout_train.dtypes.value_counts()"
   ]
  },
  {
   "cell_type": "code",
   "execution_count": 102,
   "metadata": {},
   "outputs": [
    {
     "data": {
      "text/plain": [
       "(34999, 374)"
      ]
     },
     "execution_count": 102,
     "metadata": {},
     "output_type": "execute_result"
    }
   ],
   "source": [
    "mailout_train.shape"
   ]
  },
  {
   "cell_type": "code",
   "execution_count": 103,
   "metadata": {},
   "outputs": [
    {
     "data": {
      "text/html": [
       "<div>\n",
       "<style scoped>\n",
       "    .dataframe tbody tr th:only-of-type {\n",
       "        vertical-align: middle;\n",
       "    }\n",
       "\n",
       "    .dataframe tbody tr th {\n",
       "        vertical-align: top;\n",
       "    }\n",
       "\n",
       "    .dataframe thead th {\n",
       "        text-align: right;\n",
       "    }\n",
       "</style>\n",
       "<table border=\"1\" class=\"dataframe\">\n",
       "  <thead>\n",
       "    <tr style=\"text-align: right;\">\n",
       "      <th></th>\n",
       "      <th>BALLRAUM</th>\n",
       "      <th>CAMEO_DEUG_2015</th>\n",
       "      <th>CJT_GESAMTTYP</th>\n",
       "      <th>D19_GESAMT_DATUM</th>\n",
       "      <th>EWDICHTE</th>\n",
       "      <th>FINANZ_ANLEGER</th>\n",
       "      <th>FINANZ_HAUSBAUER</th>\n",
       "      <th>FINANZ_MINIMALIST</th>\n",
       "      <th>FINANZ_SPARER</th>\n",
       "      <th>FINANZ_UNAUFFAELLIGER</th>\n",
       "      <th>...</th>\n",
       "      <th>CAMEO_DEU_2015_8C</th>\n",
       "      <th>CAMEO_DEU_2015_8D</th>\n",
       "      <th>CAMEO_DEU_2015_9A</th>\n",
       "      <th>CAMEO_DEU_2015_9B</th>\n",
       "      <th>CAMEO_DEU_2015_9C</th>\n",
       "      <th>CAMEO_DEU_2015_9D</th>\n",
       "      <th>CAMEO_DEU_2015_9E</th>\n",
       "      <th>CAMEO_DEU_2015_XX</th>\n",
       "      <th>OST_WEST_KZ_O</th>\n",
       "      <th>OST_WEST_KZ_W</th>\n",
       "    </tr>\n",
       "  </thead>\n",
       "  <tbody>\n",
       "    <tr>\n",
       "      <th>0</th>\n",
       "      <td>5.0</td>\n",
       "      <td>5.0</td>\n",
       "      <td>2.0</td>\n",
       "      <td>9.0</td>\n",
       "      <td>5.0</td>\n",
       "      <td>2</td>\n",
       "      <td>5</td>\n",
       "      <td>3</td>\n",
       "      <td>1</td>\n",
       "      <td>1</td>\n",
       "      <td>...</td>\n",
       "      <td>0</td>\n",
       "      <td>0</td>\n",
       "      <td>0</td>\n",
       "      <td>0</td>\n",
       "      <td>0</td>\n",
       "      <td>0</td>\n",
       "      <td>0</td>\n",
       "      <td>0</td>\n",
       "      <td>0</td>\n",
       "      <td>1</td>\n",
       "    </tr>\n",
       "    <tr>\n",
       "      <th>1</th>\n",
       "      <td>5.0</td>\n",
       "      <td>5.0</td>\n",
       "      <td>2.0</td>\n",
       "      <td>1.0</td>\n",
       "      <td>1.0</td>\n",
       "      <td>2</td>\n",
       "      <td>3</td>\n",
       "      <td>5</td>\n",
       "      <td>1</td>\n",
       "      <td>1</td>\n",
       "      <td>...</td>\n",
       "      <td>0</td>\n",
       "      <td>0</td>\n",
       "      <td>0</td>\n",
       "      <td>0</td>\n",
       "      <td>0</td>\n",
       "      <td>0</td>\n",
       "      <td>0</td>\n",
       "      <td>0</td>\n",
       "      <td>0</td>\n",
       "      <td>1</td>\n",
       "    </tr>\n",
       "    <tr>\n",
       "      <th>2</th>\n",
       "      <td>1.0</td>\n",
       "      <td>2.0</td>\n",
       "      <td>4.0</td>\n",
       "      <td>6.0</td>\n",
       "      <td>6.0</td>\n",
       "      <td>1</td>\n",
       "      <td>2</td>\n",
       "      <td>5</td>\n",
       "      <td>1</td>\n",
       "      <td>1</td>\n",
       "      <td>...</td>\n",
       "      <td>0</td>\n",
       "      <td>0</td>\n",
       "      <td>0</td>\n",
       "      <td>0</td>\n",
       "      <td>0</td>\n",
       "      <td>0</td>\n",
       "      <td>0</td>\n",
       "      <td>0</td>\n",
       "      <td>1</td>\n",
       "      <td>0</td>\n",
       "    </tr>\n",
       "    <tr>\n",
       "      <th>3</th>\n",
       "      <td>2.0</td>\n",
       "      <td>2.0</td>\n",
       "      <td>2.0</td>\n",
       "      <td>9.0</td>\n",
       "      <td>6.0</td>\n",
       "      <td>1</td>\n",
       "      <td>5</td>\n",
       "      <td>4</td>\n",
       "      <td>1</td>\n",
       "      <td>2</td>\n",
       "      <td>...</td>\n",
       "      <td>0</td>\n",
       "      <td>0</td>\n",
       "      <td>0</td>\n",
       "      <td>0</td>\n",
       "      <td>0</td>\n",
       "      <td>0</td>\n",
       "      <td>0</td>\n",
       "      <td>0</td>\n",
       "      <td>0</td>\n",
       "      <td>1</td>\n",
       "    </tr>\n",
       "    <tr>\n",
       "      <th>4</th>\n",
       "      <td>4.0</td>\n",
       "      <td>7.0</td>\n",
       "      <td>6.0</td>\n",
       "      <td>7.0</td>\n",
       "      <td>5.0</td>\n",
       "      <td>1</td>\n",
       "      <td>5</td>\n",
       "      <td>3</td>\n",
       "      <td>1</td>\n",
       "      <td>1</td>\n",
       "      <td>...</td>\n",
       "      <td>0</td>\n",
       "      <td>0</td>\n",
       "      <td>0</td>\n",
       "      <td>0</td>\n",
       "      <td>0</td>\n",
       "      <td>0</td>\n",
       "      <td>0</td>\n",
       "      <td>0</td>\n",
       "      <td>0</td>\n",
       "      <td>1</td>\n",
       "    </tr>\n",
       "  </tbody>\n",
       "</table>\n",
       "<p>5 rows × 374 columns</p>\n",
       "</div>"
      ],
      "text/plain": [
       "   BALLRAUM  CAMEO_DEUG_2015  CJT_GESAMTTYP  D19_GESAMT_DATUM  EWDICHTE  \\\n",
       "0       5.0              5.0            2.0               9.0       5.0   \n",
       "1       5.0              5.0            2.0               1.0       1.0   \n",
       "2       1.0              2.0            4.0               6.0       6.0   \n",
       "3       2.0              2.0            2.0               9.0       6.0   \n",
       "4       4.0              7.0            6.0               7.0       5.0   \n",
       "\n",
       "   FINANZ_ANLEGER  FINANZ_HAUSBAUER  FINANZ_MINIMALIST  FINANZ_SPARER  \\\n",
       "0               2                 5                  3              1   \n",
       "1               2                 3                  5              1   \n",
       "2               1                 2                  5              1   \n",
       "3               1                 5                  4              1   \n",
       "4               1                 5                  3              1   \n",
       "\n",
       "   FINANZ_UNAUFFAELLIGER      ...        CAMEO_DEU_2015_8C  CAMEO_DEU_2015_8D  \\\n",
       "0                      1      ...                        0                  0   \n",
       "1                      1      ...                        0                  0   \n",
       "2                      1      ...                        0                  0   \n",
       "3                      2      ...                        0                  0   \n",
       "4                      1      ...                        0                  0   \n",
       "\n",
       "   CAMEO_DEU_2015_9A  CAMEO_DEU_2015_9B  CAMEO_DEU_2015_9C  CAMEO_DEU_2015_9D  \\\n",
       "0                  0                  0                  0                  0   \n",
       "1                  0                  0                  0                  0   \n",
       "2                  0                  0                  0                  0   \n",
       "3                  0                  0                  0                  0   \n",
       "4                  0                  0                  0                  0   \n",
       "\n",
       "   CAMEO_DEU_2015_9E  CAMEO_DEU_2015_XX  OST_WEST_KZ_O  OST_WEST_KZ_W  \n",
       "0                  0                  0              0              1  \n",
       "1                  0                  0              0              1  \n",
       "2                  0                  0              1              0  \n",
       "3                  0                  0              0              1  \n",
       "4                  0                  0              0              1  \n",
       "\n",
       "[5 rows x 374 columns]"
      ]
     },
     "execution_count": 103,
     "metadata": {},
     "output_type": "execute_result"
    }
   ],
   "source": [
    "mailout_train.head()"
   ]
  },
  {
   "cell_type": "code",
   "execution_count": 104,
   "metadata": {},
   "outputs": [],
   "source": [
    "# extract RESPONSE column\n",
    "response = mailout_train['RESPONSE']"
   ]
  },
  {
   "cell_type": "code",
   "execution_count": 105,
   "metadata": {},
   "outputs": [],
   "source": [
    "# drop RESPONSE column\n",
    "mailout_train.drop(labels=['RESPONSE'], axis=1, inplace=True)"
   ]
  },
  {
   "cell_type": "code",
   "execution_count": 106,
   "metadata": {},
   "outputs": [],
   "source": [
    "mailout_train_scaled = scaler.fit_transform(mailout_train)"
   ]
  },
  {
   "cell_type": "code",
   "execution_count": 107,
   "metadata": {},
   "outputs": [
    {
     "data": {
      "text/plain": [
       "(34999, 373)"
      ]
     },
     "execution_count": 107,
     "metadata": {},
     "output_type": "execute_result"
    }
   ],
   "source": [
    "mailout_train_scaled.shape"
   ]
  },
  {
   "cell_type": "code",
   "execution_count": 108,
   "metadata": {},
   "outputs": [
    {
     "data": {
      "text/plain": [
       "(34999,)"
      ]
     },
     "execution_count": 108,
     "metadata": {},
     "output_type": "execute_result"
    }
   ],
   "source": [
    "\n",
    "response.shape"
   ]
  },
  {
   "cell_type": "code",
   "execution_count": 109,
   "metadata": {},
   "outputs": [],
   "source": [
    "\n",
    "def classify(clf, param_grid, X_train=mailout_train_scaled, y_train=response):\n",
    "    \"\"\"\n",
    "    Fits a classifier to its training data and prints its ROC AUC score.\n",
    "    \n",
    "    INPUT:\n",
    "    - clf (classifier): classifier to fit\n",
    "    - param_grid (dict): classifier parameters used with GridSearchCV\n",
    "    - X_train (DataFrame): training input\n",
    "    - y_train (DataFrame): training output\n",
    "            \n",
    "    OUTPUT:\n",
    "    - classifier: input classifier fitted to the training data\n",
    "    \"\"\"\n",
    "    \n",
    "    # cv uses StratifiedKFold\n",
    "    grid = GridSearchCV(estimator=clf, param_grid=param_grid, scoring='roc_auc', cv=5)\n",
    "    grid.fit(X_train, y_train)\n",
    "    print(grid.best_score_)\n",
    "    \n",
    "    return grid.best_estimator_"
   ]
  },
  {
   "cell_type": "code",
   "execution_count": 110,
   "metadata": {},
   "outputs": [
    {
     "name": "stdout",
     "output_type": "stream",
     "text": [
      "0.661401742324\n"
     ]
    },
    {
     "data": {
      "text/plain": [
       "LogisticRegression(C=1.0, class_weight=None, dual=False, fit_intercept=True,\n",
       "          intercept_scaling=1, max_iter=100, multi_class='ovr', n_jobs=1,\n",
       "          penalty='l2', random_state=12, solver='liblinear', tol=0.0001,\n",
       "          verbose=0, warm_start=False)"
      ]
     },
     "execution_count": 110,
     "metadata": {},
     "output_type": "execute_result"
    }
   ],
   "source": [
    "# LogisticRegression\n",
    "logreg = LogisticRegression(random_state=12)\n",
    "classify(logreg, {})"
   ]
  },
  {
   "cell_type": "code",
   "execution_count": 111,
   "metadata": {},
   "outputs": [
    {
     "name": "stdout",
     "output_type": "stream",
     "text": [
      "0.59974218252\n"
     ]
    },
    {
     "data": {
      "text/plain": [
       "BaggingClassifier(base_estimator=None, bootstrap=True,\n",
       "         bootstrap_features=False, max_features=1.0, max_samples=1.0,\n",
       "         n_estimators=10, n_jobs=1, oob_score=False, random_state=12,\n",
       "         verbose=0, warm_start=False)"
      ]
     },
     "execution_count": 111,
     "metadata": {},
     "output_type": "execute_result"
    }
   ],
   "source": [
    "# BaggingClassifier\n",
    "bac = BaggingClassifier(random_state=12)\n",
    "classify(bac, {})"
   ]
  },
  {
   "cell_type": "code",
   "execution_count": 112,
   "metadata": {},
   "outputs": [
    {
     "name": "stdout",
     "output_type": "stream",
     "text": [
      "0.748909068343\n"
     ]
    }
   ],
   "source": [
    "# AdaBoostClassifier\n",
    "abc = AdaBoostClassifier(random_state=12)\n",
    "abc_best_est = classify(abc, {})"
   ]
  },
  {
   "cell_type": "code",
   "execution_count": 113,
   "metadata": {},
   "outputs": [
    {
     "name": "stdout",
     "output_type": "stream",
     "text": [
      "0.773232932057\n"
     ]
    },
    {
     "data": {
      "text/plain": [
       "GradientBoostingClassifier(criterion='friedman_mse', init=None,\n",
       "              learning_rate=0.1, loss='deviance', max_depth=3,\n",
       "              max_features=None, max_leaf_nodes=None,\n",
       "              min_impurity_decrease=0.0, min_impurity_split=None,\n",
       "              min_samples_leaf=1, min_samples_split=2,\n",
       "              min_weight_fraction_leaf=0.0, n_estimators=100,\n",
       "              presort='auto', random_state=12, subsample=1.0, verbose=0,\n",
       "              warm_start=False)"
      ]
     },
     "execution_count": 113,
     "metadata": {},
     "output_type": "execute_result"
    }
   ],
   "source": [
    "# GradientBoostingClassifier\n",
    "gbc = GradientBoostingClassifier(random_state=12)\n",
    "classify(gbc, {})"
   ]
  },
  {
   "cell_type": "code",
   "execution_count": 114,
   "metadata": {},
   "outputs": [
    {
     "name": "stdout",
     "output_type": "stream",
     "text": [
      "0.773187037071\n"
     ]
    },
    {
     "data": {
      "text/plain": [
       "GradientBoostingClassifier(criterion='friedman_mse', init=None,\n",
       "              learning_rate=0.1, loss='deviance', max_depth=4,\n",
       "              max_features=None, max_leaf_nodes=None,\n",
       "              min_impurity_decrease=0.0, min_impurity_split=None,\n",
       "              min_samples_leaf=1, min_samples_split=2,\n",
       "              min_weight_fraction_leaf=0.0, n_estimators=210,\n",
       "              presort='auto', random_state=12, subsample=1.0, verbose=0,\n",
       "              warm_start=False)"
      ]
     },
     "execution_count": 114,
     "metadata": {},
     "output_type": "execute_result"
    }
   ],
   "source": [
    "# tune with the help of GridSearchCV\n",
    "gbc = GradientBoostingClassifier(random_state=12)\n",
    "param_grid = {'loss': ['deviance', 'exponential'],\n",
    "              'max_depth': [4],\n",
    "              'n_estimators':[210],\n",
    "             }\n",
    "\n",
    "\n",
    "gbc_tuned = classify(gbc, param_grid)\n",
    "gbc_tuned"
   ]
  },
  {
   "cell_type": "code",
   "execution_count": 255,
   "metadata": {},
   "outputs": [
    {
     "name": "stdout",
     "output_type": "stream",
     "text": [
      "0.592776521345\n"
     ]
    },
    {
     "data": {
      "text/plain": [
       "RandomForestRegressor(bootstrap=True, criterion='mse', max_depth=None,\n",
       "           max_features='auto', max_leaf_nodes=None,\n",
       "           min_impurity_decrease=0.0, min_impurity_split=None,\n",
       "           min_samples_leaf=1, min_samples_split=2,\n",
       "           min_weight_fraction_leaf=0.0, n_estimators=10, n_jobs=1,\n",
       "           oob_score=False, random_state=12, verbose=0, warm_start=False)"
      ]
     },
     "execution_count": 255,
     "metadata": {},
     "output_type": "execute_result"
    }
   ],
   "source": [
    "# RandomForestClassifier\n",
    "rfr = RandomForestRegressor(random_state=12)\n",
    "classify(rfr, {})"
   ]
  },
  {
   "cell_type": "code",
   "execution_count": 256,
   "metadata": {
    "scrolled": true
   },
   "outputs": [
    {
     "name": "stdout",
     "output_type": "stream",
     "text": [
      "0.771037049403\n"
     ]
    },
    {
     "data": {
      "text/plain": [
       "RandomForestRegressor(bootstrap=True, criterion='mse', max_depth=4,\n",
       "           max_features=280, max_leaf_nodes=None,\n",
       "           min_impurity_decrease=0.0, min_impurity_split=None,\n",
       "           min_samples_leaf=1, min_samples_split=2,\n",
       "           min_weight_fraction_leaf=0.0, n_estimators=210, n_jobs=2,\n",
       "           oob_score=False, random_state=12, verbose=0, warm_start=False)"
      ]
     },
     "execution_count": 256,
     "metadata": {},
     "output_type": "execute_result"
    }
   ],
   "source": [
    "## tune with the help of GridSearchCV\n",
    "# the result is our model that will be used with the test set\n",
    "param_grid = {\n",
    "    'max_depth': [4],\n",
    "    'n_estimators':[210], \n",
    "    'max_features':[280]\n",
    "}\n",
    "\n",
    "rfr = RandomForestRegressor(random_state=12, n_jobs = 2)\n",
    "\n",
    "estimator_tuned = classify(rfr, param_grid)\n",
    "estimator_tuned"
   ]
  },
  {
   "cell_type": "code",
   "execution_count": null,
   "metadata": {},
   "outputs": [],
   "source": [
    "#XGBoost\n",
    "#param_grid = {\n",
    "#    'n_estimators':[1500],\n",
    "#    'max_depth':[3],\n",
    "#    'learning_rate': [0.001], \n",
    "#    'reg_lambda': [0]\n",
    "#}\n",
    "\n",
    "#estimator =  XGBRegressor(n_jobs = 2)\n",
    "\n",
    "#estimator_tuned = classify(rfr, param_grid)\n",
    "#estimator_tuned"
   ]
  },
  {
   "cell_type": "code",
   "execution_count": 257,
   "metadata": {},
   "outputs": [
    {
     "name": "stdout",
     "output_type": "stream",
     "text": [
      "StratifiedKFold(n_splits=5, random_state=12, shuffle=False)\n"
     ]
    }
   ],
   "source": [
    "# Import StratifiedKFold\n",
    "from sklearn.model_selection import StratifiedKFold\n",
    "\n",
    "# Initialize 5 stratified folds\n",
    "skf = StratifiedKFold(n_splits=5, random_state=12)\n",
    "skf.get_n_splits(mailout_train, response)\n",
    "print(skf)"
   ]
  },
  {
   "cell_type": "code",
   "execution_count": 258,
   "metadata": {},
   "outputs": [],
   "source": [
    "def create_pipeline(clf):\n",
    "    \n",
    "    # Create machine learning pipeline\n",
    "    pipeline = Pipeline([\n",
    "        ('scale', scaler),\n",
    "        ('clf', clf)\n",
    "    ])\n",
    "    \n",
    "    return pipeline"
   ]
  },
  {
   "cell_type": "code",
   "execution_count": 259,
   "metadata": {},
   "outputs": [],
   "source": [
    "def cross_validate(clf):\n",
    "\n",
    "    pipeline = create_pipeline(clf)\n",
    "    scores = []\n",
    "    i = 0\n",
    "\n",
    "    # Perform 5-fold validation\n",
    "    for train_index, test_index in skf.split(mailout_train, response):\n",
    "        i+=1\n",
    "        print('Fold {}'.format(i))\n",
    "        \n",
    "        # Split the data into training and test sets\n",
    "        X_train, X_test = mailout_train.iloc[train_index], mailout_train.iloc[test_index]\n",
    "        y_train, y_test = response.iloc[train_index], response.iloc[test_index]\n",
    "\n",
    "        # Train using the pipeline\n",
    "        pipeline.fit(X_train, y_train)\n",
    "\n",
    "        #Predict on the test data\n",
    "        y_pred = pipeline.predict(X_test)\n",
    "\n",
    "        score = roc_auc_score(y_test, y_pred)\n",
    "        scores.append(score)\n",
    "        print(\"Score: {}\".format(score))\n",
    "        \n",
    "    return scores"
   ]
  },
  {
   "cell_type": "code",
   "execution_count": 260,
   "metadata": {},
   "outputs": [
    {
     "name": "stdout",
     "output_type": "stream",
     "text": [
      "Fold 1\n",
      "Score: 0.613323057840384\n",
      "Fold 2\n",
      "Score: 0.5323611519858471\n",
      "Fold 3\n",
      "Score: 0.6292417584062011\n",
      "Fold 4\n",
      "Score: 0.5906862133810861\n",
      "Fold 5\n",
      "Score: 0.5846728328544062\n"
     ]
    }
   ],
   "source": [
    "from sklearn.metrics import roc_auc_score\n",
    "\n",
    "tuned_scores = cross_validate(rfr)"
   ]
  },
  {
   "cell_type": "code",
   "execution_count": 121,
   "metadata": {},
   "outputs": [
    {
     "name": "stdout",
     "output_type": "stream",
     "text": [
      "Fold 1\n",
      "Score: 0.4997830175032547\n",
      "Fold 2\n",
      "Score: 0.49971069000433965\n",
      "Fold 3\n",
      "Score: 0.49963836250542454\n",
      "Fold 4\n",
      "Score: 0.4997830175032547\n",
      "Fold 5\n",
      "Score: 0.49971064814814814\n"
     ]
    }
   ],
   "source": [
    "tuned_scoredgbc = cross_validate(gbc)"
   ]
  },
  {
   "cell_type": "markdown",
   "metadata": {},
   "source": [
    "## Part 3: Kaggle Competition\n",
    "\n",
    "Now that you've created a model to predict which individuals are most likely to respond to a mailout campaign, it's time to test that model in competition through Kaggle. If you click on the link [here](http://www.kaggle.com/t/21e6d45d4c574c7fa2d868f0e8c83140), you'll be taken to the competition page where, if you have a Kaggle account, you can enter. If you're one of the top performers, you may have the chance to be contacted by a hiring manager from Arvato or Bertelsmann for an interview!\n",
    "\n",
    "Your entry to the competition should be a CSV file with two columns. The first column should be a copy of \"LNR\", which acts as an ID number for each individual in the \"TEST\" partition. The second column, \"RESPONSE\", should be some measure of how likely each individual became a customer – this might not be a straightforward probability. As you should have found in Part 2, there is a large output class imbalance, where most individuals did not respond to the mailout. Thus, predicting individual classes and using accuracy does not seem to be an appropriate performance evaluation method. Instead, the competition will be using AUC to evaluate performance. The exact values of the \"RESPONSE\" column do not matter as much: only that the higher values try to capture as many of the actual customers as possible, early in the ROC curve sweep."
   ]
  },
  {
   "cell_type": "code",
   "execution_count": 238,
   "metadata": {},
   "outputs": [],
   "source": [
    "mailout_test = pd.read_csv('../../data/Term2/capstone/arvato_data/Udacity_MAILOUT_052018_TEST.csv', sep=';', dtype={18:'str', 19:'str'})"
   ]
  },
  {
   "cell_type": "code",
   "execution_count": 239,
   "metadata": {},
   "outputs": [
    {
     "name": "stdout",
     "output_type": "stream",
     "text": [
      "<class 'pandas.core.frame.DataFrame'>\n",
      "RangeIndex: 42833 entries, 0 to 42832\n",
      "Columns: 366 entries, LNR to ALTERSKATEGORIE_GROB\n",
      "dtypes: float64(267), int64(93), object(6)\n",
      "memory usage: 119.6+ MB\n"
     ]
    }
   ],
   "source": [
    "mailout_test.info()"
   ]
  },
  {
   "cell_type": "code",
   "execution_count": 240,
   "metadata": {},
   "outputs": [
    {
     "data": {
      "text/html": [
       "<div>\n",
       "<style scoped>\n",
       "    .dataframe tbody tr th:only-of-type {\n",
       "        vertical-align: middle;\n",
       "    }\n",
       "\n",
       "    .dataframe tbody tr th {\n",
       "        vertical-align: top;\n",
       "    }\n",
       "\n",
       "    .dataframe thead th {\n",
       "        text-align: right;\n",
       "    }\n",
       "</style>\n",
       "<table border=\"1\" class=\"dataframe\">\n",
       "  <thead>\n",
       "    <tr style=\"text-align: right;\">\n",
       "      <th></th>\n",
       "      <th>LNR</th>\n",
       "      <th>AGER_TYP</th>\n",
       "      <th>AKT_DAT_KL</th>\n",
       "      <th>ALTER_HH</th>\n",
       "      <th>ALTER_KIND1</th>\n",
       "      <th>ALTER_KIND2</th>\n",
       "      <th>ALTER_KIND3</th>\n",
       "      <th>ALTER_KIND4</th>\n",
       "      <th>ALTERSKATEGORIE_FEIN</th>\n",
       "      <th>ANZ_HAUSHALTE_AKTIV</th>\n",
       "      <th>...</th>\n",
       "      <th>VHN</th>\n",
       "      <th>VK_DHT4A</th>\n",
       "      <th>VK_DISTANZ</th>\n",
       "      <th>VK_ZG11</th>\n",
       "      <th>W_KEIT_KIND_HH</th>\n",
       "      <th>WOHNDAUER_2008</th>\n",
       "      <th>WOHNLAGE</th>\n",
       "      <th>ZABEOTYP</th>\n",
       "      <th>ANREDE_KZ</th>\n",
       "      <th>ALTERSKATEGORIE_GROB</th>\n",
       "    </tr>\n",
       "  </thead>\n",
       "  <tbody>\n",
       "    <tr>\n",
       "      <th>0</th>\n",
       "      <td>1754</td>\n",
       "      <td>2</td>\n",
       "      <td>1.0</td>\n",
       "      <td>7.0</td>\n",
       "      <td>NaN</td>\n",
       "      <td>NaN</td>\n",
       "      <td>NaN</td>\n",
       "      <td>NaN</td>\n",
       "      <td>6.0</td>\n",
       "      <td>2.0</td>\n",
       "      <td>...</td>\n",
       "      <td>4.0</td>\n",
       "      <td>5.0</td>\n",
       "      <td>6.0</td>\n",
       "      <td>3.0</td>\n",
       "      <td>6.0</td>\n",
       "      <td>9.0</td>\n",
       "      <td>3.0</td>\n",
       "      <td>3</td>\n",
       "      <td>1</td>\n",
       "      <td>4</td>\n",
       "    </tr>\n",
       "    <tr>\n",
       "      <th>1</th>\n",
       "      <td>1770</td>\n",
       "      <td>-1</td>\n",
       "      <td>1.0</td>\n",
       "      <td>0.0</td>\n",
       "      <td>NaN</td>\n",
       "      <td>NaN</td>\n",
       "      <td>NaN</td>\n",
       "      <td>NaN</td>\n",
       "      <td>0.0</td>\n",
       "      <td>20.0</td>\n",
       "      <td>...</td>\n",
       "      <td>1.0</td>\n",
       "      <td>5.0</td>\n",
       "      <td>2.0</td>\n",
       "      <td>1.0</td>\n",
       "      <td>6.0</td>\n",
       "      <td>9.0</td>\n",
       "      <td>5.0</td>\n",
       "      <td>3</td>\n",
       "      <td>1</td>\n",
       "      <td>4</td>\n",
       "    </tr>\n",
       "    <tr>\n",
       "      <th>2</th>\n",
       "      <td>1465</td>\n",
       "      <td>2</td>\n",
       "      <td>9.0</td>\n",
       "      <td>16.0</td>\n",
       "      <td>NaN</td>\n",
       "      <td>NaN</td>\n",
       "      <td>NaN</td>\n",
       "      <td>NaN</td>\n",
       "      <td>11.0</td>\n",
       "      <td>2.0</td>\n",
       "      <td>...</td>\n",
       "      <td>3.0</td>\n",
       "      <td>9.0</td>\n",
       "      <td>6.0</td>\n",
       "      <td>3.0</td>\n",
       "      <td>2.0</td>\n",
       "      <td>9.0</td>\n",
       "      <td>4.0</td>\n",
       "      <td>3</td>\n",
       "      <td>2</td>\n",
       "      <td>4</td>\n",
       "    </tr>\n",
       "    <tr>\n",
       "      <th>3</th>\n",
       "      <td>1470</td>\n",
       "      <td>-1</td>\n",
       "      <td>7.0</td>\n",
       "      <td>0.0</td>\n",
       "      <td>NaN</td>\n",
       "      <td>NaN</td>\n",
       "      <td>NaN</td>\n",
       "      <td>NaN</td>\n",
       "      <td>0.0</td>\n",
       "      <td>1.0</td>\n",
       "      <td>...</td>\n",
       "      <td>2.0</td>\n",
       "      <td>6.0</td>\n",
       "      <td>6.0</td>\n",
       "      <td>3.0</td>\n",
       "      <td>NaN</td>\n",
       "      <td>9.0</td>\n",
       "      <td>2.0</td>\n",
       "      <td>3</td>\n",
       "      <td>2</td>\n",
       "      <td>4</td>\n",
       "    </tr>\n",
       "    <tr>\n",
       "      <th>4</th>\n",
       "      <td>1478</td>\n",
       "      <td>1</td>\n",
       "      <td>1.0</td>\n",
       "      <td>21.0</td>\n",
       "      <td>NaN</td>\n",
       "      <td>NaN</td>\n",
       "      <td>NaN</td>\n",
       "      <td>NaN</td>\n",
       "      <td>13.0</td>\n",
       "      <td>1.0</td>\n",
       "      <td>...</td>\n",
       "      <td>1.0</td>\n",
       "      <td>2.0</td>\n",
       "      <td>4.0</td>\n",
       "      <td>3.0</td>\n",
       "      <td>3.0</td>\n",
       "      <td>9.0</td>\n",
       "      <td>7.0</td>\n",
       "      <td>4</td>\n",
       "      <td>2</td>\n",
       "      <td>4</td>\n",
       "    </tr>\n",
       "    <tr>\n",
       "      <th>5</th>\n",
       "      <td>1782</td>\n",
       "      <td>2</td>\n",
       "      <td>1.0</td>\n",
       "      <td>7.0</td>\n",
       "      <td>NaN</td>\n",
       "      <td>NaN</td>\n",
       "      <td>NaN</td>\n",
       "      <td>NaN</td>\n",
       "      <td>7.0</td>\n",
       "      <td>66.0</td>\n",
       "      <td>...</td>\n",
       "      <td>4.0</td>\n",
       "      <td>9.0</td>\n",
       "      <td>10.0</td>\n",
       "      <td>7.0</td>\n",
       "      <td>6.0</td>\n",
       "      <td>9.0</td>\n",
       "      <td>3.0</td>\n",
       "      <td>6</td>\n",
       "      <td>1</td>\n",
       "      <td>4</td>\n",
       "    </tr>\n",
       "    <tr>\n",
       "      <th>6</th>\n",
       "      <td>1485</td>\n",
       "      <td>2</td>\n",
       "      <td>1.0</td>\n",
       "      <td>10.0</td>\n",
       "      <td>NaN</td>\n",
       "      <td>NaN</td>\n",
       "      <td>NaN</td>\n",
       "      <td>NaN</td>\n",
       "      <td>9.0</td>\n",
       "      <td>1.0</td>\n",
       "      <td>...</td>\n",
       "      <td>2.0</td>\n",
       "      <td>1.0</td>\n",
       "      <td>2.0</td>\n",
       "      <td>1.0</td>\n",
       "      <td>6.0</td>\n",
       "      <td>9.0</td>\n",
       "      <td>3.0</td>\n",
       "      <td>3</td>\n",
       "      <td>2</td>\n",
       "      <td>4</td>\n",
       "    </tr>\n",
       "    <tr>\n",
       "      <th>7</th>\n",
       "      <td>1519</td>\n",
       "      <td>-1</td>\n",
       "      <td>1.0</td>\n",
       "      <td>20.0</td>\n",
       "      <td>NaN</td>\n",
       "      <td>NaN</td>\n",
       "      <td>NaN</td>\n",
       "      <td>NaN</td>\n",
       "      <td>15.0</td>\n",
       "      <td>1.0</td>\n",
       "      <td>...</td>\n",
       "      <td>2.0</td>\n",
       "      <td>4.0</td>\n",
       "      <td>5.0</td>\n",
       "      <td>4.0</td>\n",
       "      <td>2.0</td>\n",
       "      <td>9.0</td>\n",
       "      <td>3.0</td>\n",
       "      <td>4</td>\n",
       "      <td>2</td>\n",
       "      <td>3</td>\n",
       "    </tr>\n",
       "    <tr>\n",
       "      <th>8</th>\n",
       "      <td>1835</td>\n",
       "      <td>1</td>\n",
       "      <td>1.0</td>\n",
       "      <td>19.0</td>\n",
       "      <td>NaN</td>\n",
       "      <td>NaN</td>\n",
       "      <td>NaN</td>\n",
       "      <td>NaN</td>\n",
       "      <td>13.0</td>\n",
       "      <td>2.0</td>\n",
       "      <td>...</td>\n",
       "      <td>1.0</td>\n",
       "      <td>1.0</td>\n",
       "      <td>1.0</td>\n",
       "      <td>1.0</td>\n",
       "      <td>4.0</td>\n",
       "      <td>9.0</td>\n",
       "      <td>7.0</td>\n",
       "      <td>1</td>\n",
       "      <td>2</td>\n",
       "      <td>3</td>\n",
       "    </tr>\n",
       "    <tr>\n",
       "      <th>9</th>\n",
       "      <td>1522</td>\n",
       "      <td>1</td>\n",
       "      <td>1.0</td>\n",
       "      <td>0.0</td>\n",
       "      <td>NaN</td>\n",
       "      <td>NaN</td>\n",
       "      <td>NaN</td>\n",
       "      <td>NaN</td>\n",
       "      <td>9.0</td>\n",
       "      <td>1.0</td>\n",
       "      <td>...</td>\n",
       "      <td>2.0</td>\n",
       "      <td>5.0</td>\n",
       "      <td>8.0</td>\n",
       "      <td>9.0</td>\n",
       "      <td>3.0</td>\n",
       "      <td>4.0</td>\n",
       "      <td>2.0</td>\n",
       "      <td>4</td>\n",
       "      <td>1</td>\n",
       "      <td>3</td>\n",
       "    </tr>\n",
       "  </tbody>\n",
       "</table>\n",
       "<p>10 rows × 366 columns</p>\n",
       "</div>"
      ],
      "text/plain": [
       "    LNR  AGER_TYP  AKT_DAT_KL  ALTER_HH  ALTER_KIND1  ALTER_KIND2  \\\n",
       "0  1754         2         1.0       7.0          NaN          NaN   \n",
       "1  1770        -1         1.0       0.0          NaN          NaN   \n",
       "2  1465         2         9.0      16.0          NaN          NaN   \n",
       "3  1470        -1         7.0       0.0          NaN          NaN   \n",
       "4  1478         1         1.0      21.0          NaN          NaN   \n",
       "5  1782         2         1.0       7.0          NaN          NaN   \n",
       "6  1485         2         1.0      10.0          NaN          NaN   \n",
       "7  1519        -1         1.0      20.0          NaN          NaN   \n",
       "8  1835         1         1.0      19.0          NaN          NaN   \n",
       "9  1522         1         1.0       0.0          NaN          NaN   \n",
       "\n",
       "   ALTER_KIND3  ALTER_KIND4  ALTERSKATEGORIE_FEIN  ANZ_HAUSHALTE_AKTIV  \\\n",
       "0          NaN          NaN                   6.0                  2.0   \n",
       "1          NaN          NaN                   0.0                 20.0   \n",
       "2          NaN          NaN                  11.0                  2.0   \n",
       "3          NaN          NaN                   0.0                  1.0   \n",
       "4          NaN          NaN                  13.0                  1.0   \n",
       "5          NaN          NaN                   7.0                 66.0   \n",
       "6          NaN          NaN                   9.0                  1.0   \n",
       "7          NaN          NaN                  15.0                  1.0   \n",
       "8          NaN          NaN                  13.0                  2.0   \n",
       "9          NaN          NaN                   9.0                  1.0   \n",
       "\n",
       "          ...           VHN  VK_DHT4A  VK_DISTANZ  VK_ZG11  W_KEIT_KIND_HH  \\\n",
       "0         ...           4.0       5.0         6.0      3.0             6.0   \n",
       "1         ...           1.0       5.0         2.0      1.0             6.0   \n",
       "2         ...           3.0       9.0         6.0      3.0             2.0   \n",
       "3         ...           2.0       6.0         6.0      3.0             NaN   \n",
       "4         ...           1.0       2.0         4.0      3.0             3.0   \n",
       "5         ...           4.0       9.0        10.0      7.0             6.0   \n",
       "6         ...           2.0       1.0         2.0      1.0             6.0   \n",
       "7         ...           2.0       4.0         5.0      4.0             2.0   \n",
       "8         ...           1.0       1.0         1.0      1.0             4.0   \n",
       "9         ...           2.0       5.0         8.0      9.0             3.0   \n",
       "\n",
       "   WOHNDAUER_2008  WOHNLAGE ZABEOTYP ANREDE_KZ ALTERSKATEGORIE_GROB  \n",
       "0             9.0       3.0        3         1                    4  \n",
       "1             9.0       5.0        3         1                    4  \n",
       "2             9.0       4.0        3         2                    4  \n",
       "3             9.0       2.0        3         2                    4  \n",
       "4             9.0       7.0        4         2                    4  \n",
       "5             9.0       3.0        6         1                    4  \n",
       "6             9.0       3.0        3         2                    4  \n",
       "7             9.0       3.0        4         2                    3  \n",
       "8             9.0       7.0        1         2                    3  \n",
       "9             4.0       2.0        4         1                    3  \n",
       "\n",
       "[10 rows x 366 columns]"
      ]
     },
     "execution_count": 240,
     "metadata": {},
     "output_type": "execute_result"
    }
   ],
   "source": [
    "mailout_test.head(10)"
   ]
  },
  {
   "cell_type": "code",
   "execution_count": 241,
   "metadata": {},
   "outputs": [
    {
     "name": "stdout",
     "output_type": "stream",
     "text": [
      "Features in azdias that are not in feat_list:\n",
      "82\n",
      "['KONSUMNAEHE', 'KBA13_CCM_1401_2500', 'PLZ8_BAUMAX', 'CJT_TYP_1', 'AKT_DAT_KL', 'D19_VERSI_ONLINE_DATUM', 'MOBI_REGIO', 'EINGEZOGENAM_HH_JAHR', 'D19_BUCH_CD', 'ANZ_HH_TITEL', 'UNGLEICHENN_FLAG', 'VHN', 'ALTER_KIND4', 'STRUKTURTYP', 'UMFELD_JUNG', 'MOBI_RASTER', 'D19_KONSUMTYP', 'VERDICHTUNGSRAUM', 'VHA', 'CJT_TYP_4', 'ALTERSKATEGORIE_FEIN', 'KBA13_HHZ', 'ONLINE_AFFINITAET', 'RT_KEIN_ANREIZ', 'D19_VERSI_DATUM', 'ALTER_KIND1', 'CJT_TYP_5', 'LP_STATUS_GROB', 'ANZ_KINDER', 'KBA13_ANZAHL_PKW', 'ANZ_STATISTISCHE_HAUSHALTE', 'D19_TELKO_ONLINE_QUOTE_12', 'VK_ZG11', 'CJT_TYP_2', 'D19_VERSI_OFFLINE_DATUM', 'KK_KUNDENTYP', 'KBA13_GBZ', 'ALTER_KIND3', 'ALTER_KIND2', 'DSL_FLAG', 'CJT_TYP_3', 'D19_KONSUMTYP_MAX', 'GEBURTSJAHR', 'KBA13_ANTG4', 'RT_UEBERGROESSE', 'D19_VERSI_ONLINE_QUOTE_12', 'D19_SOZIALES', 'MIN_GEBAEUDEJAHR', 'LP_FAMILIE_GROB', 'UMFELD_ALT', 'EINGEFUEGT_AM', 'RT_SCHNAEPPCHEN', 'FIRMENDICHTE', 'ANZ_TITEL', 'CAMEO_DEU_2015', 'KONSUMZELLE', 'KBA13_BAUMAX', 'CJT_KATALOGNUTZER', 'VK_DHT4A', 'KBA13_ANTG2', 'LP_LEBENSPHASE_GROB', 'CJT_TYP_6', 'GREEN_AVANTGARDE', 'CAMEO_INTL_2015', 'LP_STATUS_FEIN', 'LP_FAMILIE_FEIN', 'ARBEIT', 'KBA13_KMH_210', 'GEMEINDETYP', 'LP_LEBENSPHASE_FEIN', 'GEBAEUDETYP_RASTER', 'D19_LETZTER_KAUF_BRANCHE', 'KBA13_ANTG3', 'HH_DELTA_FLAG', 'VK_DISTANZ', 'GFK_URLAUBERTYP', 'ANZ_PERSONEN', 'LNR', 'KOMBIALTER', 'KBA13_ANTG1', 'EXTSEL992', 'ANZ_HAUSHALTE_AKTIV']\n",
      "***\n"
     ]
    }
   ],
   "source": [
    "#look to see if the is a difference between azdias and feat_list\n",
    "diff_test_feat = list(set(mailout_test)- set(feat_list))\n",
    "print('Features in azdias that are not in feat_list:')\n",
    "print(len(diff_test_feat))\n",
    "print(diff_test_feat)\n",
    "print('***')"
   ]
  },
  {
   "cell_type": "code",
   "execution_count": 242,
   "metadata": {},
   "outputs": [
    {
     "name": "stdout",
     "output_type": "stream",
     "text": [
      "Convert missing values\n",
      "dropping missing_col_updated\n"
     ]
    }
   ],
   "source": [
    "# clean data\n",
    "mailout_test = clean_data(mailout_test, feat_info, diff_test_feat )"
   ]
  },
  {
   "cell_type": "code",
   "execution_count": 243,
   "metadata": {},
   "outputs": [],
   "source": [
    "nan_cols = mailout_test.columns[mailout_test.isnull().any()].tolist()"
   ]
  },
  {
   "cell_type": "code",
   "execution_count": 244,
   "metadata": {},
   "outputs": [],
   "source": [
    "for col in nan_cols:\n",
    "    impute_na(mailout_test, col)"
   ]
  },
  {
   "cell_type": "code",
   "execution_count": 245,
   "metadata": {},
   "outputs": [
    {
     "data": {
      "text/plain": [
       "float64    256\n",
       "int64       33\n",
       "object       4\n",
       "dtype: int64"
      ]
     },
     "execution_count": 245,
     "metadata": {},
     "output_type": "execute_result"
    }
   ],
   "source": [
    "mailout_test.dtypes.value_counts()"
   ]
  },
  {
   "cell_type": "code",
   "execution_count": 246,
   "metadata": {},
   "outputs": [],
   "source": [
    "mailout_test= engineer(mailout_test)"
   ]
  },
  {
   "cell_type": "code",
   "execution_count": 247,
   "metadata": {},
   "outputs": [],
   "source": [
    "mailout_test_scaled = scaler.transform(mailout_test)"
   ]
  },
  {
   "cell_type": "code",
   "execution_count": 248,
   "metadata": {},
   "outputs": [],
   "source": [
    "lnr = mailout_test.LNR"
   ]
  },
  {
   "cell_type": "code",
   "execution_count": 261,
   "metadata": {},
   "outputs": [
    {
     "data": {
      "text/plain": [
       "array([ 0.0348702 ,  0.03656635,  0.00337135, ...,  0.03106539,\n",
       "        0.02072818,  0.02558248])"
      ]
     },
     "execution_count": 261,
     "metadata": {},
     "output_type": "execute_result"
    }
   ],
   "source": [
    "# use the trained model from Part 2 to predict the probabilties of the testing data \n",
    "response_test = estimator_tuned.predict(mailout_test_scaled)\n",
    "response_test"
   ]
  },
  {
   "cell_type": "code",
   "execution_count": 250,
   "metadata": {},
   "outputs": [
    {
     "data": {
      "text/plain": [
       "(42833, 2)"
      ]
     },
     "execution_count": 250,
     "metadata": {},
     "output_type": "execute_result"
    }
   ],
   "source": [
    "response_test.shape"
   ]
  },
  {
   "cell_type": "code",
   "execution_count": 251,
   "metadata": {},
   "outputs": [
    {
     "data": {
      "text/plain": [
       "42833"
      ]
     },
     "execution_count": 251,
     "metadata": {},
     "output_type": "execute_result"
    }
   ],
   "source": [
    "len(lnr)"
   ]
  },
  {
   "cell_type": "code",
   "execution_count": 262,
   "metadata": {},
   "outputs": [
    {
     "data": {
      "text/html": [
       "<div>\n",
       "<style scoped>\n",
       "    .dataframe tbody tr th:only-of-type {\n",
       "        vertical-align: middle;\n",
       "    }\n",
       "\n",
       "    .dataframe tbody tr th {\n",
       "        vertical-align: top;\n",
       "    }\n",
       "\n",
       "    .dataframe thead th {\n",
       "        text-align: right;\n",
       "    }\n",
       "</style>\n",
       "<table border=\"1\" class=\"dataframe\">\n",
       "  <thead>\n",
       "    <tr style=\"text-align: right;\">\n",
       "      <th></th>\n",
       "      <th>LNR</th>\n",
       "      <th>RESPONSE</th>\n",
       "    </tr>\n",
       "  </thead>\n",
       "  <tbody>\n",
       "    <tr>\n",
       "      <th>0</th>\n",
       "      <td>1754</td>\n",
       "      <td>0.034870</td>\n",
       "    </tr>\n",
       "    <tr>\n",
       "      <th>1</th>\n",
       "      <td>1770</td>\n",
       "      <td>0.036566</td>\n",
       "    </tr>\n",
       "    <tr>\n",
       "      <th>2</th>\n",
       "      <td>1465</td>\n",
       "      <td>0.003371</td>\n",
       "    </tr>\n",
       "    <tr>\n",
       "      <th>3</th>\n",
       "      <td>1470</td>\n",
       "      <td>0.004045</td>\n",
       "    </tr>\n",
       "    <tr>\n",
       "      <th>4</th>\n",
       "      <td>1478</td>\n",
       "      <td>0.005207</td>\n",
       "    </tr>\n",
       "    <tr>\n",
       "      <th>5</th>\n",
       "      <td>1782</td>\n",
       "      <td>0.002794</td>\n",
       "    </tr>\n",
       "    <tr>\n",
       "      <th>6</th>\n",
       "      <td>1485</td>\n",
       "      <td>0.004077</td>\n",
       "    </tr>\n",
       "    <tr>\n",
       "      <th>7</th>\n",
       "      <td>1519</td>\n",
       "      <td>0.035077</td>\n",
       "    </tr>\n",
       "    <tr>\n",
       "      <th>8</th>\n",
       "      <td>1835</td>\n",
       "      <td>0.033680</td>\n",
       "    </tr>\n",
       "    <tr>\n",
       "      <th>9</th>\n",
       "      <td>1522</td>\n",
       "      <td>0.004476</td>\n",
       "    </tr>\n",
       "  </tbody>\n",
       "</table>\n",
       "</div>"
      ],
      "text/plain": [
       "    LNR  RESPONSE\n",
       "0  1754  0.034870\n",
       "1  1770  0.036566\n",
       "2  1465  0.003371\n",
       "3  1470  0.004045\n",
       "4  1478  0.005207\n",
       "5  1782  0.002794\n",
       "6  1485  0.004077\n",
       "7  1519  0.035077\n",
       "8  1835  0.033680\n",
       "9  1522  0.004476"
      ]
     },
     "execution_count": 262,
     "metadata": {},
     "output_type": "execute_result"
    }
   ],
   "source": [
    "# generate result file for the competition\n",
    "result = pd.DataFrame({'LNR':lnr, 'RESPONSE':response_test[:,]})\n",
    "result.head(10)"
   ]
  },
  {
   "cell_type": "code",
   "execution_count": 264,
   "metadata": {},
   "outputs": [],
   "source": [
    "result.to_csv('kaggle_results.csv', sep =',')"
   ]
  },
  {
   "cell_type": "code",
   "execution_count": null,
   "metadata": {},
   "outputs": [],
   "source": []
  },
  {
   "cell_type": "code",
   "execution_count": null,
   "metadata": {},
   "outputs": [],
   "source": []
  }
 ],
 "metadata": {
  "kernelspec": {
   "display_name": "Python 3",
   "language": "python",
   "name": "python3"
  },
  "language_info": {
   "codemirror_mode": {
    "name": "ipython",
    "version": 3
   },
   "file_extension": ".py",
   "mimetype": "text/x-python",
   "name": "python",
   "nbconvert_exporter": "python",
   "pygments_lexer": "ipython3",
   "version": "3.6.3"
  }
 },
 "nbformat": 4,
 "nbformat_minor": 2
}
